{
  "nbformat": 4,
  "nbformat_minor": 0,
  "metadata": {
    "colab": {
      "name": "RFM_Deneme.ipynb",
      "provenance": [],
      "collapsed_sections": [],
      "authorship_tag": "ABX9TyNwEjiuQvejgMv2KltNEDU2",
      "include_colab_link": true
    },
    "kernelspec": {
      "name": "python3",
      "display_name": "Python 3"
    }
  },
  "cells": [
    {
      "cell_type": "markdown",
      "metadata": {
        "id": "view-in-github",
        "colab_type": "text"
      },
      "source": [
        "<a href=\"https://colab.research.google.com/github/KaanErdogdu/Prjoject_1_RFM_Analysis/blob/master/RFM_Analysis.ipynb\" target=\"_parent\"><img src=\"https://colab.research.google.com/assets/colab-badge.svg\" alt=\"Open In Colab\"/></a>"
      ]
    },
    {
      "cell_type": "code",
      "metadata": {
        "id": "qa9gVZhhulYj",
        "colab_type": "code",
        "colab": {}
      },
      "source": [
        "import matplotlib.pyplot as plt\n",
        "import seaborn as sns\n",
        "import numpy as np\n",
        "import pandas as pd\n",
        "import seaborn as sns\n",
        "import scipy.stats as stats\n",
        "from scipy.stats.mstats import winsorize\n",
        "from sqlalchemy import create_engine\n",
        "import warnings\n",
        "from datetime import datetime as dt, timedelta\n",
        "import datetime as dt\n",
        "import re\n",
        "\n",
        "\n",
        "warnings.filterwarnings('ignore')\n",
        "sns.set(style=\"whitegrid\")\n",
        "baslik_font = {'family': 'arial', 'color': 'darkred','weight': 'bold','size': 13 }\n",
        "eksen_font  = {'family': 'arial', 'color': 'darkblue','weight': 'bold','size': 10 }"
      ],
      "execution_count": 2,
      "outputs": []
    },
    {
      "cell_type": "code",
      "metadata": {
        "id": "JU-dR5JZupS2",
        "colab_type": "code",
        "colab": {}
      },
      "source": [
        "projectData=pd.read_csv(\"RFM _Raw_Data.csv\")"
      ],
      "execution_count": 3,
      "outputs": []
    },
    {
      "cell_type": "code",
      "metadata": {
        "id": "FKOrCLsuu0It",
        "colab_type": "code",
        "colab": {
          "base_uri": "https://localhost:8080/",
          "height": 302
        },
        "outputId": "e170859e-ac93-41ed-cdeb-b24b8948eb6a"
      },
      "source": [
        "projectData.head()"
      ],
      "execution_count": 4,
      "outputs": [
        {
          "output_type": "execute_result",
          "data": {
            "text/html": [
              "<div>\n",
              "<style scoped>\n",
              "    .dataframe tbody tr th:only-of-type {\n",
              "        vertical-align: middle;\n",
              "    }\n",
              "\n",
              "    .dataframe tbody tr th {\n",
              "        vertical-align: top;\n",
              "    }\n",
              "\n",
              "    .dataframe thead th {\n",
              "        text-align: right;\n",
              "    }\n",
              "</style>\n",
              "<table border=\"1\" class=\"dataframe\">\n",
              "  <thead>\n",
              "    <tr style=\"text-align: right;\">\n",
              "      <th></th>\n",
              "      <th>cd_user_id</th>\n",
              "      <th>cd_user_signup_date</th>\n",
              "      <th>Transaction ID</th>\n",
              "      <th>Date</th>\n",
              "      <th>Revenue</th>\n",
              "      <th>Quantity</th>\n",
              "    </tr>\n",
              "  </thead>\n",
              "  <tbody>\n",
              "    <tr>\n",
              "      <th>0</th>\n",
              "      <td>67A9CBA3-FDC3-E811-90F9-00155D619647</td>\n",
              "      <td>20181122</td>\n",
              "      <td>2249427486</td>\n",
              "      <td>20200430</td>\n",
              "      <td>128970.00</td>\n",
              "      <td>10</td>\n",
              "    </tr>\n",
              "    <tr>\n",
              "      <th>1</th>\n",
              "      <td>67A9CBA3-FDC3-E811-90F9-00155D619647</td>\n",
              "      <td>20181122</td>\n",
              "      <td>2249427729</td>\n",
              "      <td>20200430</td>\n",
              "      <td>128970.00</td>\n",
              "      <td>10</td>\n",
              "    </tr>\n",
              "    <tr>\n",
              "      <th>2</th>\n",
              "      <td>67A9CBA3-FDC3-E811-90F9-00155D619647</td>\n",
              "      <td>20181122</td>\n",
              "      <td>2249908620</td>\n",
              "      <td>20200514</td>\n",
              "      <td>122091.00</td>\n",
              "      <td>9</td>\n",
              "    </tr>\n",
              "    <tr>\n",
              "      <th>3</th>\n",
              "      <td>67A9CBA3-FDC3-E811-90F9-00155D619647</td>\n",
              "      <td>20181122</td>\n",
              "      <td>2248612580</td>\n",
              "      <td>20200415</td>\n",
              "      <td>118670.00</td>\n",
              "      <td>30</td>\n",
              "    </tr>\n",
              "    <tr>\n",
              "      <th>4</th>\n",
              "      <td>5606F992-F6CA-E911-80CB-00155D61134E</td>\n",
              "      <td>20191023</td>\n",
              "      <td>2249010961</td>\n",
              "      <td>20200421</td>\n",
              "      <td>103494.99</td>\n",
              "      <td>15</td>\n",
              "    </tr>\n",
              "  </tbody>\n",
              "</table>\n",
              "</div>"
            ],
            "text/plain": [
              "                             cd_user_id  ...  Quantity\n",
              "0  67A9CBA3-FDC3-E811-90F9-00155D619647  ...        10\n",
              "1  67A9CBA3-FDC3-E811-90F9-00155D619647  ...        10\n",
              "2  67A9CBA3-FDC3-E811-90F9-00155D619647  ...         9\n",
              "3  67A9CBA3-FDC3-E811-90F9-00155D619647  ...        30\n",
              "4  5606F992-F6CA-E911-80CB-00155D61134E  ...        15\n",
              "\n",
              "[5 rows x 6 columns]"
            ]
          },
          "metadata": {
            "tags": []
          },
          "execution_count": 4
        }
      ]
    },
    {
      "cell_type": "code",
      "metadata": {
        "id": "rvgEbuPevIp3",
        "colab_type": "code",
        "colab": {}
      },
      "source": [
        "projectData.columns = ['User_ID', 'SignUp_Date', 'Transaction_ID', 'Date', 'Revenue','Quantity']"
      ],
      "execution_count": 5,
      "outputs": []
    },
    {
      "cell_type": "code",
      "metadata": {
        "id": "yroFkHBbxFKW",
        "colab_type": "code",
        "colab": {
          "base_uri": "https://localhost:8080/",
          "height": 242
        },
        "outputId": "1c3869c9-ed48-4b6e-eb5e-30e3d1eb7e94"
      },
      "source": [
        "projectData.info()"
      ],
      "execution_count": 6,
      "outputs": [
        {
          "output_type": "stream",
          "text": [
            "<class 'pandas.core.frame.DataFrame'>\n",
            "RangeIndex: 179261 entries, 0 to 179260\n",
            "Data columns (total 6 columns):\n",
            " #   Column          Non-Null Count   Dtype  \n",
            "---  ------          --------------   -----  \n",
            " 0   User_ID         179261 non-null  object \n",
            " 1   SignUp_Date     179261 non-null  int64  \n",
            " 2   Transaction_ID  179261 non-null  object \n",
            " 3   Date            179261 non-null  int64  \n",
            " 4   Revenue         179261 non-null  float64\n",
            " 5   Quantity        179261 non-null  int64  \n",
            "dtypes: float64(1), int64(3), object(2)\n",
            "memory usage: 8.2+ MB\n"
          ],
          "name": "stdout"
        }
      ]
    },
    {
      "cell_type": "code",
      "metadata": {
        "id": "c-4Ka-IPxHbY",
        "colab_type": "code",
        "colab": {
          "base_uri": "https://localhost:8080/",
          "height": 224
        },
        "outputId": "63835ae4-dcdb-4354-b089-bdd72d7d8c53"
      },
      "source": [
        "projectData['DateTime'] = projectData['Date'].apply(lambda x: pd.to_datetime(str(x), format='%Y%m%d'))\n",
        "projectData['DateTime']"
      ],
      "execution_count": 7,
      "outputs": [
        {
          "output_type": "execute_result",
          "data": {
            "text/plain": [
              "0        2020-04-30\n",
              "1        2020-04-30\n",
              "2        2020-05-14\n",
              "3        2020-04-15\n",
              "4        2020-04-21\n",
              "            ...    \n",
              "179256   2020-02-12\n",
              "179257   2020-04-26\n",
              "179258   2020-02-14\n",
              "179259   2020-04-09\n",
              "179260   2020-03-25\n",
              "Name: DateTime, Length: 179261, dtype: datetime64[ns]"
            ]
          },
          "metadata": {
            "tags": []
          },
          "execution_count": 7
        }
      ]
    },
    {
      "cell_type": "code",
      "metadata": {
        "id": "bmc9t5FFxK_2",
        "colab_type": "code",
        "colab": {
          "base_uri": "https://localhost:8080/",
          "height": 224
        },
        "outputId": "9a20f2ca-5838-4aba-b132-cc3b564c3d6c"
      },
      "source": [
        "projectData['SignUp_DateTime'] = projectData['SignUp_Date'].apply(lambda x: pd.to_datetime(str(x), format='%Y%m%d'))\n",
        "projectData['SignUp_DateTime']"
      ],
      "execution_count": 8,
      "outputs": [
        {
          "output_type": "execute_result",
          "data": {
            "text/plain": [
              "0        2018-11-22\n",
              "1        2018-11-22\n",
              "2        2018-11-22\n",
              "3        2018-11-22\n",
              "4        2019-10-23\n",
              "            ...    \n",
              "179256   2020-02-12\n",
              "179257   2018-11-22\n",
              "179258   2020-01-08\n",
              "179259   2020-04-09\n",
              "179260   2020-02-28\n",
              "Name: SignUp_DateTime, Length: 179261, dtype: datetime64[ns]"
            ]
          },
          "metadata": {
            "tags": []
          },
          "execution_count": 8
        }
      ]
    },
    {
      "cell_type": "code",
      "metadata": {
        "id": "Ht2RxxE_xUEc",
        "colab_type": "code",
        "colab": {
          "base_uri": "https://localhost:8080/",
          "height": 440
        },
        "outputId": "fa0ce9ae-97e4-4127-92db-fb35672e0592"
      },
      "source": [
        "projectData.head()"
      ],
      "execution_count": 9,
      "outputs": [
        {
          "output_type": "execute_result",
          "data": {
            "text/html": [
              "<div>\n",
              "<style scoped>\n",
              "    .dataframe tbody tr th:only-of-type {\n",
              "        vertical-align: middle;\n",
              "    }\n",
              "\n",
              "    .dataframe tbody tr th {\n",
              "        vertical-align: top;\n",
              "    }\n",
              "\n",
              "    .dataframe thead th {\n",
              "        text-align: right;\n",
              "    }\n",
              "</style>\n",
              "<table border=\"1\" class=\"dataframe\">\n",
              "  <thead>\n",
              "    <tr style=\"text-align: right;\">\n",
              "      <th></th>\n",
              "      <th>User_ID</th>\n",
              "      <th>SignUp_Date</th>\n",
              "      <th>Transaction_ID</th>\n",
              "      <th>Date</th>\n",
              "      <th>Revenue</th>\n",
              "      <th>Quantity</th>\n",
              "      <th>DateTime</th>\n",
              "      <th>SignUp_DateTime</th>\n",
              "    </tr>\n",
              "  </thead>\n",
              "  <tbody>\n",
              "    <tr>\n",
              "      <th>0</th>\n",
              "      <td>67A9CBA3-FDC3-E811-90F9-00155D619647</td>\n",
              "      <td>20181122</td>\n",
              "      <td>2249427486</td>\n",
              "      <td>20200430</td>\n",
              "      <td>128970.00</td>\n",
              "      <td>10</td>\n",
              "      <td>2020-04-30</td>\n",
              "      <td>2018-11-22</td>\n",
              "    </tr>\n",
              "    <tr>\n",
              "      <th>1</th>\n",
              "      <td>67A9CBA3-FDC3-E811-90F9-00155D619647</td>\n",
              "      <td>20181122</td>\n",
              "      <td>2249427729</td>\n",
              "      <td>20200430</td>\n",
              "      <td>128970.00</td>\n",
              "      <td>10</td>\n",
              "      <td>2020-04-30</td>\n",
              "      <td>2018-11-22</td>\n",
              "    </tr>\n",
              "    <tr>\n",
              "      <th>2</th>\n",
              "      <td>67A9CBA3-FDC3-E811-90F9-00155D619647</td>\n",
              "      <td>20181122</td>\n",
              "      <td>2249908620</td>\n",
              "      <td>20200514</td>\n",
              "      <td>122091.00</td>\n",
              "      <td>9</td>\n",
              "      <td>2020-05-14</td>\n",
              "      <td>2018-11-22</td>\n",
              "    </tr>\n",
              "    <tr>\n",
              "      <th>3</th>\n",
              "      <td>67A9CBA3-FDC3-E811-90F9-00155D619647</td>\n",
              "      <td>20181122</td>\n",
              "      <td>2248612580</td>\n",
              "      <td>20200415</td>\n",
              "      <td>118670.00</td>\n",
              "      <td>30</td>\n",
              "      <td>2020-04-15</td>\n",
              "      <td>2018-11-22</td>\n",
              "    </tr>\n",
              "    <tr>\n",
              "      <th>4</th>\n",
              "      <td>5606F992-F6CA-E911-80CB-00155D61134E</td>\n",
              "      <td>20191023</td>\n",
              "      <td>2249010961</td>\n",
              "      <td>20200421</td>\n",
              "      <td>103494.99</td>\n",
              "      <td>15</td>\n",
              "      <td>2020-04-21</td>\n",
              "      <td>2019-10-23</td>\n",
              "    </tr>\n",
              "  </tbody>\n",
              "</table>\n",
              "</div>"
            ],
            "text/plain": [
              "                                User_ID  SignUp_Date  ...   DateTime  SignUp_DateTime\n",
              "0  67A9CBA3-FDC3-E811-90F9-00155D619647     20181122  ... 2020-04-30       2018-11-22\n",
              "1  67A9CBA3-FDC3-E811-90F9-00155D619647     20181122  ... 2020-04-30       2018-11-22\n",
              "2  67A9CBA3-FDC3-E811-90F9-00155D619647     20181122  ... 2020-05-14       2018-11-22\n",
              "3  67A9CBA3-FDC3-E811-90F9-00155D619647     20181122  ... 2020-04-15       2018-11-22\n",
              "4  5606F992-F6CA-E911-80CB-00155D61134E     20191023  ... 2020-04-21       2019-10-23\n",
              "\n",
              "[5 rows x 8 columns]"
            ]
          },
          "metadata": {
            "tags": []
          },
          "execution_count": 9
        }
      ]
    },
    {
      "cell_type": "code",
      "metadata": {
        "id": "cxMG8Zzdxhax",
        "colab_type": "code",
        "colab": {
          "base_uri": "https://localhost:8080/",
          "height": 276
        },
        "outputId": "cffba01e-0509-4385-d6f7-8ee0843496a2"
      },
      "source": [
        "projectData.info()"
      ],
      "execution_count": 10,
      "outputs": [
        {
          "output_type": "stream",
          "text": [
            "<class 'pandas.core.frame.DataFrame'>\n",
            "RangeIndex: 179261 entries, 0 to 179260\n",
            "Data columns (total 8 columns):\n",
            " #   Column           Non-Null Count   Dtype         \n",
            "---  ------           --------------   -----         \n",
            " 0   User_ID          179261 non-null  object        \n",
            " 1   SignUp_Date      179261 non-null  int64         \n",
            " 2   Transaction_ID   179261 non-null  object        \n",
            " 3   Date             179261 non-null  int64         \n",
            " 4   Revenue          179261 non-null  float64       \n",
            " 5   Quantity         179261 non-null  int64         \n",
            " 6   DateTime         179261 non-null  datetime64[ns]\n",
            " 7   SignUp_DateTime  179261 non-null  datetime64[ns]\n",
            "dtypes: datetime64[ns](2), float64(1), int64(3), object(2)\n",
            "memory usage: 10.9+ MB\n"
          ],
          "name": "stdout"
        }
      ]
    },
    {
      "cell_type": "code",
      "metadata": {
        "id": "EuKiPcHWxmEv",
        "colab_type": "code",
        "colab": {
          "base_uri": "https://localhost:8080/",
          "height": 173
        },
        "outputId": "83068d8f-6869-4151-8e54-d4611960f9eb"
      },
      "source": [
        "projectData.nunique()"
      ],
      "execution_count": 11,
      "outputs": [
        {
          "output_type": "execute_result",
          "data": {
            "text/plain": [
              "User_ID            143728\n",
              "SignUp_Date           551\n",
              "Transaction_ID     178819\n",
              "Date                  150\n",
              "Revenue             13529\n",
              "Quantity               37\n",
              "DateTime              150\n",
              "SignUp_DateTime       551\n",
              "dtype: int64"
            ]
          },
          "metadata": {
            "tags": []
          },
          "execution_count": 11
        }
      ]
    },
    {
      "cell_type": "code",
      "metadata": {
        "id": "MDOEmcL8xn94",
        "colab_type": "code",
        "colab": {
          "base_uri": "https://localhost:8080/",
          "height": 288
        },
        "outputId": "dc07b3d3-6305-4d2d-b180-c44493be95df"
      },
      "source": [
        "projectData.describe()"
      ],
      "execution_count": 12,
      "outputs": [
        {
          "output_type": "execute_result",
          "data": {
            "text/html": [
              "<div>\n",
              "<style scoped>\n",
              "    .dataframe tbody tr th:only-of-type {\n",
              "        vertical-align: middle;\n",
              "    }\n",
              "\n",
              "    .dataframe tbody tr th {\n",
              "        vertical-align: top;\n",
              "    }\n",
              "\n",
              "    .dataframe thead th {\n",
              "        text-align: right;\n",
              "    }\n",
              "</style>\n",
              "<table border=\"1\" class=\"dataframe\">\n",
              "  <thead>\n",
              "    <tr style=\"text-align: right;\">\n",
              "      <th></th>\n",
              "      <th>SignUp_Date</th>\n",
              "      <th>Date</th>\n",
              "      <th>Revenue</th>\n",
              "      <th>Quantity</th>\n",
              "    </tr>\n",
              "  </thead>\n",
              "  <tbody>\n",
              "    <tr>\n",
              "      <th>count</th>\n",
              "      <td>1.792610e+05</td>\n",
              "      <td>1.792610e+05</td>\n",
              "      <td>179261.000000</td>\n",
              "      <td>179261.000000</td>\n",
              "    </tr>\n",
              "    <tr>\n",
              "      <th>mean</th>\n",
              "      <td>2.019537e+07</td>\n",
              "      <td>2.020040e+07</td>\n",
              "      <td>2205.070735</td>\n",
              "      <td>1.392645</td>\n",
              "    </tr>\n",
              "    <tr>\n",
              "      <th>std</th>\n",
              "      <td>7.959716e+03</td>\n",
              "      <td>1.149898e+02</td>\n",
              "      <td>3271.647456</td>\n",
              "      <td>1.370745</td>\n",
              "    </tr>\n",
              "    <tr>\n",
              "      <th>min</th>\n",
              "      <td>2.018112e+07</td>\n",
              "      <td>2.020010e+07</td>\n",
              "      <td>0.000000</td>\n",
              "      <td>0.000000</td>\n",
              "    </tr>\n",
              "    <tr>\n",
              "      <th>25%</th>\n",
              "      <td>2.019073e+07</td>\n",
              "      <td>2.020033e+07</td>\n",
              "      <td>219.000000</td>\n",
              "      <td>1.000000</td>\n",
              "    </tr>\n",
              "    <tr>\n",
              "      <th>50%</th>\n",
              "      <td>2.020040e+07</td>\n",
              "      <td>2.020042e+07</td>\n",
              "      <td>1049.000000</td>\n",
              "      <td>1.000000</td>\n",
              "    </tr>\n",
              "    <tr>\n",
              "      <th>75%</th>\n",
              "      <td>2.020043e+07</td>\n",
              "      <td>2.020051e+07</td>\n",
              "      <td>3099.000000</td>\n",
              "      <td>1.000000</td>\n",
              "    </tr>\n",
              "    <tr>\n",
              "      <th>max</th>\n",
              "      <td>2.020053e+07</td>\n",
              "      <td>2.020053e+07</td>\n",
              "      <td>128970.000000</td>\n",
              "      <td>80.000000</td>\n",
              "    </tr>\n",
              "  </tbody>\n",
              "</table>\n",
              "</div>"
            ],
            "text/plain": [
              "        SignUp_Date          Date        Revenue       Quantity\n",
              "count  1.792610e+05  1.792610e+05  179261.000000  179261.000000\n",
              "mean   2.019537e+07  2.020040e+07    2205.070735       1.392645\n",
              "std    7.959716e+03  1.149898e+02    3271.647456       1.370745\n",
              "min    2.018112e+07  2.020010e+07       0.000000       0.000000\n",
              "25%    2.019073e+07  2.020033e+07     219.000000       1.000000\n",
              "50%    2.020040e+07  2.020042e+07    1049.000000       1.000000\n",
              "75%    2.020043e+07  2.020051e+07    3099.000000       1.000000\n",
              "max    2.020053e+07  2.020053e+07  128970.000000      80.000000"
            ]
          },
          "metadata": {
            "tags": []
          },
          "execution_count": 12
        }
      ]
    },
    {
      "cell_type": "code",
      "metadata": {
        "id": "Z98u2sAIxvaC",
        "colab_type": "code",
        "colab": {
          "base_uri": "https://localhost:8080/",
          "height": 173
        },
        "outputId": "74bd41b0-449d-4715-c280-f4b327c3dfb7"
      },
      "source": [
        "projectData.isnull().sum()"
      ],
      "execution_count": 13,
      "outputs": [
        {
          "output_type": "execute_result",
          "data": {
            "text/plain": [
              "User_ID            0\n",
              "SignUp_Date        0\n",
              "Transaction_ID     0\n",
              "Date               0\n",
              "Revenue            0\n",
              "Quantity           0\n",
              "DateTime           0\n",
              "SignUp_DateTime    0\n",
              "dtype: int64"
            ]
          },
          "metadata": {
            "tags": []
          },
          "execution_count": 13
        }
      ]
    },
    {
      "cell_type": "code",
      "metadata": {
        "id": "TSOOSZhajIy6",
        "colab_type": "code",
        "colab": {}
      },
      "source": [
        "projectData_SignUpDate = projectData[['User_ID','SignUp_Date']]\n",
        "projectData_SignUpDate.drop_duplicates(subset='User_ID',keep='first',inplace=True)"
      ],
      "execution_count": 14,
      "outputs": []
    },
    {
      "cell_type": "code",
      "metadata": {
        "id": "NifULL8YaCt4",
        "colab_type": "code",
        "colab": {
          "base_uri": "https://localhost:8080/",
          "height": 173
        },
        "outputId": "1c3c9c87-304e-4b6c-f1f5-d653c9f887af"
      },
      "source": [
        "projectData_SignUpDate.info()"
      ],
      "execution_count": 15,
      "outputs": [
        {
          "output_type": "stream",
          "text": [
            "<class 'pandas.core.frame.DataFrame'>\n",
            "Int64Index: 143728 entries, 0 to 179258\n",
            "Data columns (total 2 columns):\n",
            " #   Column       Non-Null Count   Dtype \n",
            "---  ------       --------------   ----- \n",
            " 0   User_ID      143728 non-null  object\n",
            " 1   SignUp_Date  143728 non-null  int64 \n",
            "dtypes: int64(1), object(1)\n",
            "memory usage: 3.3+ MB\n"
          ],
          "name": "stdout"
        }
      ]
    },
    {
      "cell_type": "code",
      "metadata": {
        "id": "Rja5YsCZaXi3",
        "colab_type": "code",
        "colab": {
          "base_uri": "https://localhost:8080/",
          "height": 69
        },
        "outputId": "6ffe877d-ea63-4abd-9a3d-ee1e9cbff251"
      },
      "source": [
        "projectData_SignUpDate.nunique()"
      ],
      "execution_count": 16,
      "outputs": [
        {
          "output_type": "execute_result",
          "data": {
            "text/plain": [
              "User_ID        143728\n",
              "SignUp_Date       551\n",
              "dtype: int64"
            ]
          },
          "metadata": {
            "tags": []
          },
          "execution_count": 16
        }
      ]
    },
    {
      "cell_type": "code",
      "metadata": {
        "id": "yQqILvB4kT8G",
        "colab_type": "code",
        "colab": {
          "base_uri": "https://localhost:8080/",
          "height": 198
        },
        "outputId": "d8bc70e3-54c2-42e7-d478-f9a409bc5a20"
      },
      "source": [
        "projectData_SignUpDate.head()"
      ],
      "execution_count": 17,
      "outputs": [
        {
          "output_type": "execute_result",
          "data": {
            "text/html": [
              "<div>\n",
              "<style scoped>\n",
              "    .dataframe tbody tr th:only-of-type {\n",
              "        vertical-align: middle;\n",
              "    }\n",
              "\n",
              "    .dataframe tbody tr th {\n",
              "        vertical-align: top;\n",
              "    }\n",
              "\n",
              "    .dataframe thead th {\n",
              "        text-align: right;\n",
              "    }\n",
              "</style>\n",
              "<table border=\"1\" class=\"dataframe\">\n",
              "  <thead>\n",
              "    <tr style=\"text-align: right;\">\n",
              "      <th></th>\n",
              "      <th>User_ID</th>\n",
              "      <th>SignUp_Date</th>\n",
              "    </tr>\n",
              "  </thead>\n",
              "  <tbody>\n",
              "    <tr>\n",
              "      <th>0</th>\n",
              "      <td>67A9CBA3-FDC3-E811-90F9-00155D619647</td>\n",
              "      <td>20181122</td>\n",
              "    </tr>\n",
              "    <tr>\n",
              "      <th>4</th>\n",
              "      <td>5606F992-F6CA-E911-80CB-00155D61134E</td>\n",
              "      <td>20191023</td>\n",
              "    </tr>\n",
              "    <tr>\n",
              "      <th>6</th>\n",
              "      <td>C069BAC5-01C4-E811-90F9-00155D619647</td>\n",
              "      <td>20181122</td>\n",
              "    </tr>\n",
              "    <tr>\n",
              "      <th>8</th>\n",
              "      <td>4332E3E1-B203-EA11-80CC-00155D61134E</td>\n",
              "      <td>20191110</td>\n",
              "    </tr>\n",
              "    <tr>\n",
              "      <th>10</th>\n",
              "      <td>69CDE97A-F0C6-E811-90F9-00155D619647</td>\n",
              "      <td>20200410</td>\n",
              "    </tr>\n",
              "  </tbody>\n",
              "</table>\n",
              "</div>"
            ],
            "text/plain": [
              "                                 User_ID  SignUp_Date\n",
              "0   67A9CBA3-FDC3-E811-90F9-00155D619647     20181122\n",
              "4   5606F992-F6CA-E911-80CB-00155D61134E     20191023\n",
              "6   C069BAC5-01C4-E811-90F9-00155D619647     20181122\n",
              "8   4332E3E1-B203-EA11-80CC-00155D61134E     20191110\n",
              "10  69CDE97A-F0C6-E811-90F9-00155D619647     20200410"
            ]
          },
          "metadata": {
            "tags": []
          },
          "execution_count": 17
        }
      ]
    },
    {
      "cell_type": "code",
      "metadata": {
        "id": "GUwNdNAvwmlQ",
        "colab_type": "code",
        "colab": {
          "base_uri": "https://localhost:8080/",
          "height": 69
        },
        "outputId": "48d1fd7a-f537-480f-87f1-c6a49ca5724d"
      },
      "source": [
        "projectData_SignUpDate.nunique()"
      ],
      "execution_count": 18,
      "outputs": [
        {
          "output_type": "execute_result",
          "data": {
            "text/plain": [
              "User_ID        143728\n",
              "SignUp_Date       551\n",
              "dtype: int64"
            ]
          },
          "metadata": {
            "tags": []
          },
          "execution_count": 18
        }
      ]
    },
    {
      "cell_type": "code",
      "metadata": {
        "id": "UeL5pqmtYwC5",
        "colab_type": "code",
        "colab": {
          "base_uri": "https://localhost:8080/",
          "height": 408
        },
        "outputId": "50b9a4f2-cdc7-4941-941c-3558d29d18ff"
      },
      "source": [
        "projectData_SignUpDate.drop_duplicates()"
      ],
      "execution_count": 19,
      "outputs": [
        {
          "output_type": "execute_result",
          "data": {
            "text/html": [
              "<div>\n",
              "<style scoped>\n",
              "    .dataframe tbody tr th:only-of-type {\n",
              "        vertical-align: middle;\n",
              "    }\n",
              "\n",
              "    .dataframe tbody tr th {\n",
              "        vertical-align: top;\n",
              "    }\n",
              "\n",
              "    .dataframe thead th {\n",
              "        text-align: right;\n",
              "    }\n",
              "</style>\n",
              "<table border=\"1\" class=\"dataframe\">\n",
              "  <thead>\n",
              "    <tr style=\"text-align: right;\">\n",
              "      <th></th>\n",
              "      <th>User_ID</th>\n",
              "      <th>SignUp_Date</th>\n",
              "    </tr>\n",
              "  </thead>\n",
              "  <tbody>\n",
              "    <tr>\n",
              "      <th>0</th>\n",
              "      <td>67A9CBA3-FDC3-E811-90F9-00155D619647</td>\n",
              "      <td>20181122</td>\n",
              "    </tr>\n",
              "    <tr>\n",
              "      <th>4</th>\n",
              "      <td>5606F992-F6CA-E911-80CB-00155D61134E</td>\n",
              "      <td>20191023</td>\n",
              "    </tr>\n",
              "    <tr>\n",
              "      <th>6</th>\n",
              "      <td>C069BAC5-01C4-E811-90F9-00155D619647</td>\n",
              "      <td>20181122</td>\n",
              "    </tr>\n",
              "    <tr>\n",
              "      <th>8</th>\n",
              "      <td>4332E3E1-B203-EA11-80CC-00155D61134E</td>\n",
              "      <td>20191110</td>\n",
              "    </tr>\n",
              "    <tr>\n",
              "      <th>10</th>\n",
              "      <td>69CDE97A-F0C6-E811-90F9-00155D619647</td>\n",
              "      <td>20200410</td>\n",
              "    </tr>\n",
              "    <tr>\n",
              "      <th>...</th>\n",
              "      <td>...</td>\n",
              "      <td>...</td>\n",
              "    </tr>\n",
              "    <tr>\n",
              "      <th>179252</th>\n",
              "      <td>E823B8AA-659F-EA11-80D0-00155D61134E</td>\n",
              "      <td>20200526</td>\n",
              "    </tr>\n",
              "    <tr>\n",
              "      <th>179254</th>\n",
              "      <td>5D8E5472-A9C5-E811-90F9-00155D619647</td>\n",
              "      <td>20181122</td>\n",
              "    </tr>\n",
              "    <tr>\n",
              "      <th>179255</th>\n",
              "      <td>B89B48D0-5E4D-EA11-80D3-00155D7CD320</td>\n",
              "      <td>20200212</td>\n",
              "    </tr>\n",
              "    <tr>\n",
              "      <th>179256</th>\n",
              "      <td>E0622B90-134D-EA11-80D3-00155D7CD320</td>\n",
              "      <td>20200212</td>\n",
              "    </tr>\n",
              "    <tr>\n",
              "      <th>179258</th>\n",
              "      <td>4E099934-CD0E-EA11-80CC-00155D61134E</td>\n",
              "      <td>20200108</td>\n",
              "    </tr>\n",
              "  </tbody>\n",
              "</table>\n",
              "<p>143728 rows × 2 columns</p>\n",
              "</div>"
            ],
            "text/plain": [
              "                                     User_ID  SignUp_Date\n",
              "0       67A9CBA3-FDC3-E811-90F9-00155D619647     20181122\n",
              "4       5606F992-F6CA-E911-80CB-00155D61134E     20191023\n",
              "6       C069BAC5-01C4-E811-90F9-00155D619647     20181122\n",
              "8       4332E3E1-B203-EA11-80CC-00155D61134E     20191110\n",
              "10      69CDE97A-F0C6-E811-90F9-00155D619647     20200410\n",
              "...                                      ...          ...\n",
              "179252  E823B8AA-659F-EA11-80D0-00155D61134E     20200526\n",
              "179254  5D8E5472-A9C5-E811-90F9-00155D619647     20181122\n",
              "179255  B89B48D0-5E4D-EA11-80D3-00155D7CD320     20200212\n",
              "179256  E0622B90-134D-EA11-80D3-00155D7CD320     20200212\n",
              "179258  4E099934-CD0E-EA11-80CC-00155D61134E     20200108\n",
              "\n",
              "[143728 rows x 2 columns]"
            ]
          },
          "metadata": {
            "tags": []
          },
          "execution_count": 19
        }
      ]
    },
    {
      "cell_type": "code",
      "metadata": {
        "id": "SlX8aX6twwOC",
        "colab_type": "code",
        "colab": {
          "base_uri": "https://localhost:8080/",
          "height": 173
        },
        "outputId": "fa2108db-ead9-4cf7-f749-f18479c3af63"
      },
      "source": [
        "projectData_SignUpDate.info()"
      ],
      "execution_count": 21,
      "outputs": [
        {
          "output_type": "stream",
          "text": [
            "<class 'pandas.core.frame.DataFrame'>\n",
            "Int64Index: 143728 entries, 0 to 179258\n",
            "Data columns (total 2 columns):\n",
            " #   Column       Non-Null Count   Dtype \n",
            "---  ------       --------------   ----- \n",
            " 0   User_ID      143728 non-null  object\n",
            " 1   SignUp_Date  143728 non-null  int64 \n",
            "dtypes: int64(1), object(1)\n",
            "memory usage: 3.3+ MB\n"
          ],
          "name": "stdout"
        }
      ]
    },
    {
      "cell_type": "code",
      "metadata": {
        "id": "NeQla4ROxxP2",
        "colab_type": "code",
        "colab": {}
      },
      "source": [
        "projectData_RFM = projectData[['User_ID','DateTime','Transaction_ID','Quantity','Revenue']]"
      ],
      "execution_count": 22,
      "outputs": []
    },
    {
      "cell_type": "code",
      "metadata": {
        "id": "HdqtmB4Gx7SR",
        "colab_type": "code",
        "colab": {
          "base_uri": "https://localhost:8080/",
          "height": 198
        },
        "outputId": "5ba34cdc-5883-430c-fb26-2f95e9c28e30"
      },
      "source": [
        "projectData_RFM.head()"
      ],
      "execution_count": 23,
      "outputs": [
        {
          "output_type": "execute_result",
          "data": {
            "text/html": [
              "<div>\n",
              "<style scoped>\n",
              "    .dataframe tbody tr th:only-of-type {\n",
              "        vertical-align: middle;\n",
              "    }\n",
              "\n",
              "    .dataframe tbody tr th {\n",
              "        vertical-align: top;\n",
              "    }\n",
              "\n",
              "    .dataframe thead th {\n",
              "        text-align: right;\n",
              "    }\n",
              "</style>\n",
              "<table border=\"1\" class=\"dataframe\">\n",
              "  <thead>\n",
              "    <tr style=\"text-align: right;\">\n",
              "      <th></th>\n",
              "      <th>User_ID</th>\n",
              "      <th>DateTime</th>\n",
              "      <th>Transaction_ID</th>\n",
              "      <th>Quantity</th>\n",
              "      <th>Revenue</th>\n",
              "    </tr>\n",
              "  </thead>\n",
              "  <tbody>\n",
              "    <tr>\n",
              "      <th>0</th>\n",
              "      <td>67A9CBA3-FDC3-E811-90F9-00155D619647</td>\n",
              "      <td>2020-04-30</td>\n",
              "      <td>2249427486</td>\n",
              "      <td>10</td>\n",
              "      <td>128970.00</td>\n",
              "    </tr>\n",
              "    <tr>\n",
              "      <th>1</th>\n",
              "      <td>67A9CBA3-FDC3-E811-90F9-00155D619647</td>\n",
              "      <td>2020-04-30</td>\n",
              "      <td>2249427729</td>\n",
              "      <td>10</td>\n",
              "      <td>128970.00</td>\n",
              "    </tr>\n",
              "    <tr>\n",
              "      <th>2</th>\n",
              "      <td>67A9CBA3-FDC3-E811-90F9-00155D619647</td>\n",
              "      <td>2020-05-14</td>\n",
              "      <td>2249908620</td>\n",
              "      <td>9</td>\n",
              "      <td>122091.00</td>\n",
              "    </tr>\n",
              "    <tr>\n",
              "      <th>3</th>\n",
              "      <td>67A9CBA3-FDC3-E811-90F9-00155D619647</td>\n",
              "      <td>2020-04-15</td>\n",
              "      <td>2248612580</td>\n",
              "      <td>30</td>\n",
              "      <td>118670.00</td>\n",
              "    </tr>\n",
              "    <tr>\n",
              "      <th>4</th>\n",
              "      <td>5606F992-F6CA-E911-80CB-00155D61134E</td>\n",
              "      <td>2020-04-21</td>\n",
              "      <td>2249010961</td>\n",
              "      <td>15</td>\n",
              "      <td>103494.99</td>\n",
              "    </tr>\n",
              "  </tbody>\n",
              "</table>\n",
              "</div>"
            ],
            "text/plain": [
              "                                User_ID   DateTime  ... Quantity    Revenue\n",
              "0  67A9CBA3-FDC3-E811-90F9-00155D619647 2020-04-30  ...       10  128970.00\n",
              "1  67A9CBA3-FDC3-E811-90F9-00155D619647 2020-04-30  ...       10  128970.00\n",
              "2  67A9CBA3-FDC3-E811-90F9-00155D619647 2020-05-14  ...        9  122091.00\n",
              "3  67A9CBA3-FDC3-E811-90F9-00155D619647 2020-04-15  ...       30  118670.00\n",
              "4  5606F992-F6CA-E911-80CB-00155D61134E 2020-04-21  ...       15  103494.99\n",
              "\n",
              "[5 rows x 5 columns]"
            ]
          },
          "metadata": {
            "tags": []
          },
          "execution_count": 23
        }
      ]
    },
    {
      "cell_type": "code",
      "metadata": {
        "id": "gL0YJzVDx825",
        "colab_type": "code",
        "colab": {
          "base_uri": "https://localhost:8080/",
          "height": 121
        },
        "outputId": "3959c40f-b695-4888-ff45-9a2743cdf99f"
      },
      "source": [
        "projectData_RFM.nunique()"
      ],
      "execution_count": 24,
      "outputs": [
        {
          "output_type": "execute_result",
          "data": {
            "text/plain": [
              "User_ID           143728\n",
              "DateTime             150\n",
              "Transaction_ID    178819\n",
              "Quantity              37\n",
              "Revenue            13529\n",
              "dtype: int64"
            ]
          },
          "metadata": {
            "tags": []
          },
          "execution_count": 24
        }
      ]
    },
    {
      "cell_type": "code",
      "metadata": {
        "id": "1piAB-zcyBWB",
        "colab_type": "code",
        "colab": {
          "base_uri": "https://localhost:8080/",
          "height": 34
        },
        "outputId": "33c71446-1973-4678-fdde-f1104f00992c"
      },
      "source": [
        "projectData_RFM['DateTime'].min(),projectData_RFM['DateTime'].max()\n"
      ],
      "execution_count": 25,
      "outputs": [
        {
          "output_type": "execute_result",
          "data": {
            "text/plain": [
              "(Timestamp('2020-01-01 00:00:00'), Timestamp('2020-05-29 00:00:00'))"
            ]
          },
          "metadata": {
            "tags": []
          },
          "execution_count": 25
        }
      ]
    },
    {
      "cell_type": "code",
      "metadata": {
        "id": "BsZXmRn1yHy6",
        "colab_type": "code",
        "colab": {}
      },
      "source": [
        "PRESENT = dt.datetime(2020,5,30)"
      ],
      "execution_count": 26,
      "outputs": []
    },
    {
      "cell_type": "code",
      "metadata": {
        "id": "qjI2qylAyQM0",
        "colab_type": "code",
        "colab": {}
      },
      "source": [
        "rfm= projectData_RFM.groupby('User_ID').agg({'DateTime': lambda date: (PRESENT - date.max()).days,\n",
        "                                        'Transaction_ID': lambda num: len(num),\n",
        "                                        'Revenue': lambda price: price.sum()})"
      ],
      "execution_count": 27,
      "outputs": []
    },
    {
      "cell_type": "code",
      "metadata": {
        "id": "7dJzScqEyXx-",
        "colab_type": "code",
        "colab": {
          "base_uri": "https://localhost:8080/",
          "height": 228
        },
        "outputId": "1538b160-f611-4450-8afd-1e5010674a9a"
      },
      "source": [
        "rfm.head()"
      ],
      "execution_count": 28,
      "outputs": [
        {
          "output_type": "execute_result",
          "data": {
            "text/html": [
              "<div>\n",
              "<style scoped>\n",
              "    .dataframe tbody tr th:only-of-type {\n",
              "        vertical-align: middle;\n",
              "    }\n",
              "\n",
              "    .dataframe tbody tr th {\n",
              "        vertical-align: top;\n",
              "    }\n",
              "\n",
              "    .dataframe thead th {\n",
              "        text-align: right;\n",
              "    }\n",
              "</style>\n",
              "<table border=\"1\" class=\"dataframe\">\n",
              "  <thead>\n",
              "    <tr style=\"text-align: right;\">\n",
              "      <th></th>\n",
              "      <th>DateTime</th>\n",
              "      <th>Transaction_ID</th>\n",
              "      <th>Revenue</th>\n",
              "    </tr>\n",
              "    <tr>\n",
              "      <th>User_ID</th>\n",
              "      <th></th>\n",
              "      <th></th>\n",
              "      <th></th>\n",
              "    </tr>\n",
              "  </thead>\n",
              "  <tbody>\n",
              "    <tr>\n",
              "      <th>00000000-0000-0000-0000-000000000000</th>\n",
              "      <td>73</td>\n",
              "      <td>2</td>\n",
              "      <td>3558.3</td>\n",
              "    </tr>\n",
              "    <tr>\n",
              "      <th>0000279A-87C8-E811-90F9-00155D619647</th>\n",
              "      <td>78</td>\n",
              "      <td>1</td>\n",
              "      <td>137.4</td>\n",
              "    </tr>\n",
              "    <tr>\n",
              "      <th>00003B79-3370-EA11-80D3-00155D7CD320</th>\n",
              "      <td>64</td>\n",
              "      <td>1</td>\n",
              "      <td>4199.0</td>\n",
              "    </tr>\n",
              "    <tr>\n",
              "      <th>0000A4AF-1986-EA11-80D4-00155D7CD320</th>\n",
              "      <td>36</td>\n",
              "      <td>1</td>\n",
              "      <td>477.0</td>\n",
              "    </tr>\n",
              "    <tr>\n",
              "      <th>00010E76-A380-EA11-80CE-00155D61134E</th>\n",
              "      <td>43</td>\n",
              "      <td>1</td>\n",
              "      <td>184.9</td>\n",
              "    </tr>\n",
              "  </tbody>\n",
              "</table>\n",
              "</div>"
            ],
            "text/plain": [
              "                                      DateTime  Transaction_ID  Revenue\n",
              "User_ID                                                                \n",
              "00000000-0000-0000-0000-000000000000        73               2   3558.3\n",
              "0000279A-87C8-E811-90F9-00155D619647        78               1    137.4\n",
              "00003B79-3370-EA11-80D3-00155D7CD320        64               1   4199.0\n",
              "0000A4AF-1986-EA11-80D4-00155D7CD320        36               1    477.0\n",
              "00010E76-A380-EA11-80CE-00155D61134E        43               1    184.9"
            ]
          },
          "metadata": {
            "tags": []
          },
          "execution_count": 28
        }
      ]
    },
    {
      "cell_type": "code",
      "metadata": {
        "id": "yrIDLBCf4RJP",
        "colab_type": "code",
        "colab": {
          "base_uri": "https://localhost:8080/",
          "height": 86
        },
        "outputId": "5c6de7f9-5855-4841-9f36-6ded2cedac07"
      },
      "source": [
        "rfm.nunique()"
      ],
      "execution_count": 29,
      "outputs": [
        {
          "output_type": "execute_result",
          "data": {
            "text/plain": [
              "DateTime            150\n",
              "Transaction_ID       91\n",
              "Revenue           18253\n",
              "dtype: int64"
            ]
          },
          "metadata": {
            "tags": []
          },
          "execution_count": 29
        }
      ]
    },
    {
      "cell_type": "code",
      "metadata": {
        "id": "rXKFzuX8xVVW",
        "colab_type": "code",
        "colab": {
          "base_uri": "https://localhost:8080/",
          "height": 190
        },
        "outputId": "cf73b494-f6d2-4703-d4f7-e51fe5cdc332"
      },
      "source": [
        "rfm.info()"
      ],
      "execution_count": 30,
      "outputs": [
        {
          "output_type": "stream",
          "text": [
            "<class 'pandas.core.frame.DataFrame'>\n",
            "Index: 143728 entries, 00000000-0000-0000-0000-000000000000 to f7e09f43-5d82-e911-80cc-00155d7cd320\n",
            "Data columns (total 3 columns):\n",
            " #   Column          Non-Null Count   Dtype  \n",
            "---  ------          --------------   -----  \n",
            " 0   DateTime        143728 non-null  int64  \n",
            " 1   Transaction_ID  143728 non-null  int64  \n",
            " 2   Revenue         143728 non-null  float64\n",
            "dtypes: float64(1), int64(2)\n",
            "memory usage: 4.4+ MB\n"
          ],
          "name": "stdout"
        }
      ]
    },
    {
      "cell_type": "code",
      "metadata": {
        "id": "UeYpVTx1yj7k",
        "colab_type": "code",
        "colab": {}
      },
      "source": [
        "rfm.columns=['recency','frequency','monetary']\n"
      ],
      "execution_count": 31,
      "outputs": []
    },
    {
      "cell_type": "code",
      "metadata": {
        "id": "6ZGMmC_FysUr",
        "colab_type": "code",
        "colab": {}
      },
      "source": [
        "rfm['monetary'] = rfm['monetary'].astype(int)\n",
        "rfm['frequency'] = rfm['frequency'].astype(float)\n"
      ],
      "execution_count": 32,
      "outputs": []
    },
    {
      "cell_type": "code",
      "metadata": {
        "id": "mBiVxiw4yuW7",
        "colab_type": "code",
        "colab": {
          "base_uri": "https://localhost:8080/",
          "height": 228
        },
        "outputId": "1863e3a9-1ea4-4f80-85b7-5e38e9f4cdcd"
      },
      "source": [
        "rfm.head()"
      ],
      "execution_count": 33,
      "outputs": [
        {
          "output_type": "execute_result",
          "data": {
            "text/html": [
              "<div>\n",
              "<style scoped>\n",
              "    .dataframe tbody tr th:only-of-type {\n",
              "        vertical-align: middle;\n",
              "    }\n",
              "\n",
              "    .dataframe tbody tr th {\n",
              "        vertical-align: top;\n",
              "    }\n",
              "\n",
              "    .dataframe thead th {\n",
              "        text-align: right;\n",
              "    }\n",
              "</style>\n",
              "<table border=\"1\" class=\"dataframe\">\n",
              "  <thead>\n",
              "    <tr style=\"text-align: right;\">\n",
              "      <th></th>\n",
              "      <th>recency</th>\n",
              "      <th>frequency</th>\n",
              "      <th>monetary</th>\n",
              "    </tr>\n",
              "    <tr>\n",
              "      <th>User_ID</th>\n",
              "      <th></th>\n",
              "      <th></th>\n",
              "      <th></th>\n",
              "    </tr>\n",
              "  </thead>\n",
              "  <tbody>\n",
              "    <tr>\n",
              "      <th>00000000-0000-0000-0000-000000000000</th>\n",
              "      <td>73</td>\n",
              "      <td>2.0</td>\n",
              "      <td>3558</td>\n",
              "    </tr>\n",
              "    <tr>\n",
              "      <th>0000279A-87C8-E811-90F9-00155D619647</th>\n",
              "      <td>78</td>\n",
              "      <td>1.0</td>\n",
              "      <td>137</td>\n",
              "    </tr>\n",
              "    <tr>\n",
              "      <th>00003B79-3370-EA11-80D3-00155D7CD320</th>\n",
              "      <td>64</td>\n",
              "      <td>1.0</td>\n",
              "      <td>4199</td>\n",
              "    </tr>\n",
              "    <tr>\n",
              "      <th>0000A4AF-1986-EA11-80D4-00155D7CD320</th>\n",
              "      <td>36</td>\n",
              "      <td>1.0</td>\n",
              "      <td>477</td>\n",
              "    </tr>\n",
              "    <tr>\n",
              "      <th>00010E76-A380-EA11-80CE-00155D61134E</th>\n",
              "      <td>43</td>\n",
              "      <td>1.0</td>\n",
              "      <td>184</td>\n",
              "    </tr>\n",
              "  </tbody>\n",
              "</table>\n",
              "</div>"
            ],
            "text/plain": [
              "                                      recency  frequency  monetary\n",
              "User_ID                                                           \n",
              "00000000-0000-0000-0000-000000000000       73        2.0      3558\n",
              "0000279A-87C8-E811-90F9-00155D619647       78        1.0       137\n",
              "00003B79-3370-EA11-80D3-00155D7CD320       64        1.0      4199\n",
              "0000A4AF-1986-EA11-80D4-00155D7CD320       36        1.0       477\n",
              "00010E76-A380-EA11-80CE-00155D61134E       43        1.0       184"
            ]
          },
          "metadata": {
            "tags": []
          },
          "execution_count": 33
        }
      ]
    },
    {
      "cell_type": "code",
      "metadata": {
        "id": "qU1zKeygyyOS",
        "colab_type": "code",
        "colab": {}
      },
      "source": [
        "rfm['r_quartile'] = pd.qcut(rfm['recency'], 4, ['4','3','2','1'])"
      ],
      "execution_count": 34,
      "outputs": []
    },
    {
      "cell_type": "code",
      "metadata": {
        "id": "X2hqCccoZHfn",
        "colab_type": "code",
        "colab": {}
      },
      "source": [
        "def pct_rank_qcut(series, n):\n",
        "    edges = pd.Series([float(i) / n for i in range(n + 1)])\n",
        "    f = lambda x: (edges >= x).argmax()\n",
        "    return series.rank(pct=1).apply(f)"
      ],
      "execution_count": 35,
      "outputs": []
    },
    {
      "cell_type": "code",
      "metadata": {
        "id": "S6BtutxRZKvx",
        "colab_type": "code",
        "colab": {}
      },
      "source": [
        "rfm['f_quartile'] = pct_rank_qcut(rfm['frequency'], 4)"
      ],
      "execution_count": 36,
      "outputs": []
    },
    {
      "cell_type": "code",
      "metadata": {
        "id": "T7iC2vBi0iwX",
        "colab_type": "code",
        "colab": {}
      },
      "source": [
        "rfm['m_quartile'] = pd.qcut(rfm['monetary'], 4, ['1','2','3','4'])"
      ],
      "execution_count": 37,
      "outputs": []
    },
    {
      "cell_type": "code",
      "metadata": {
        "id": "DeypyT1S0nYi",
        "colab_type": "code",
        "colab": {}
      },
      "source": [
        "#rfm['f_quartile'] = pd.qcut(rfm['frequency'], 4, ['4','3','2','1']) çalışmıyor %25 ve %50 aralıkları 1 olduğu için"
      ],
      "execution_count": null,
      "outputs": []
    },
    {
      "cell_type": "code",
      "metadata": {
        "id": "WzTVdpVP3MdK",
        "colab_type": "code",
        "colab": {
          "base_uri": "https://localhost:8080/",
          "height": 228
        },
        "outputId": "b1d2cb06-ed2b-4c59-8a12-965d4f6e1e34"
      },
      "source": [
        "rfm.head()"
      ],
      "execution_count": 38,
      "outputs": [
        {
          "output_type": "execute_result",
          "data": {
            "text/html": [
              "<div>\n",
              "<style scoped>\n",
              "    .dataframe tbody tr th:only-of-type {\n",
              "        vertical-align: middle;\n",
              "    }\n",
              "\n",
              "    .dataframe tbody tr th {\n",
              "        vertical-align: top;\n",
              "    }\n",
              "\n",
              "    .dataframe thead th {\n",
              "        text-align: right;\n",
              "    }\n",
              "</style>\n",
              "<table border=\"1\" class=\"dataframe\">\n",
              "  <thead>\n",
              "    <tr style=\"text-align: right;\">\n",
              "      <th></th>\n",
              "      <th>recency</th>\n",
              "      <th>frequency</th>\n",
              "      <th>monetary</th>\n",
              "      <th>r_quartile</th>\n",
              "      <th>f_quartile</th>\n",
              "      <th>m_quartile</th>\n",
              "    </tr>\n",
              "    <tr>\n",
              "      <th>User_ID</th>\n",
              "      <th></th>\n",
              "      <th></th>\n",
              "      <th></th>\n",
              "      <th></th>\n",
              "      <th></th>\n",
              "      <th></th>\n",
              "    </tr>\n",
              "  </thead>\n",
              "  <tbody>\n",
              "    <tr>\n",
              "      <th>00000000-0000-0000-0000-000000000000</th>\n",
              "      <td>73</td>\n",
              "      <td>2.0</td>\n",
              "      <td>3558</td>\n",
              "      <td>1</td>\n",
              "      <td>4</td>\n",
              "      <td>4</td>\n",
              "    </tr>\n",
              "    <tr>\n",
              "      <th>0000279A-87C8-E811-90F9-00155D619647</th>\n",
              "      <td>78</td>\n",
              "      <td>1.0</td>\n",
              "      <td>137</td>\n",
              "      <td>1</td>\n",
              "      <td>2</td>\n",
              "      <td>1</td>\n",
              "    </tr>\n",
              "    <tr>\n",
              "      <th>00003B79-3370-EA11-80D3-00155D7CD320</th>\n",
              "      <td>64</td>\n",
              "      <td>1.0</td>\n",
              "      <td>4199</td>\n",
              "      <td>1</td>\n",
              "      <td>2</td>\n",
              "      <td>4</td>\n",
              "    </tr>\n",
              "    <tr>\n",
              "      <th>0000A4AF-1986-EA11-80D4-00155D7CD320</th>\n",
              "      <td>36</td>\n",
              "      <td>1.0</td>\n",
              "      <td>477</td>\n",
              "      <td>3</td>\n",
              "      <td>2</td>\n",
              "      <td>2</td>\n",
              "    </tr>\n",
              "    <tr>\n",
              "      <th>00010E76-A380-EA11-80CE-00155D61134E</th>\n",
              "      <td>43</td>\n",
              "      <td>1.0</td>\n",
              "      <td>184</td>\n",
              "      <td>2</td>\n",
              "      <td>2</td>\n",
              "      <td>1</td>\n",
              "    </tr>\n",
              "  </tbody>\n",
              "</table>\n",
              "</div>"
            ],
            "text/plain": [
              "                                      recency  frequency  ...  f_quartile m_quartile\n",
              "User_ID                                                   ...                       \n",
              "00000000-0000-0000-0000-000000000000       73        2.0  ...           4          4\n",
              "0000279A-87C8-E811-90F9-00155D619647       78        1.0  ...           2          1\n",
              "00003B79-3370-EA11-80D3-00155D7CD320       64        1.0  ...           2          4\n",
              "0000A4AF-1986-EA11-80D4-00155D7CD320       36        1.0  ...           2          2\n",
              "00010E76-A380-EA11-80CE-00155D61134E       43        1.0  ...           2          1\n",
              "\n",
              "[5 rows x 6 columns]"
            ]
          },
          "metadata": {
            "tags": []
          },
          "execution_count": 38
        }
      ]
    },
    {
      "cell_type": "code",
      "metadata": {
        "id": "6IHfCc5T0qMJ",
        "colab_type": "code",
        "colab": {}
      },
      "source": [
        "#def func(x):\n",
        " ### if x <= 10:\n",
        "  ##  return 1\n",
        "  #elif x <= "
      ],
      "execution_count": null,
      "outputs": []
    },
    {
      "cell_type": "code",
      "metadata": {
        "id": "H9iCqf378l4H",
        "colab_type": "code",
        "colab": {
          "base_uri": "https://localhost:8080/",
          "height": 315
        },
        "outputId": "f282d2c6-94f4-44af-8adc-873db2a28a65"
      },
      "source": [
        "rfm['RFM_Score'] = rfm.r_quartile.astype(str) + rfm.f_quartile.astype(str) + rfm.m_quartile.astype(str)\n",
        "rfm.head()"
      ],
      "execution_count": 39,
      "outputs": [
        {
          "output_type": "execute_result",
          "data": {
            "text/html": [
              "<div>\n",
              "<style scoped>\n",
              "    .dataframe tbody tr th:only-of-type {\n",
              "        vertical-align: middle;\n",
              "    }\n",
              "\n",
              "    .dataframe tbody tr th {\n",
              "        vertical-align: top;\n",
              "    }\n",
              "\n",
              "    .dataframe thead th {\n",
              "        text-align: right;\n",
              "    }\n",
              "</style>\n",
              "<table border=\"1\" class=\"dataframe\">\n",
              "  <thead>\n",
              "    <tr style=\"text-align: right;\">\n",
              "      <th></th>\n",
              "      <th>recency</th>\n",
              "      <th>frequency</th>\n",
              "      <th>monetary</th>\n",
              "      <th>r_quartile</th>\n",
              "      <th>f_quartile</th>\n",
              "      <th>m_quartile</th>\n",
              "      <th>RFM_Score</th>\n",
              "    </tr>\n",
              "    <tr>\n",
              "      <th>User_ID</th>\n",
              "      <th></th>\n",
              "      <th></th>\n",
              "      <th></th>\n",
              "      <th></th>\n",
              "      <th></th>\n",
              "      <th></th>\n",
              "      <th></th>\n",
              "    </tr>\n",
              "  </thead>\n",
              "  <tbody>\n",
              "    <tr>\n",
              "      <th>00000000-0000-0000-0000-000000000000</th>\n",
              "      <td>73</td>\n",
              "      <td>2.0</td>\n",
              "      <td>3558</td>\n",
              "      <td>1</td>\n",
              "      <td>4</td>\n",
              "      <td>4</td>\n",
              "      <td>144</td>\n",
              "    </tr>\n",
              "    <tr>\n",
              "      <th>0000279A-87C8-E811-90F9-00155D619647</th>\n",
              "      <td>78</td>\n",
              "      <td>1.0</td>\n",
              "      <td>137</td>\n",
              "      <td>1</td>\n",
              "      <td>2</td>\n",
              "      <td>1</td>\n",
              "      <td>121</td>\n",
              "    </tr>\n",
              "    <tr>\n",
              "      <th>00003B79-3370-EA11-80D3-00155D7CD320</th>\n",
              "      <td>64</td>\n",
              "      <td>1.0</td>\n",
              "      <td>4199</td>\n",
              "      <td>1</td>\n",
              "      <td>2</td>\n",
              "      <td>4</td>\n",
              "      <td>124</td>\n",
              "    </tr>\n",
              "    <tr>\n",
              "      <th>0000A4AF-1986-EA11-80D4-00155D7CD320</th>\n",
              "      <td>36</td>\n",
              "      <td>1.0</td>\n",
              "      <td>477</td>\n",
              "      <td>3</td>\n",
              "      <td>2</td>\n",
              "      <td>2</td>\n",
              "      <td>322</td>\n",
              "    </tr>\n",
              "    <tr>\n",
              "      <th>00010E76-A380-EA11-80CE-00155D61134E</th>\n",
              "      <td>43</td>\n",
              "      <td>1.0</td>\n",
              "      <td>184</td>\n",
              "      <td>2</td>\n",
              "      <td>2</td>\n",
              "      <td>1</td>\n",
              "      <td>221</td>\n",
              "    </tr>\n",
              "  </tbody>\n",
              "</table>\n",
              "</div>"
            ],
            "text/plain": [
              "                                      recency  frequency  ...  m_quartile RFM_Score\n",
              "User_ID                                                   ...                      \n",
              "00000000-0000-0000-0000-000000000000       73        2.0  ...           4       144\n",
              "0000279A-87C8-E811-90F9-00155D619647       78        1.0  ...           1       121\n",
              "00003B79-3370-EA11-80D3-00155D7CD320       64        1.0  ...           4       124\n",
              "0000A4AF-1986-EA11-80D4-00155D7CD320       36        1.0  ...           2       322\n",
              "00010E76-A380-EA11-80CE-00155D61134E       43        1.0  ...           1       221\n",
              "\n",
              "[5 rows x 7 columns]"
            ]
          },
          "metadata": {
            "tags": []
          },
          "execution_count": 39
        }
      ]
    },
    {
      "cell_type": "code",
      "metadata": {
        "id": "evFtL7khVRM-",
        "colab_type": "code",
        "colab": {
          "base_uri": "https://localhost:8080/",
          "height": 288
        },
        "outputId": "bb0fc73f-7a5e-482a-88db-6a9e527fb2b0"
      },
      "source": [
        "rfm.describe()"
      ],
      "execution_count": 40,
      "outputs": [
        {
          "output_type": "execute_result",
          "data": {
            "text/html": [
              "<div>\n",
              "<style scoped>\n",
              "    .dataframe tbody tr th:only-of-type {\n",
              "        vertical-align: middle;\n",
              "    }\n",
              "\n",
              "    .dataframe tbody tr th {\n",
              "        vertical-align: top;\n",
              "    }\n",
              "\n",
              "    .dataframe thead th {\n",
              "        text-align: right;\n",
              "    }\n",
              "</style>\n",
              "<table border=\"1\" class=\"dataframe\">\n",
              "  <thead>\n",
              "    <tr style=\"text-align: right;\">\n",
              "      <th></th>\n",
              "      <th>recency</th>\n",
              "      <th>frequency</th>\n",
              "      <th>monetary</th>\n",
              "      <th>f_quartile</th>\n",
              "    </tr>\n",
              "  </thead>\n",
              "  <tbody>\n",
              "    <tr>\n",
              "      <th>count</th>\n",
              "      <td>143728.000000</td>\n",
              "      <td>143728.000000</td>\n",
              "      <td>1.437280e+05</td>\n",
              "      <td>143728.000000</td>\n",
              "    </tr>\n",
              "    <tr>\n",
              "      <th>mean</th>\n",
              "      <td>47.362135</td>\n",
              "      <td>1.247224</td>\n",
              "      <td>2.750022e+03</td>\n",
              "      <td>2.223269</td>\n",
              "    </tr>\n",
              "    <tr>\n",
              "      <th>std</th>\n",
              "      <td>34.014627</td>\n",
              "      <td>3.014598</td>\n",
              "      <td>1.684836e+04</td>\n",
              "      <td>0.629835</td>\n",
              "    </tr>\n",
              "    <tr>\n",
              "      <th>min</th>\n",
              "      <td>1.000000</td>\n",
              "      <td>1.000000</td>\n",
              "      <td>1.000000e+00</td>\n",
              "      <td>2.000000</td>\n",
              "    </tr>\n",
              "    <tr>\n",
              "      <th>25%</th>\n",
              "      <td>23.000000</td>\n",
              "      <td>1.000000</td>\n",
              "      <td>2.180000e+02</td>\n",
              "      <td>2.000000</td>\n",
              "    </tr>\n",
              "    <tr>\n",
              "      <th>50%</th>\n",
              "      <td>40.000000</td>\n",
              "      <td>1.000000</td>\n",
              "      <td>9.990000e+02</td>\n",
              "      <td>2.000000</td>\n",
              "    </tr>\n",
              "    <tr>\n",
              "      <th>75%</th>\n",
              "      <td>60.000000</td>\n",
              "      <td>1.000000</td>\n",
              "      <td>3.239000e+03</td>\n",
              "      <td>2.000000</td>\n",
              "    </tr>\n",
              "    <tr>\n",
              "      <th>max</th>\n",
              "      <td>150.000000</td>\n",
              "      <td>563.000000</td>\n",
              "      <td>2.807569e+06</td>\n",
              "      <td>4.000000</td>\n",
              "    </tr>\n",
              "  </tbody>\n",
              "</table>\n",
              "</div>"
            ],
            "text/plain": [
              "             recency      frequency      monetary     f_quartile\n",
              "count  143728.000000  143728.000000  1.437280e+05  143728.000000\n",
              "mean       47.362135       1.247224  2.750022e+03       2.223269\n",
              "std        34.014627       3.014598  1.684836e+04       0.629835\n",
              "min         1.000000       1.000000  1.000000e+00       2.000000\n",
              "25%        23.000000       1.000000  2.180000e+02       2.000000\n",
              "50%        40.000000       1.000000  9.990000e+02       2.000000\n",
              "75%        60.000000       1.000000  3.239000e+03       2.000000\n",
              "max       150.000000     563.000000  2.807569e+06       4.000000"
            ]
          },
          "metadata": {
            "tags": []
          },
          "execution_count": 40
        }
      ]
    },
    {
      "cell_type": "code",
      "metadata": {
        "id": "ybVH2eLoB96C",
        "colab_type": "code",
        "colab": {
          "base_uri": "https://localhost:8080/",
          "height": 315
        },
        "outputId": "3dec7629-1bb8-4f12-9368-8de0f129c4d6"
      },
      "source": [
        "# Best customerlara göre sıralama\n",
        "rfm[rfm['RFM_Score']=='444'].sort_values('monetary', ascending=False).head()"
      ],
      "execution_count": 41,
      "outputs": [
        {
          "output_type": "execute_result",
          "data": {
            "text/html": [
              "<div>\n",
              "<style scoped>\n",
              "    .dataframe tbody tr th:only-of-type {\n",
              "        vertical-align: middle;\n",
              "    }\n",
              "\n",
              "    .dataframe tbody tr th {\n",
              "        vertical-align: top;\n",
              "    }\n",
              "\n",
              "    .dataframe thead th {\n",
              "        text-align: right;\n",
              "    }\n",
              "</style>\n",
              "<table border=\"1\" class=\"dataframe\">\n",
              "  <thead>\n",
              "    <tr style=\"text-align: right;\">\n",
              "      <th></th>\n",
              "      <th>recency</th>\n",
              "      <th>frequency</th>\n",
              "      <th>monetary</th>\n",
              "      <th>r_quartile</th>\n",
              "      <th>f_quartile</th>\n",
              "      <th>m_quartile</th>\n",
              "      <th>RFM_Score</th>\n",
              "    </tr>\n",
              "    <tr>\n",
              "      <th>User_ID</th>\n",
              "      <th></th>\n",
              "      <th></th>\n",
              "      <th></th>\n",
              "      <th></th>\n",
              "      <th></th>\n",
              "      <th></th>\n",
              "      <th></th>\n",
              "    </tr>\n",
              "  </thead>\n",
              "  <tbody>\n",
              "    <tr>\n",
              "      <th>C069BAC5-01C4-E811-90F9-00155D619647</th>\n",
              "      <td>1</td>\n",
              "      <td>210.0</td>\n",
              "      <td>2807569</td>\n",
              "      <td>4</td>\n",
              "      <td>4</td>\n",
              "      <td>4</td>\n",
              "      <td>444</td>\n",
              "    </tr>\n",
              "    <tr>\n",
              "      <th>B0A19A45-D6D6-E911-80CC-00155D7CD320</th>\n",
              "      <td>1</td>\n",
              "      <td>297.0</td>\n",
              "      <td>2727999</td>\n",
              "      <td>4</td>\n",
              "      <td>4</td>\n",
              "      <td>4</td>\n",
              "      <td>444</td>\n",
              "    </tr>\n",
              "    <tr>\n",
              "      <th>A4B41362-16FB-E911-80D1-00155D7CD320</th>\n",
              "      <td>2</td>\n",
              "      <td>211.0</td>\n",
              "      <td>1738976</td>\n",
              "      <td>4</td>\n",
              "      <td>4</td>\n",
              "      <td>4</td>\n",
              "      <td>444</td>\n",
              "    </tr>\n",
              "    <tr>\n",
              "      <th>86417C10-026E-EA11-80D3-00155D7CD320</th>\n",
              "      <td>1</td>\n",
              "      <td>153.0</td>\n",
              "      <td>1553128</td>\n",
              "      <td>4</td>\n",
              "      <td>4</td>\n",
              "      <td>4</td>\n",
              "      <td>444</td>\n",
              "    </tr>\n",
              "    <tr>\n",
              "      <th>C146B462-F0AF-E911-80CB-00155D61134E</th>\n",
              "      <td>2</td>\n",
              "      <td>120.0</td>\n",
              "      <td>1318382</td>\n",
              "      <td>4</td>\n",
              "      <td>4</td>\n",
              "      <td>4</td>\n",
              "      <td>444</td>\n",
              "    </tr>\n",
              "  </tbody>\n",
              "</table>\n",
              "</div>"
            ],
            "text/plain": [
              "                                      recency  frequency  ...  m_quartile RFM_Score\n",
              "User_ID                                                   ...                      \n",
              "C069BAC5-01C4-E811-90F9-00155D619647        1      210.0  ...           4       444\n",
              "B0A19A45-D6D6-E911-80CC-00155D7CD320        1      297.0  ...           4       444\n",
              "A4B41362-16FB-E911-80D1-00155D7CD320        2      211.0  ...           4       444\n",
              "86417C10-026E-EA11-80D3-00155D7CD320        1      153.0  ...           4       444\n",
              "C146B462-F0AF-E911-80CB-00155D61134E        2      120.0  ...           4       444\n",
              "\n",
              "[5 rows x 7 columns]"
            ]
          },
          "metadata": {
            "tags": []
          },
          "execution_count": 41
        }
      ]
    },
    {
      "cell_type": "code",
      "metadata": {
        "id": "C8pucFNuhZiJ",
        "colab_type": "code",
        "colab": {
          "base_uri": "https://localhost:8080/",
          "height": 259
        },
        "outputId": "7b947047-6eac-4125-ec67-278bf02789ee"
      },
      "source": [
        "rfm.info()"
      ],
      "execution_count": 42,
      "outputs": [
        {
          "output_type": "stream",
          "text": [
            "<class 'pandas.core.frame.DataFrame'>\n",
            "Index: 143728 entries, 00000000-0000-0000-0000-000000000000 to f7e09f43-5d82-e911-80cc-00155d7cd320\n",
            "Data columns (total 7 columns):\n",
            " #   Column      Non-Null Count   Dtype   \n",
            "---  ------      --------------   -----   \n",
            " 0   recency     143728 non-null  int64   \n",
            " 1   frequency   143728 non-null  float64 \n",
            " 2   monetary    143728 non-null  int64   \n",
            " 3   r_quartile  143728 non-null  category\n",
            " 4   f_quartile  143728 non-null  int64   \n",
            " 5   m_quartile  143728 non-null  category\n",
            " 6   RFM_Score   143728 non-null  object  \n",
            "dtypes: category(2), float64(1), int64(3), object(1)\n",
            "memory usage: 6.9+ MB\n"
          ],
          "name": "stdout"
        }
      ]
    },
    {
      "cell_type": "code",
      "metadata": {
        "id": "vUeG_uXSfzPq",
        "colab_type": "code",
        "colab": {
          "base_uri": "https://localhost:8080/",
          "height": 477
        },
        "outputId": "635687e9-0818-470e-a35e-9716e955008e"
      },
      "source": [
        "RFM_with_SignUpDate = rfm.merge(projectData_SignUpDate,on = \"User_ID\", how= \"left\", )\n",
        "RFM_with_SignUpDate.head(5)"
      ],
      "execution_count": 43,
      "outputs": [
        {
          "output_type": "execute_result",
          "data": {
            "text/html": [
              "<div>\n",
              "<style scoped>\n",
              "    .dataframe tbody tr th:only-of-type {\n",
              "        vertical-align: middle;\n",
              "    }\n",
              "\n",
              "    .dataframe tbody tr th {\n",
              "        vertical-align: top;\n",
              "    }\n",
              "\n",
              "    .dataframe thead th {\n",
              "        text-align: right;\n",
              "    }\n",
              "</style>\n",
              "<table border=\"1\" class=\"dataframe\">\n",
              "  <thead>\n",
              "    <tr style=\"text-align: right;\">\n",
              "      <th></th>\n",
              "      <th>User_ID</th>\n",
              "      <th>recency</th>\n",
              "      <th>frequency</th>\n",
              "      <th>monetary</th>\n",
              "      <th>r_quartile</th>\n",
              "      <th>f_quartile</th>\n",
              "      <th>m_quartile</th>\n",
              "      <th>RFM_Score</th>\n",
              "      <th>SignUp_Date</th>\n",
              "    </tr>\n",
              "  </thead>\n",
              "  <tbody>\n",
              "    <tr>\n",
              "      <th>0</th>\n",
              "      <td>00000000-0000-0000-0000-000000000000</td>\n",
              "      <td>73</td>\n",
              "      <td>2.0</td>\n",
              "      <td>3558</td>\n",
              "      <td>1</td>\n",
              "      <td>4</td>\n",
              "      <td>4</td>\n",
              "      <td>144</td>\n",
              "      <td>20181122</td>\n",
              "    </tr>\n",
              "    <tr>\n",
              "      <th>1</th>\n",
              "      <td>0000279A-87C8-E811-90F9-00155D619647</td>\n",
              "      <td>78</td>\n",
              "      <td>1.0</td>\n",
              "      <td>137</td>\n",
              "      <td>1</td>\n",
              "      <td>2</td>\n",
              "      <td>1</td>\n",
              "      <td>121</td>\n",
              "      <td>20181122</td>\n",
              "    </tr>\n",
              "    <tr>\n",
              "      <th>2</th>\n",
              "      <td>00003B79-3370-EA11-80D3-00155D7CD320</td>\n",
              "      <td>64</td>\n",
              "      <td>1.0</td>\n",
              "      <td>4199</td>\n",
              "      <td>1</td>\n",
              "      <td>2</td>\n",
              "      <td>4</td>\n",
              "      <td>124</td>\n",
              "      <td>20200327</td>\n",
              "    </tr>\n",
              "    <tr>\n",
              "      <th>3</th>\n",
              "      <td>0000A4AF-1986-EA11-80D4-00155D7CD320</td>\n",
              "      <td>36</td>\n",
              "      <td>1.0</td>\n",
              "      <td>477</td>\n",
              "      <td>3</td>\n",
              "      <td>2</td>\n",
              "      <td>2</td>\n",
              "      <td>322</td>\n",
              "      <td>20200424</td>\n",
              "    </tr>\n",
              "    <tr>\n",
              "      <th>4</th>\n",
              "      <td>00010E76-A380-EA11-80CE-00155D61134E</td>\n",
              "      <td>43</td>\n",
              "      <td>1.0</td>\n",
              "      <td>184</td>\n",
              "      <td>2</td>\n",
              "      <td>2</td>\n",
              "      <td>1</td>\n",
              "      <td>221</td>\n",
              "      <td>20200417</td>\n",
              "    </tr>\n",
              "  </tbody>\n",
              "</table>\n",
              "</div>"
            ],
            "text/plain": [
              "                                User_ID  recency  ...  RFM_Score  SignUp_Date\n",
              "0  00000000-0000-0000-0000-000000000000       73  ...        144     20181122\n",
              "1  0000279A-87C8-E811-90F9-00155D619647       78  ...        121     20181122\n",
              "2  00003B79-3370-EA11-80D3-00155D7CD320       64  ...        124     20200327\n",
              "3  0000A4AF-1986-EA11-80D4-00155D7CD320       36  ...        322     20200424\n",
              "4  00010E76-A380-EA11-80CE-00155D61134E       43  ...        221     20200417\n",
              "\n",
              "[5 rows x 9 columns]"
            ]
          },
          "metadata": {
            "tags": []
          },
          "execution_count": 43
        }
      ]
    },
    {
      "cell_type": "code",
      "metadata": {
        "id": "GWAQZIKacbF5",
        "colab_type": "code",
        "colab": {
          "base_uri": "https://localhost:8080/",
          "height": 294
        },
        "outputId": "a8bf6534-c8dd-49c9-e552-bfbcab1d6262"
      },
      "source": [
        "RFM_with_SignUpDate.info()"
      ],
      "execution_count": 44,
      "outputs": [
        {
          "output_type": "stream",
          "text": [
            "<class 'pandas.core.frame.DataFrame'>\n",
            "Int64Index: 143728 entries, 0 to 143727\n",
            "Data columns (total 9 columns):\n",
            " #   Column       Non-Null Count   Dtype   \n",
            "---  ------       --------------   -----   \n",
            " 0   User_ID      143728 non-null  object  \n",
            " 1   recency      143728 non-null  int64   \n",
            " 2   frequency    143728 non-null  float64 \n",
            " 3   monetary     143728 non-null  int64   \n",
            " 4   r_quartile   143728 non-null  category\n",
            " 5   f_quartile   143728 non-null  int64   \n",
            " 6   m_quartile   143728 non-null  category\n",
            " 7   RFM_Score    143728 non-null  object  \n",
            " 8   SignUp_Date  143728 non-null  int64   \n",
            "dtypes: category(2), float64(1), int64(4), object(2)\n",
            "memory usage: 9.0+ MB\n"
          ],
          "name": "stdout"
        }
      ]
    },
    {
      "cell_type": "code",
      "metadata": {
        "id": "HTHcIgfWbr8A",
        "colab_type": "code",
        "colab": {
          "base_uri": "https://localhost:8080/",
          "height": 783
        },
        "outputId": "c0c69b37-cf92-4e52-8ea6-8eafc881f87a"
      },
      "source": [
        "rfm_updated = rfm.replace(to_replace ='444', value = 'Best Customers', regex = True) \n",
        "rfm_updated2 = rfm_updated.replace(to_replace ='[4|3|2][4|3|2][4|3]', value = 'Promising Best Customers', regex = True) \n",
        "rfm_updated3 = rfm_updated2.replace(to_replace ='[4][1|2][4|3]', value = 'High Spending New Customers', regex = True) \n",
        "rfm_updated4 = rfm_updated3.replace(to_replace ='[4|3|2|1][4|3][1|2]', value = 'Lowest-Spending Active Loyal Customers', regex = True) \n",
        "rfm_updated5 = rfm_updated4.replace(to_replace ='[1|2][4|3|2][4|3]', value = 'Churned Best Customers', regex = True) \n",
        "rfm_updated6 = rfm_updated5.replace(to_replace ='[1|2][1|2|4][1|2]', value = 'Not Big Spender Customers', regex = True) \n",
        "rfm_updated7 = rfm_updated6.replace(to_replace ='[4|3][1|2][1|2]', value = 'New Not Spender Customers', regex = True) \n",
        "rfm_updated7"
      ],
      "execution_count": 45,
      "outputs": [
        {
          "output_type": "execute_result",
          "data": {
            "text/html": [
              "<div>\n",
              "<style scoped>\n",
              "    .dataframe tbody tr th:only-of-type {\n",
              "        vertical-align: middle;\n",
              "    }\n",
              "\n",
              "    .dataframe tbody tr th {\n",
              "        vertical-align: top;\n",
              "    }\n",
              "\n",
              "    .dataframe thead th {\n",
              "        text-align: right;\n",
              "    }\n",
              "</style>\n",
              "<table border=\"1\" class=\"dataframe\">\n",
              "  <thead>\n",
              "    <tr style=\"text-align: right;\">\n",
              "      <th></th>\n",
              "      <th>recency</th>\n",
              "      <th>frequency</th>\n",
              "      <th>monetary</th>\n",
              "      <th>r_quartile</th>\n",
              "      <th>f_quartile</th>\n",
              "      <th>m_quartile</th>\n",
              "      <th>RFM_Score</th>\n",
              "    </tr>\n",
              "    <tr>\n",
              "      <th>User_ID</th>\n",
              "      <th></th>\n",
              "      <th></th>\n",
              "      <th></th>\n",
              "      <th></th>\n",
              "      <th></th>\n",
              "      <th></th>\n",
              "      <th></th>\n",
              "    </tr>\n",
              "  </thead>\n",
              "  <tbody>\n",
              "    <tr>\n",
              "      <th>00000000-0000-0000-0000-000000000000</th>\n",
              "      <td>73</td>\n",
              "      <td>2.0</td>\n",
              "      <td>3558</td>\n",
              "      <td>1</td>\n",
              "      <td>4</td>\n",
              "      <td>4</td>\n",
              "      <td>Churned Best Customers</td>\n",
              "    </tr>\n",
              "    <tr>\n",
              "      <th>0000279A-87C8-E811-90F9-00155D619647</th>\n",
              "      <td>78</td>\n",
              "      <td>1.0</td>\n",
              "      <td>137</td>\n",
              "      <td>1</td>\n",
              "      <td>2</td>\n",
              "      <td>1</td>\n",
              "      <td>Not Big Spender Customers</td>\n",
              "    </tr>\n",
              "    <tr>\n",
              "      <th>00003B79-3370-EA11-80D3-00155D7CD320</th>\n",
              "      <td>64</td>\n",
              "      <td>1.0</td>\n",
              "      <td>4199</td>\n",
              "      <td>1</td>\n",
              "      <td>2</td>\n",
              "      <td>4</td>\n",
              "      <td>Churned Best Customers</td>\n",
              "    </tr>\n",
              "    <tr>\n",
              "      <th>0000A4AF-1986-EA11-80D4-00155D7CD320</th>\n",
              "      <td>36</td>\n",
              "      <td>1.0</td>\n",
              "      <td>477</td>\n",
              "      <td>3</td>\n",
              "      <td>2</td>\n",
              "      <td>2</td>\n",
              "      <td>New Not Spender Customers</td>\n",
              "    </tr>\n",
              "    <tr>\n",
              "      <th>00010E76-A380-EA11-80CE-00155D61134E</th>\n",
              "      <td>43</td>\n",
              "      <td>1.0</td>\n",
              "      <td>184</td>\n",
              "      <td>2</td>\n",
              "      <td>2</td>\n",
              "      <td>1</td>\n",
              "      <td>Not Big Spender Customers</td>\n",
              "    </tr>\n",
              "    <tr>\n",
              "      <th>...</th>\n",
              "      <td>...</td>\n",
              "      <td>...</td>\n",
              "      <td>...</td>\n",
              "      <td>...</td>\n",
              "      <td>...</td>\n",
              "      <td>...</td>\n",
              "      <td>...</td>\n",
              "    </tr>\n",
              "    <tr>\n",
              "      <th>e4445ca7-0770-e911-80ca-00155d61134e</th>\n",
              "      <td>45</td>\n",
              "      <td>1.0</td>\n",
              "      <td>299</td>\n",
              "      <td>2</td>\n",
              "      <td>2</td>\n",
              "      <td>2</td>\n",
              "      <td>Not Big Spender Customers</td>\n",
              "    </tr>\n",
              "    <tr>\n",
              "      <th>e604d13f-50c6-e811-90f9-00155d619647</th>\n",
              "      <td>102</td>\n",
              "      <td>1.0</td>\n",
              "      <td>156</td>\n",
              "      <td>1</td>\n",
              "      <td>2</td>\n",
              "      <td>1</td>\n",
              "      <td>Not Big Spender Customers</td>\n",
              "    </tr>\n",
              "    <tr>\n",
              "      <th>f3e8ed89-a6a7-e911-80cc-00155d7cd320</th>\n",
              "      <td>47</td>\n",
              "      <td>1.0</td>\n",
              "      <td>2499</td>\n",
              "      <td>2</td>\n",
              "      <td>2</td>\n",
              "      <td>3</td>\n",
              "      <td>Promising Best Customers</td>\n",
              "    </tr>\n",
              "    <tr>\n",
              "      <th>f51c4228-047f-e911-80ca-00155d61134e</th>\n",
              "      <td>42</td>\n",
              "      <td>1.0</td>\n",
              "      <td>109</td>\n",
              "      <td>2</td>\n",
              "      <td>2</td>\n",
              "      <td>1</td>\n",
              "      <td>Not Big Spender Customers</td>\n",
              "    </tr>\n",
              "    <tr>\n",
              "      <th>f7e09f43-5d82-e911-80cc-00155d7cd320</th>\n",
              "      <td>108</td>\n",
              "      <td>1.0</td>\n",
              "      <td>5793</td>\n",
              "      <td>1</td>\n",
              "      <td>2</td>\n",
              "      <td>4</td>\n",
              "      <td>Churned Best Customers</td>\n",
              "    </tr>\n",
              "  </tbody>\n",
              "</table>\n",
              "<p>143728 rows × 7 columns</p>\n",
              "</div>"
            ],
            "text/plain": [
              "                                      recency  ...                  RFM_Score\n",
              "User_ID                                        ...                           \n",
              "00000000-0000-0000-0000-000000000000       73  ...     Churned Best Customers\n",
              "0000279A-87C8-E811-90F9-00155D619647       78  ...  Not Big Spender Customers\n",
              "00003B79-3370-EA11-80D3-00155D7CD320       64  ...     Churned Best Customers\n",
              "0000A4AF-1986-EA11-80D4-00155D7CD320       36  ...  New Not Spender Customers\n",
              "00010E76-A380-EA11-80CE-00155D61134E       43  ...  Not Big Spender Customers\n",
              "...                                       ...  ...                        ...\n",
              "e4445ca7-0770-e911-80ca-00155d61134e       45  ...  Not Big Spender Customers\n",
              "e604d13f-50c6-e811-90f9-00155d619647      102  ...  Not Big Spender Customers\n",
              "f3e8ed89-a6a7-e911-80cc-00155d7cd320       47  ...   Promising Best Customers\n",
              "f51c4228-047f-e911-80ca-00155d61134e       42  ...  Not Big Spender Customers\n",
              "f7e09f43-5d82-e911-80cc-00155d7cd320      108  ...     Churned Best Customers\n",
              "\n",
              "[143728 rows x 7 columns]"
            ]
          },
          "metadata": {
            "tags": []
          },
          "execution_count": 45
        }
      ]
    },
    {
      "cell_type": "code",
      "metadata": {
        "id": "yLrpmPpdmfje",
        "colab_type": "code",
        "colab": {
          "base_uri": "https://localhost:8080/",
          "height": 508
        },
        "outputId": "5f890a40-6e3e-4228-c5b2-74f865426972"
      },
      "source": [
        "rfm_updated7['RFM_Score_Numbers'] = rfm.r_quartile.astype(str) + rfm.f_quartile.astype(str) + rfm.m_quartile.astype(str)\n",
        "rfm_updated7.head()"
      ],
      "execution_count": 46,
      "outputs": [
        {
          "output_type": "execute_result",
          "data": {
            "text/html": [
              "<div>\n",
              "<style scoped>\n",
              "    .dataframe tbody tr th:only-of-type {\n",
              "        vertical-align: middle;\n",
              "    }\n",
              "\n",
              "    .dataframe tbody tr th {\n",
              "        vertical-align: top;\n",
              "    }\n",
              "\n",
              "    .dataframe thead th {\n",
              "        text-align: right;\n",
              "    }\n",
              "</style>\n",
              "<table border=\"1\" class=\"dataframe\">\n",
              "  <thead>\n",
              "    <tr style=\"text-align: right;\">\n",
              "      <th></th>\n",
              "      <th>recency</th>\n",
              "      <th>frequency</th>\n",
              "      <th>monetary</th>\n",
              "      <th>r_quartile</th>\n",
              "      <th>f_quartile</th>\n",
              "      <th>m_quartile</th>\n",
              "      <th>RFM_Score</th>\n",
              "      <th>RFM_Score_Numbers</th>\n",
              "    </tr>\n",
              "    <tr>\n",
              "      <th>User_ID</th>\n",
              "      <th></th>\n",
              "      <th></th>\n",
              "      <th></th>\n",
              "      <th></th>\n",
              "      <th></th>\n",
              "      <th></th>\n",
              "      <th></th>\n",
              "      <th></th>\n",
              "    </tr>\n",
              "  </thead>\n",
              "  <tbody>\n",
              "    <tr>\n",
              "      <th>00000000-0000-0000-0000-000000000000</th>\n",
              "      <td>73</td>\n",
              "      <td>2.0</td>\n",
              "      <td>3558</td>\n",
              "      <td>1</td>\n",
              "      <td>4</td>\n",
              "      <td>4</td>\n",
              "      <td>Churned Best Customers</td>\n",
              "      <td>144</td>\n",
              "    </tr>\n",
              "    <tr>\n",
              "      <th>0000279A-87C8-E811-90F9-00155D619647</th>\n",
              "      <td>78</td>\n",
              "      <td>1.0</td>\n",
              "      <td>137</td>\n",
              "      <td>1</td>\n",
              "      <td>2</td>\n",
              "      <td>1</td>\n",
              "      <td>Not Big Spender Customers</td>\n",
              "      <td>121</td>\n",
              "    </tr>\n",
              "    <tr>\n",
              "      <th>00003B79-3370-EA11-80D3-00155D7CD320</th>\n",
              "      <td>64</td>\n",
              "      <td>1.0</td>\n",
              "      <td>4199</td>\n",
              "      <td>1</td>\n",
              "      <td>2</td>\n",
              "      <td>4</td>\n",
              "      <td>Churned Best Customers</td>\n",
              "      <td>124</td>\n",
              "    </tr>\n",
              "    <tr>\n",
              "      <th>0000A4AF-1986-EA11-80D4-00155D7CD320</th>\n",
              "      <td>36</td>\n",
              "      <td>1.0</td>\n",
              "      <td>477</td>\n",
              "      <td>3</td>\n",
              "      <td>2</td>\n",
              "      <td>2</td>\n",
              "      <td>New Not Spender Customers</td>\n",
              "      <td>322</td>\n",
              "    </tr>\n",
              "    <tr>\n",
              "      <th>00010E76-A380-EA11-80CE-00155D61134E</th>\n",
              "      <td>43</td>\n",
              "      <td>1.0</td>\n",
              "      <td>184</td>\n",
              "      <td>2</td>\n",
              "      <td>2</td>\n",
              "      <td>1</td>\n",
              "      <td>Not Big Spender Customers</td>\n",
              "      <td>221</td>\n",
              "    </tr>\n",
              "  </tbody>\n",
              "</table>\n",
              "</div>"
            ],
            "text/plain": [
              "                                      recency  ...  RFM_Score_Numbers\n",
              "User_ID                                        ...                   \n",
              "00000000-0000-0000-0000-000000000000       73  ...                144\n",
              "0000279A-87C8-E811-90F9-00155D619647       78  ...                121\n",
              "00003B79-3370-EA11-80D3-00155D7CD320       64  ...                124\n",
              "0000A4AF-1986-EA11-80D4-00155D7CD320       36  ...                322\n",
              "00010E76-A380-EA11-80CE-00155D61134E       43  ...                221\n",
              "\n",
              "[5 rows x 8 columns]"
            ]
          },
          "metadata": {
            "tags": []
          },
          "execution_count": 46
        }
      ]
    },
    {
      "cell_type": "code",
      "metadata": {
        "id": "jHIvw-rya3Mj",
        "colab_type": "code",
        "colab": {
          "base_uri": "https://localhost:8080/",
          "height": 285
        },
        "outputId": "b39ff579-3e30-4ea5-825e-8c0433786a7b"
      },
      "source": [
        "rfm_updated7['recency'].plot.hist()"
      ],
      "execution_count": 47,
      "outputs": [
        {
          "output_type": "execute_result",
          "data": {
            "text/plain": [
              "<matplotlib.axes._subplots.AxesSubplot at 0x7fe1c313fdd8>"
            ]
          },
          "metadata": {
            "tags": []
          },
          "execution_count": 47
        },
        {
          "output_type": "display_data",
          "data": {
            "image/png": "[encoded data removed]",
            "text/plain": [
              "<Figure size 432x288 with 1 Axes>"
            ]
          },
          "metadata": {
            "tags": []
          }
        }
      ]
    },
    {
      "cell_type": "code",
      "metadata": {
        "id": "7iW5OEZzbzn2",
        "colab_type": "code",
        "colab": {
          "base_uri": "https://localhost:8080/",
          "height": 288
        },
        "outputId": "151b8444-04b3-4255-cd4c-88cfa1d828fd"
      },
      "source": [
        "rfm_updated7[rfm_updated7[\"RFM_Score\"] == \"New Not Spender Customers\"]['monetary'].plot.hist(bins=50)"
      ],
      "execution_count": 48,
      "outputs": [
        {
          "output_type": "execute_result",
          "data": {
            "text/plain": [
              "<matplotlib.axes._subplots.AxesSubplot at 0x7fe1c387a5f8>"
            ]
          },
          "metadata": {
            "tags": []
          },
          "execution_count": 48
        },
        {
          "output_type": "display_data",
          "data": {
            "image/png": "[encoded data removed]",
            "text/plain": [
              "<Figure size 432x288 with 1 Axes>"
            ]
          },
          "metadata": {
            "tags": []
          }
        }
      ]
    },
    {
      "cell_type": "code",
      "metadata": {
        "id": "AoojUL3znLth",
        "colab_type": "code",
        "colab": {
          "base_uri": "https://localhost:8080/",
          "height": 477
        },
        "outputId": "c6eeda1e-1b5f-42a5-a489-65e3f2fd831e"
      },
      "source": [
        "RFM_with_SignUpDate2 = rfm_updated7.merge(projectData_SignUpDate,on = \"User_ID\", how= \"left\", )\n",
        "RFM_with_SignUpDate2.head(5)"
      ],
      "execution_count": 49,
      "outputs": [
        {
          "output_type": "execute_result",
          "data": {
            "text/html": [
              "<div>\n",
              "<style scoped>\n",
              "    .dataframe tbody tr th:only-of-type {\n",
              "        vertical-align: middle;\n",
              "    }\n",
              "\n",
              "    .dataframe tbody tr th {\n",
              "        vertical-align: top;\n",
              "    }\n",
              "\n",
              "    .dataframe thead th {\n",
              "        text-align: right;\n",
              "    }\n",
              "</style>\n",
              "<table border=\"1\" class=\"dataframe\">\n",
              "  <thead>\n",
              "    <tr style=\"text-align: right;\">\n",
              "      <th></th>\n",
              "      <th>User_ID</th>\n",
              "      <th>recency</th>\n",
              "      <th>frequency</th>\n",
              "      <th>monetary</th>\n",
              "      <th>r_quartile</th>\n",
              "      <th>f_quartile</th>\n",
              "      <th>m_quartile</th>\n",
              "      <th>RFM_Score</th>\n",
              "      <th>RFM_Score_Numbers</th>\n",
              "      <th>SignUp_Date</th>\n",
              "    </tr>\n",
              "  </thead>\n",
              "  <tbody>\n",
              "    <tr>\n",
              "      <th>0</th>\n",
              "      <td>00000000-0000-0000-0000-000000000000</td>\n",
              "      <td>73</td>\n",
              "      <td>2.0</td>\n",
              "      <td>3558</td>\n",
              "      <td>1</td>\n",
              "      <td>4</td>\n",
              "      <td>4</td>\n",
              "      <td>Churned Best Customers</td>\n",
              "      <td>144</td>\n",
              "      <td>20181122</td>\n",
              "    </tr>\n",
              "    <tr>\n",
              "      <th>1</th>\n",
              "      <td>0000279A-87C8-E811-90F9-00155D619647</td>\n",
              "      <td>78</td>\n",
              "      <td>1.0</td>\n",
              "      <td>137</td>\n",
              "      <td>1</td>\n",
              "      <td>2</td>\n",
              "      <td>1</td>\n",
              "      <td>Not Big Spender Customers</td>\n",
              "      <td>121</td>\n",
              "      <td>20181122</td>\n",
              "    </tr>\n",
              "    <tr>\n",
              "      <th>2</th>\n",
              "      <td>00003B79-3370-EA11-80D3-00155D7CD320</td>\n",
              "      <td>64</td>\n",
              "      <td>1.0</td>\n",
              "      <td>4199</td>\n",
              "      <td>1</td>\n",
              "      <td>2</td>\n",
              "      <td>4</td>\n",
              "      <td>Churned Best Customers</td>\n",
              "      <td>124</td>\n",
              "      <td>20200327</td>\n",
              "    </tr>\n",
              "    <tr>\n",
              "      <th>3</th>\n",
              "      <td>0000A4AF-1986-EA11-80D4-00155D7CD320</td>\n",
              "      <td>36</td>\n",
              "      <td>1.0</td>\n",
              "      <td>477</td>\n",
              "      <td>3</td>\n",
              "      <td>2</td>\n",
              "      <td>2</td>\n",
              "      <td>New Not Spender Customers</td>\n",
              "      <td>322</td>\n",
              "      <td>20200424</td>\n",
              "    </tr>\n",
              "    <tr>\n",
              "      <th>4</th>\n",
              "      <td>00010E76-A380-EA11-80CE-00155D61134E</td>\n",
              "      <td>43</td>\n",
              "      <td>1.0</td>\n",
              "      <td>184</td>\n",
              "      <td>2</td>\n",
              "      <td>2</td>\n",
              "      <td>1</td>\n",
              "      <td>Not Big Spender Customers</td>\n",
              "      <td>221</td>\n",
              "      <td>20200417</td>\n",
              "    </tr>\n",
              "  </tbody>\n",
              "</table>\n",
              "</div>"
            ],
            "text/plain": [
              "                                User_ID  recency  ...  RFM_Score_Numbers  SignUp_Date\n",
              "0  00000000-0000-0000-0000-000000000000       73  ...                144     20181122\n",
              "1  0000279A-87C8-E811-90F9-00155D619647       78  ...                121     20181122\n",
              "2  00003B79-3370-EA11-80D3-00155D7CD320       64  ...                124     20200327\n",
              "3  0000A4AF-1986-EA11-80D4-00155D7CD320       36  ...                322     20200424\n",
              "4  00010E76-A380-EA11-80CE-00155D61134E       43  ...                221     20200417\n",
              "\n",
              "[5 rows x 10 columns]"
            ]
          },
          "metadata": {
            "tags": []
          },
          "execution_count": 49
        }
      ]
    },
    {
      "cell_type": "code",
      "metadata": {
        "id": "TaP83B9rg--u",
        "colab_type": "code",
        "colab": {
          "base_uri": "https://localhost:8080/",
          "height": 207
        },
        "outputId": "d28a62fb-08b3-4a0b-f6aa-09df3efa9ad5"
      },
      "source": [
        "RFM_with_SignUpDate2.nunique()"
      ],
      "execution_count": 50,
      "outputs": [
        {
          "output_type": "execute_result",
          "data": {
            "text/plain": [
              "User_ID              143728\n",
              "recency                 150\n",
              "frequency                91\n",
              "monetary               9365\n",
              "r_quartile                4\n",
              "f_quartile                2\n",
              "m_quartile                4\n",
              "RFM_Score                 6\n",
              "RFM_Score_Numbers        32\n",
              "SignUp_Date             551\n",
              "dtype: int64"
            ]
          },
          "metadata": {
            "tags": []
          },
          "execution_count": 50
        }
      ]
    },
    {
      "cell_type": "code",
      "metadata": {
        "id": "HpD10HsWd3Zo",
        "colab_type": "code",
        "colab": {
          "base_uri": "https://localhost:8080/",
          "height": 311
        },
        "outputId": "47e7a8f7-c696-4ac4-a615-9902f270ff2f"
      },
      "source": [
        "RFM_with_SignUpDate2.info()"
      ],
      "execution_count": 51,
      "outputs": [
        {
          "output_type": "stream",
          "text": [
            "<class 'pandas.core.frame.DataFrame'>\n",
            "Int64Index: 143728 entries, 0 to 143727\n",
            "Data columns (total 10 columns):\n",
            " #   Column             Non-Null Count   Dtype   \n",
            "---  ------             --------------   -----   \n",
            " 0   User_ID            143728 non-null  object  \n",
            " 1   recency            143728 non-null  int64   \n",
            " 2   frequency          143728 non-null  float64 \n",
            " 3   monetary           143728 non-null  int64   \n",
            " 4   r_quartile         143728 non-null  category\n",
            " 5   f_quartile         143728 non-null  int64   \n",
            " 6   m_quartile         143728 non-null  category\n",
            " 7   RFM_Score          143728 non-null  object  \n",
            " 8   RFM_Score_Numbers  143728 non-null  object  \n",
            " 9   SignUp_Date        143728 non-null  int64   \n",
            "dtypes: category(2), float64(1), int64(4), object(3)\n",
            "memory usage: 10.1+ MB\n"
          ],
          "name": "stdout"
        }
      ]
    },
    {
      "cell_type": "code",
      "metadata": {
        "id": "vGG_P0buk57_",
        "colab_type": "code",
        "colab": {
          "base_uri": "https://localhost:8080/",
          "height": 479
        },
        "outputId": "281e8e0b-25f0-44fb-c0f6-0b3ef3ef9ed3"
      },
      "source": [
        "RFM_Groupss=rfm_updated7[['RFM_Score', 'recency', 'frequency', 'monetary']].groupby(['RFM_Score']).agg(['mean', 'count','max','min'])\n",
        "RFM_Groupss\n"
      ],
      "execution_count": 53,
      "outputs": [
        {
          "output_type": "execute_result",
          "data": {
            "text/html": [
              "<div>\n",
              "<style scoped>\n",
              "    .dataframe tbody tr th:only-of-type {\n",
              "        vertical-align: middle;\n",
              "    }\n",
              "\n",
              "    .dataframe tbody tr th {\n",
              "        vertical-align: top;\n",
              "    }\n",
              "\n",
              "    .dataframe thead tr th {\n",
              "        text-align: left;\n",
              "    }\n",
              "\n",
              "    .dataframe thead tr:last-of-type th {\n",
              "        text-align: right;\n",
              "    }\n",
              "</style>\n",
              "<table border=\"1\" class=\"dataframe\">\n",
              "  <thead>\n",
              "    <tr>\n",
              "      <th></th>\n",
              "      <th colspan=\"4\" halign=\"left\">recency</th>\n",
              "      <th colspan=\"4\" halign=\"left\">frequency</th>\n",
              "      <th colspan=\"4\" halign=\"left\">monetary</th>\n",
              "    </tr>\n",
              "    <tr>\n",
              "      <th></th>\n",
              "      <th>mean</th>\n",
              "      <th>count</th>\n",
              "      <th>max</th>\n",
              "      <th>min</th>\n",
              "      <th>mean</th>\n",
              "      <th>count</th>\n",
              "      <th>max</th>\n",
              "      <th>min</th>\n",
              "      <th>mean</th>\n",
              "      <th>count</th>\n",
              "      <th>max</th>\n",
              "      <th>min</th>\n",
              "    </tr>\n",
              "    <tr>\n",
              "      <th>RFM_Score</th>\n",
              "      <th></th>\n",
              "      <th></th>\n",
              "      <th></th>\n",
              "      <th></th>\n",
              "      <th></th>\n",
              "      <th></th>\n",
              "      <th></th>\n",
              "      <th></th>\n",
              "      <th></th>\n",
              "      <th></th>\n",
              "      <th></th>\n",
              "      <th></th>\n",
              "    </tr>\n",
              "  </thead>\n",
              "  <tbody>\n",
              "    <tr>\n",
              "      <th>Best Customers</th>\n",
              "      <td>13.308713</td>\n",
              "      <td>3994</td>\n",
              "      <td>23</td>\n",
              "      <td>1</td>\n",
              "      <td>5.428643</td>\n",
              "      <td>3994</td>\n",
              "      <td>563.0</td>\n",
              "      <td>2.0</td>\n",
              "      <td>21234.797446</td>\n",
              "      <td>3994</td>\n",
              "      <td>2807569</td>\n",
              "      <td>3244</td>\n",
              "    </tr>\n",
              "    <tr>\n",
              "      <th>Churned Best Customers</th>\n",
              "      <td>94.919822</td>\n",
              "      <td>17112</td>\n",
              "      <td>150</td>\n",
              "      <td>61</td>\n",
              "      <td>1.158018</td>\n",
              "      <td>17112</td>\n",
              "      <td>127.0</td>\n",
              "      <td>1.0</td>\n",
              "      <td>4002.509409</td>\n",
              "      <td>17112</td>\n",
              "      <td>749593</td>\n",
              "      <td>1001</td>\n",
              "    </tr>\n",
              "    <tr>\n",
              "      <th>Lowest-Spending Active Loyal Customers</th>\n",
              "      <td>38.902244</td>\n",
              "      <td>3744</td>\n",
              "      <td>150</td>\n",
              "      <td>1</td>\n",
              "      <td>2.103098</td>\n",
              "      <td>3744</td>\n",
              "      <td>8.0</td>\n",
              "      <td>2.0</td>\n",
              "      <td>451.436966</td>\n",
              "      <td>3744</td>\n",
              "      <td>998</td>\n",
              "      <td>16</td>\n",
              "    </tr>\n",
              "    <tr>\n",
              "      <th>New Not Spender Customers</th>\n",
              "      <td>22.769524</td>\n",
              "      <td>33357</td>\n",
              "      <td>40</td>\n",
              "      <td>1</td>\n",
              "      <td>1.000000</td>\n",
              "      <td>33357</td>\n",
              "      <td>1.0</td>\n",
              "      <td>1.0</td>\n",
              "      <td>292.519891</td>\n",
              "      <td>33357</td>\n",
              "      <td>999</td>\n",
              "      <td>4</td>\n",
              "    </tr>\n",
              "    <tr>\n",
              "      <th>Not Big Spender Customers</th>\n",
              "      <td>73.345750</td>\n",
              "      <td>35222</td>\n",
              "      <td>150</td>\n",
              "      <td>41</td>\n",
              "      <td>1.000000</td>\n",
              "      <td>35222</td>\n",
              "      <td>1.0</td>\n",
              "      <td>1.0</td>\n",
              "      <td>298.263103</td>\n",
              "      <td>35222</td>\n",
              "      <td>999</td>\n",
              "      <td>1</td>\n",
              "    </tr>\n",
              "    <tr>\n",
              "      <th>Promising Best Customers</th>\n",
              "      <td>32.630569</td>\n",
              "      <td>50299</td>\n",
              "      <td>60</td>\n",
              "      <td>1</td>\n",
              "      <td>1.218911</td>\n",
              "      <td>50299</td>\n",
              "      <td>184.0</td>\n",
              "      <td>1.0</td>\n",
              "      <td>4373.828466</td>\n",
              "      <td>50299</td>\n",
              "      <td>1137419</td>\n",
              "      <td>1000</td>\n",
              "    </tr>\n",
              "  </tbody>\n",
              "</table>\n",
              "</div>"
            ],
            "text/plain": [
              "                                          recency         ... monetary      \n",
              "                                             mean  count  ...      max   min\n",
              "RFM_Score                                                 ...               \n",
              "Best Customers                          13.308713   3994  ...  2807569  3244\n",
              "Churned Best Customers                  94.919822  17112  ...   749593  1001\n",
              "Lowest-Spending Active Loyal Customers  38.902244   3744  ...      998    16\n",
              "New Not Spender Customers               22.769524  33357  ...      999     4\n",
              "Not Big Spender Customers               73.345750  35222  ...      999     1\n",
              "Promising Best Customers                32.630569  50299  ...  1137419  1000\n",
              "\n",
              "[6 rows x 12 columns]"
            ]
          },
          "metadata": {
            "tags": []
          },
          "execution_count": 53
        }
      ]
    },
    {
      "cell_type": "code",
      "metadata": {
        "id": "Bri8Az9BpZML",
        "colab_type": "code",
        "colab": {}
      },
      "source": [
        "from google.colab import files\n",
        "RFM_Groupss.to_csv(path_or_buf='/content/RFM_Groupss.csv')"
      ],
      "execution_count": null,
      "outputs": []
    },
    {
      "cell_type": "code",
      "metadata": {
        "id": "N7ISqIMRpe4Q",
        "colab_type": "code",
        "colab": {}
      },
      "source": [
        "files.download('/content/RFM_Groupss.csv')"
      ],
      "execution_count": null,
      "outputs": []
    },
    {
      "cell_type": "code",
      "metadata": {
        "id": "TNYykfJFCPlG",
        "colab_type": "code",
        "colab": {}
      },
      "source": [
        "from google.colab import files\n",
        "rfm_updated7.to_csv(path_or_buf='/content/signUp_RFMTeknosa.csv')"
      ],
      "execution_count": null,
      "outputs": []
    },
    {
      "cell_type": "code",
      "metadata": {
        "id": "Yghxry06FvOj",
        "colab_type": "code",
        "colab": {}
      },
      "source": [
        "files.download('/content/signUp_RFMTeknosa.csv')"
      ],
      "execution_count": null,
      "outputs": []
    },
    {
      "cell_type": "code",
      "metadata": {
        "id": "eUggXEsYGS9v",
        "colab_type": "code",
        "colab": {
          "base_uri": "https://localhost:8080/",
          "height": 288
        },
        "outputId": "9a7d612d-69ea-438c-c270-a2b6200d0572"
      },
      "source": [
        "RFM_with_SignUpDate2.describe()"
      ],
      "execution_count": 54,
      "outputs": [
        {
          "output_type": "execute_result",
          "data": {
            "text/html": [
              "<div>\n",
              "<style scoped>\n",
              "    .dataframe tbody tr th:only-of-type {\n",
              "        vertical-align: middle;\n",
              "    }\n",
              "\n",
              "    .dataframe tbody tr th {\n",
              "        vertical-align: top;\n",
              "    }\n",
              "\n",
              "    .dataframe thead th {\n",
              "        text-align: right;\n",
              "    }\n",
              "</style>\n",
              "<table border=\"1\" class=\"dataframe\">\n",
              "  <thead>\n",
              "    <tr style=\"text-align: right;\">\n",
              "      <th></th>\n",
              "      <th>recency</th>\n",
              "      <th>frequency</th>\n",
              "      <th>monetary</th>\n",
              "      <th>f_quartile</th>\n",
              "      <th>SignUp_Date</th>\n",
              "    </tr>\n",
              "  </thead>\n",
              "  <tbody>\n",
              "    <tr>\n",
              "      <th>count</th>\n",
              "      <td>143728.000000</td>\n",
              "      <td>143728.000000</td>\n",
              "      <td>1.437280e+05</td>\n",
              "      <td>143728.000000</td>\n",
              "      <td>1.437280e+05</td>\n",
              "    </tr>\n",
              "    <tr>\n",
              "      <th>mean</th>\n",
              "      <td>47.362135</td>\n",
              "      <td>1.247224</td>\n",
              "      <td>2.750022e+03</td>\n",
              "      <td>2.223269</td>\n",
              "      <td>2.019642e+07</td>\n",
              "    </tr>\n",
              "    <tr>\n",
              "      <th>std</th>\n",
              "      <td>34.014627</td>\n",
              "      <td>3.014598</td>\n",
              "      <td>1.684836e+04</td>\n",
              "      <td>0.629835</td>\n",
              "      <td>7.379951e+03</td>\n",
              "    </tr>\n",
              "    <tr>\n",
              "      <th>min</th>\n",
              "      <td>1.000000</td>\n",
              "      <td>1.000000</td>\n",
              "      <td>1.000000e+00</td>\n",
              "      <td>2.000000</td>\n",
              "      <td>2.018112e+07</td>\n",
              "    </tr>\n",
              "    <tr>\n",
              "      <th>25%</th>\n",
              "      <td>23.000000</td>\n",
              "      <td>1.000000</td>\n",
              "      <td>2.180000e+02</td>\n",
              "      <td>2.000000</td>\n",
              "      <td>2.020011e+07</td>\n",
              "    </tr>\n",
              "    <tr>\n",
              "      <th>50%</th>\n",
              "      <td>40.000000</td>\n",
              "      <td>1.000000</td>\n",
              "      <td>9.990000e+02</td>\n",
              "      <td>2.000000</td>\n",
              "      <td>2.020041e+07</td>\n",
              "    </tr>\n",
              "    <tr>\n",
              "      <th>75%</th>\n",
              "      <td>60.000000</td>\n",
              "      <td>1.000000</td>\n",
              "      <td>3.239000e+03</td>\n",
              "      <td>2.000000</td>\n",
              "      <td>2.020043e+07</td>\n",
              "    </tr>\n",
              "    <tr>\n",
              "      <th>max</th>\n",
              "      <td>150.000000</td>\n",
              "      <td>563.000000</td>\n",
              "      <td>2.807569e+06</td>\n",
              "      <td>4.000000</td>\n",
              "      <td>2.020053e+07</td>\n",
              "    </tr>\n",
              "  </tbody>\n",
              "</table>\n",
              "</div>"
            ],
            "text/plain": [
              "             recency      frequency      monetary     f_quartile   SignUp_Date\n",
              "count  143728.000000  143728.000000  1.437280e+05  143728.000000  1.437280e+05\n",
              "mean       47.362135       1.247224  2.750022e+03       2.223269  2.019642e+07\n",
              "std        34.014627       3.014598  1.684836e+04       0.629835  7.379951e+03\n",
              "min         1.000000       1.000000  1.000000e+00       2.000000  2.018112e+07\n",
              "25%        23.000000       1.000000  2.180000e+02       2.000000  2.020011e+07\n",
              "50%        40.000000       1.000000  9.990000e+02       2.000000  2.020041e+07\n",
              "75%        60.000000       1.000000  3.239000e+03       2.000000  2.020043e+07\n",
              "max       150.000000     563.000000  2.807569e+06       4.000000  2.020053e+07"
            ]
          },
          "metadata": {
            "tags": []
          },
          "execution_count": 54
        }
      ]
    },
    {
      "cell_type": "code",
      "metadata": {
        "id": "laIWAqafi2qQ",
        "colab_type": "code",
        "colab": {
          "base_uri": "https://localhost:8080/",
          "height": 311
        },
        "outputId": "96cdaa29-cae8-44e7-d252-211f43a7e07e"
      },
      "source": [
        "RFM_with_SignUpDate2.info()"
      ],
      "execution_count": 55,
      "outputs": [
        {
          "output_type": "stream",
          "text": [
            "<class 'pandas.core.frame.DataFrame'>\n",
            "Int64Index: 143728 entries, 0 to 143727\n",
            "Data columns (total 10 columns):\n",
            " #   Column             Non-Null Count   Dtype   \n",
            "---  ------             --------------   -----   \n",
            " 0   User_ID            143728 non-null  object  \n",
            " 1   recency            143728 non-null  int64   \n",
            " 2   frequency          143728 non-null  float64 \n",
            " 3   monetary           143728 non-null  int64   \n",
            " 4   r_quartile         143728 non-null  category\n",
            " 5   f_quartile         143728 non-null  int64   \n",
            " 6   m_quartile         143728 non-null  category\n",
            " 7   RFM_Score          143728 non-null  object  \n",
            " 8   RFM_Score_Numbers  143728 non-null  object  \n",
            " 9   SignUp_Date        143728 non-null  int64   \n",
            "dtypes: category(2), float64(1), int64(4), object(3)\n",
            "memory usage: 10.1+ MB\n"
          ],
          "name": "stdout"
        }
      ]
    },
    {
      "cell_type": "code",
      "metadata": {
        "id": "zxio3lEmjHqo",
        "colab_type": "code",
        "colab": {
          "base_uri": "https://localhost:8080/",
          "height": 408
        },
        "outputId": "4a98cb90-d3f2-4d3c-b828-f09d73ffaadc"
      },
      "source": [
        "product_quantity_performance = projectData.groupby(\"DateTime\")[\"Quantity\"].sum().reset_index()\n",
        "product_quantity_performance"
      ],
      "execution_count": 56,
      "outputs": [
        {
          "output_type": "execute_result",
          "data": {
            "text/html": [
              "<div>\n",
              "<style scoped>\n",
              "    .dataframe tbody tr th:only-of-type {\n",
              "        vertical-align: middle;\n",
              "    }\n",
              "\n",
              "    .dataframe tbody tr th {\n",
              "        vertical-align: top;\n",
              "    }\n",
              "\n",
              "    .dataframe thead th {\n",
              "        text-align: right;\n",
              "    }\n",
              "</style>\n",
              "<table border=\"1\" class=\"dataframe\">\n",
              "  <thead>\n",
              "    <tr style=\"text-align: right;\">\n",
              "      <th></th>\n",
              "      <th>DateTime</th>\n",
              "      <th>Quantity</th>\n",
              "    </tr>\n",
              "  </thead>\n",
              "  <tbody>\n",
              "    <tr>\n",
              "      <th>0</th>\n",
              "      <td>2020-01-01</td>\n",
              "      <td>383</td>\n",
              "    </tr>\n",
              "    <tr>\n",
              "      <th>1</th>\n",
              "      <td>2020-01-02</td>\n",
              "      <td>546</td>\n",
              "    </tr>\n",
              "    <tr>\n",
              "      <th>2</th>\n",
              "      <td>2020-01-03</td>\n",
              "      <td>547</td>\n",
              "    </tr>\n",
              "    <tr>\n",
              "      <th>3</th>\n",
              "      <td>2020-01-04</td>\n",
              "      <td>540</td>\n",
              "    </tr>\n",
              "    <tr>\n",
              "      <th>4</th>\n",
              "      <td>2020-01-05</td>\n",
              "      <td>337</td>\n",
              "    </tr>\n",
              "    <tr>\n",
              "      <th>...</th>\n",
              "      <td>...</td>\n",
              "      <td>...</td>\n",
              "    </tr>\n",
              "    <tr>\n",
              "      <th>145</th>\n",
              "      <td>2020-05-25</td>\n",
              "      <td>1214</td>\n",
              "    </tr>\n",
              "    <tr>\n",
              "      <th>146</th>\n",
              "      <td>2020-05-26</td>\n",
              "      <td>1217</td>\n",
              "    </tr>\n",
              "    <tr>\n",
              "      <th>147</th>\n",
              "      <td>2020-05-27</td>\n",
              "      <td>2678</td>\n",
              "    </tr>\n",
              "    <tr>\n",
              "      <th>148</th>\n",
              "      <td>2020-05-28</td>\n",
              "      <td>2652</td>\n",
              "    </tr>\n",
              "    <tr>\n",
              "      <th>149</th>\n",
              "      <td>2020-05-29</td>\n",
              "      <td>2475</td>\n",
              "    </tr>\n",
              "  </tbody>\n",
              "</table>\n",
              "<p>150 rows × 2 columns</p>\n",
              "</div>"
            ],
            "text/plain": [
              "      DateTime  Quantity\n",
              "0   2020-01-01       383\n",
              "1   2020-01-02       546\n",
              "2   2020-01-03       547\n",
              "3   2020-01-04       540\n",
              "4   2020-01-05       337\n",
              "..         ...       ...\n",
              "145 2020-05-25      1214\n",
              "146 2020-05-26      1217\n",
              "147 2020-05-27      2678\n",
              "148 2020-05-28      2652\n",
              "149 2020-05-29      2475\n",
              "\n",
              "[150 rows x 2 columns]"
            ]
          },
          "metadata": {
            "tags": []
          },
          "execution_count": 56
        }
      ]
    },
    {
      "cell_type": "code",
      "metadata": {
        "id": "mQILkiJZuX31",
        "colab_type": "code",
        "colab": {
          "base_uri": "https://localhost:8080/",
          "height": 271
        },
        "outputId": "97ba886d-f6f1-4c52-fc34-267dc905a310"
      },
      "source": [
        "# Visualize it\n",
        "plt.figure(figsize=(18,5))\n",
        "sns.lineplot(x= \"DateTime\" ,y = \"Quantity\", data = product_quantity_performance)\n",
        "plt.xlabel(\"Year and months\")\n",
        "plt.ylabel(\"Quantity\")\n",
        "plt.title(\"Quantity Over Year and months\")\n",
        "plt.show()\n",
        "\n"
      ],
      "execution_count": 57,
      "outputs": [
        {
          "output_type": "display_data",
          "data": {
            "image/png": "[encoded data removed]",
            "text/plain": [
              "<Figure size 1296x360 with 1 Axes>"
            ]
          },
          "metadata": {
            "tags": []
          }
        }
      ]
    },
    {
      "cell_type": "code",
      "metadata": {
        "id": "kbxyXiU8uxbL",
        "colab_type": "code",
        "colab": {
          "base_uri": "https://localhost:8080/",
          "height": 408
        },
        "outputId": "b118707b-e1c3-4f4b-b195-a20a1d7ecdab"
      },
      "source": [
        "product_revenue_performance = projectData.groupby(\"DateTime\")[\"Revenue\"].sum().reset_index()\n",
        "product_revenue_performance"
      ],
      "execution_count": 58,
      "outputs": [
        {
          "output_type": "execute_result",
          "data": {
            "text/html": [
              "<div>\n",
              "<style scoped>\n",
              "    .dataframe tbody tr th:only-of-type {\n",
              "        vertical-align: middle;\n",
              "    }\n",
              "\n",
              "    .dataframe tbody tr th {\n",
              "        vertical-align: top;\n",
              "    }\n",
              "\n",
              "    .dataframe thead th {\n",
              "        text-align: right;\n",
              "    }\n",
              "</style>\n",
              "<table border=\"1\" class=\"dataframe\">\n",
              "  <thead>\n",
              "    <tr style=\"text-align: right;\">\n",
              "      <th></th>\n",
              "      <th>DateTime</th>\n",
              "      <th>Revenue</th>\n",
              "    </tr>\n",
              "  </thead>\n",
              "  <tbody>\n",
              "    <tr>\n",
              "      <th>0</th>\n",
              "      <td>2020-01-01</td>\n",
              "      <td>431034.96</td>\n",
              "    </tr>\n",
              "    <tr>\n",
              "      <th>1</th>\n",
              "      <td>2020-01-02</td>\n",
              "      <td>1394399.50</td>\n",
              "    </tr>\n",
              "    <tr>\n",
              "      <th>2</th>\n",
              "      <td>2020-01-03</td>\n",
              "      <td>1491376.84</td>\n",
              "    </tr>\n",
              "    <tr>\n",
              "      <th>3</th>\n",
              "      <td>2020-01-04</td>\n",
              "      <td>1597144.91</td>\n",
              "    </tr>\n",
              "    <tr>\n",
              "      <th>4</th>\n",
              "      <td>2020-01-05</td>\n",
              "      <td>584669.35</td>\n",
              "    </tr>\n",
              "    <tr>\n",
              "      <th>...</th>\n",
              "      <td>...</td>\n",
              "      <td>...</td>\n",
              "    </tr>\n",
              "    <tr>\n",
              "      <th>145</th>\n",
              "      <td>2020-05-25</td>\n",
              "      <td>1582978.59</td>\n",
              "    </tr>\n",
              "    <tr>\n",
              "      <th>146</th>\n",
              "      <td>2020-05-26</td>\n",
              "      <td>1364185.80</td>\n",
              "    </tr>\n",
              "    <tr>\n",
              "      <th>147</th>\n",
              "      <td>2020-05-27</td>\n",
              "      <td>4462628.96</td>\n",
              "    </tr>\n",
              "    <tr>\n",
              "      <th>148</th>\n",
              "      <td>2020-05-28</td>\n",
              "      <td>4966453.92</td>\n",
              "    </tr>\n",
              "    <tr>\n",
              "      <th>149</th>\n",
              "      <td>2020-05-29</td>\n",
              "      <td>5105427.76</td>\n",
              "    </tr>\n",
              "  </tbody>\n",
              "</table>\n",
              "<p>150 rows × 2 columns</p>\n",
              "</div>"
            ],
            "text/plain": [
              "      DateTime     Revenue\n",
              "0   2020-01-01   431034.96\n",
              "1   2020-01-02  1394399.50\n",
              "2   2020-01-03  1491376.84\n",
              "3   2020-01-04  1597144.91\n",
              "4   2020-01-05   584669.35\n",
              "..         ...         ...\n",
              "145 2020-05-25  1582978.59\n",
              "146 2020-05-26  1364185.80\n",
              "147 2020-05-27  4462628.96\n",
              "148 2020-05-28  4966453.92\n",
              "149 2020-05-29  5105427.76\n",
              "\n",
              "[150 rows x 2 columns]"
            ]
          },
          "metadata": {
            "tags": []
          },
          "execution_count": 58
        }
      ]
    },
    {
      "cell_type": "code",
      "metadata": {
        "id": "pw4MNEnyu63m",
        "colab_type": "code",
        "colab": {
          "base_uri": "https://localhost:8080/",
          "height": 274
        },
        "outputId": "a8300f4f-3411-411c-8ede-fd69ddc5c623"
      },
      "source": [
        "# Visualize it\n",
        "plt.figure(figsize=(18,5))\n",
        "sns.lineplot(x= \"DateTime\" ,y = \"Revenue\", data = product_revenue_performance)\n",
        "plt.xlabel(\"Year and months\")\n",
        "plt.ylabel(\"Revenue\")\n",
        "plt.title(\"Revenue Over Year and months\")\n",
        "plt.show()\n"
      ],
      "execution_count": 59,
      "outputs": [
        {
          "output_type": "display_data",
          "data": {
            "image/png": "[encoded data removed]",
            "text/plain": [
              "<Figure size 1296x360 with 1 Axes>"
            ]
          },
          "metadata": {
            "tags": []
          }
        }
      ]
    },
    {
      "cell_type": "code",
      "metadata": {
        "id": "h2sgZZTPvBfB",
        "colab_type": "code",
        "colab": {
          "base_uri": "https://localhost:8080/",
          "height": 477
        },
        "outputId": "79118c41-af00-4c54-956a-967eb4f5f375"
      },
      "source": [
        "# Create column for year and month\n",
        "projectData[\"Order_Year\"] = projectData[\"DateTime\"].dt.year\n",
        "projectData[\"Order_YM\"] = projectData[\"DateTime\"].dt.strftime(\"%Y-%m\")\n",
        "projectData.head(5)\n",
        "\n"
      ],
      "execution_count": 62,
      "outputs": [
        {
          "output_type": "execute_result",
          "data": {
            "text/html": [
              "<div>\n",
              "<style scoped>\n",
              "    .dataframe tbody tr th:only-of-type {\n",
              "        vertical-align: middle;\n",
              "    }\n",
              "\n",
              "    .dataframe tbody tr th {\n",
              "        vertical-align: top;\n",
              "    }\n",
              "\n",
              "    .dataframe thead th {\n",
              "        text-align: right;\n",
              "    }\n",
              "</style>\n",
              "<table border=\"1\" class=\"dataframe\">\n",
              "  <thead>\n",
              "    <tr style=\"text-align: right;\">\n",
              "      <th></th>\n",
              "      <th>User_ID</th>\n",
              "      <th>SignUp_Date</th>\n",
              "      <th>Transaction_ID</th>\n",
              "      <th>Date</th>\n",
              "      <th>Revenue</th>\n",
              "      <th>Quantity</th>\n",
              "      <th>DateTime</th>\n",
              "      <th>SignUp_DateTime</th>\n",
              "      <th>Order_Year</th>\n",
              "      <th>Order_YM</th>\n",
              "    </tr>\n",
              "  </thead>\n",
              "  <tbody>\n",
              "    <tr>\n",
              "      <th>0</th>\n",
              "      <td>67A9CBA3-FDC3-E811-90F9-00155D619647</td>\n",
              "      <td>20181122</td>\n",
              "      <td>2249427486</td>\n",
              "      <td>20200430</td>\n",
              "      <td>128970.00</td>\n",
              "      <td>10</td>\n",
              "      <td>2020-04-30</td>\n",
              "      <td>2018-11-22</td>\n",
              "      <td>2020</td>\n",
              "      <td>2020-04</td>\n",
              "    </tr>\n",
              "    <tr>\n",
              "      <th>1</th>\n",
              "      <td>67A9CBA3-FDC3-E811-90F9-00155D619647</td>\n",
              "      <td>20181122</td>\n",
              "      <td>2249427729</td>\n",
              "      <td>20200430</td>\n",
              "      <td>128970.00</td>\n",
              "      <td>10</td>\n",
              "      <td>2020-04-30</td>\n",
              "      <td>2018-11-22</td>\n",
              "      <td>2020</td>\n",
              "      <td>2020-04</td>\n",
              "    </tr>\n",
              "    <tr>\n",
              "      <th>2</th>\n",
              "      <td>67A9CBA3-FDC3-E811-90F9-00155D619647</td>\n",
              "      <td>20181122</td>\n",
              "      <td>2249908620</td>\n",
              "      <td>20200514</td>\n",
              "      <td>122091.00</td>\n",
              "      <td>9</td>\n",
              "      <td>2020-05-14</td>\n",
              "      <td>2018-11-22</td>\n",
              "      <td>2020</td>\n",
              "      <td>2020-05</td>\n",
              "    </tr>\n",
              "    <tr>\n",
              "      <th>3</th>\n",
              "      <td>67A9CBA3-FDC3-E811-90F9-00155D619647</td>\n",
              "      <td>20181122</td>\n",
              "      <td>2248612580</td>\n",
              "      <td>20200415</td>\n",
              "      <td>118670.00</td>\n",
              "      <td>30</td>\n",
              "      <td>2020-04-15</td>\n",
              "      <td>2018-11-22</td>\n",
              "      <td>2020</td>\n",
              "      <td>2020-04</td>\n",
              "    </tr>\n",
              "    <tr>\n",
              "      <th>4</th>\n",
              "      <td>5606F992-F6CA-E911-80CB-00155D61134E</td>\n",
              "      <td>20191023</td>\n",
              "      <td>2249010961</td>\n",
              "      <td>20200421</td>\n",
              "      <td>103494.99</td>\n",
              "      <td>15</td>\n",
              "      <td>2020-04-21</td>\n",
              "      <td>2019-10-23</td>\n",
              "      <td>2020</td>\n",
              "      <td>2020-04</td>\n",
              "    </tr>\n",
              "  </tbody>\n",
              "</table>\n",
              "</div>"
            ],
            "text/plain": [
              "                                User_ID  SignUp_Date  ... Order_Year  Order_YM\n",
              "0  67A9CBA3-FDC3-E811-90F9-00155D619647     20181122  ...       2020   2020-04\n",
              "1  67A9CBA3-FDC3-E811-90F9-00155D619647     20181122  ...       2020   2020-04\n",
              "2  67A9CBA3-FDC3-E811-90F9-00155D619647     20181122  ...       2020   2020-05\n",
              "3  67A9CBA3-FDC3-E811-90F9-00155D619647     20181122  ...       2020   2020-04\n",
              "4  5606F992-F6CA-E911-80CB-00155D61134E     20191023  ...       2020   2020-04\n",
              "\n",
              "[5 rows x 10 columns]"
            ]
          },
          "metadata": {
            "tags": []
          },
          "execution_count": 62
        }
      ]
    },
    {
      "cell_type": "code",
      "metadata": {
        "id": "EPd-IRHb2_P2",
        "colab_type": "code",
        "colab": {
          "base_uri": "https://localhost:8080/",
          "height": 198
        },
        "outputId": "9854b73d-7e13-4b09-ac70-fd8642b2333a"
      },
      "source": [
        "sales_by_year_month = projectData.groupby(\"Order_YM\").sum().reset_index()\n",
        "sales_by_year_month.head()\n"
      ],
      "execution_count": 63,
      "outputs": [
        {
          "output_type": "execute_result",
          "data": {
            "text/html": [
              "<div>\n",
              "<style scoped>\n",
              "    .dataframe tbody tr th:only-of-type {\n",
              "        vertical-align: middle;\n",
              "    }\n",
              "\n",
              "    .dataframe tbody tr th {\n",
              "        vertical-align: top;\n",
              "    }\n",
              "\n",
              "    .dataframe thead th {\n",
              "        text-align: right;\n",
              "    }\n",
              "</style>\n",
              "<table border=\"1\" class=\"dataframe\">\n",
              "  <thead>\n",
              "    <tr style=\"text-align: right;\">\n",
              "      <th></th>\n",
              "      <th>Order_YM</th>\n",
              "      <th>SignUp_Date</th>\n",
              "      <th>Date</th>\n",
              "      <th>Revenue</th>\n",
              "      <th>Quantity</th>\n",
              "      <th>Order_Year</th>\n",
              "    </tr>\n",
              "  </thead>\n",
              "  <tbody>\n",
              "    <tr>\n",
              "      <th>0</th>\n",
              "      <td>2020-01</td>\n",
              "      <td>249427165768</td>\n",
              "      <td>249511831850</td>\n",
              "      <td>2.976269e+07</td>\n",
              "      <td>16359</td>\n",
              "      <td>24951040</td>\n",
              "    </tr>\n",
              "    <tr>\n",
              "      <th>1</th>\n",
              "      <td>2020-02</td>\n",
              "      <td>248440470516</td>\n",
              "      <td>248523250760</td>\n",
              "      <td>2.347360e+07</td>\n",
              "      <td>16647</td>\n",
              "      <td>24852060</td>\n",
              "    </tr>\n",
              "    <tr>\n",
              "      <th>2</th>\n",
              "      <td>2020-03</td>\n",
              "      <td>469639330414</td>\n",
              "      <td>469758472775</td>\n",
              "      <td>5.138137e+07</td>\n",
              "      <td>33570</td>\n",
              "      <td>46975100</td>\n",
              "    </tr>\n",
              "    <tr>\n",
              "      <th>3</th>\n",
              "      <td>2020-04</td>\n",
              "      <td>1408458030039</td>\n",
              "      <td>1408777046441</td>\n",
              "      <td>1.523121e+08</td>\n",
              "      <td>99789</td>\n",
              "      <td>140874800</td>\n",
              "    </tr>\n",
              "    <tr>\n",
              "      <th>4</th>\n",
              "      <td>2020-05</td>\n",
              "      <td>1244277787867</td>\n",
              "      <td>1244573780086</td>\n",
              "      <td>1.383534e+08</td>\n",
              "      <td>83282</td>\n",
              "      <td>124454220</td>\n",
              "    </tr>\n",
              "  </tbody>\n",
              "</table>\n",
              "</div>"
            ],
            "text/plain": [
              "  Order_YM    SignUp_Date           Date       Revenue  Quantity  Order_Year\n",
              "0  2020-01   249427165768   249511831850  2.976269e+07     16359    24951040\n",
              "1  2020-02   248440470516   248523250760  2.347360e+07     16647    24852060\n",
              "2  2020-03   469639330414   469758472775  5.138137e+07     33570    46975100\n",
              "3  2020-04  1408458030039  1408777046441  1.523121e+08     99789   140874800\n",
              "4  2020-05  1244277787867  1244573780086  1.383534e+08     83282   124454220"
            ]
          },
          "metadata": {
            "tags": []
          },
          "execution_count": 63
        }
      ]
    },
    {
      "cell_type": "code",
      "metadata": {
        "id": "f_GPW5Oy3Pdb",
        "colab_type": "code",
        "colab": {
          "base_uri": "https://localhost:8080/",
          "height": 301
        },
        "outputId": "ef010ecb-3aba-4e54-938e-e8098ab5012f"
      },
      "source": [
        "# Visualize it\n",
        "sns.barplot( x = \"Order_YM\", y = \"Revenue\", data = sales_by_year_month)\n",
        "plt.xlabel(\"Order_YM\")\n",
        "plt.ylabel(\"Revenue\")\n",
        "plt.title(\"Revenue Over Year\")\n",
        "plt.show()\n",
        "\n"
      ],
      "execution_count": 64,
      "outputs": [
        {
          "output_type": "display_data",
          "data": {
            "image/png": "[encoded data removed]",
            "text/plain": [
              "<Figure size 432x288 with 1 Axes>"
            ]
          },
          "metadata": {
            "tags": []
          }
        }
      ]
    },
    {
      "cell_type": "code",
      "metadata": {
        "id": "5C5-G1QI79tJ",
        "colab_type": "code",
        "colab": {
          "base_uri": "https://localhost:8080/",
          "height": 228
        },
        "outputId": "5bbade36-95f0-40bf-e203-40c5cbb971cf"
      },
      "source": [
        "RFM_with_SignUpDate2ss = RFM_with_SignUpDate2.groupby(\"RFM_Score\")[\"monetary\"].sum().reset_index()\n",
        "RFM_with_SignUpDate2ss"
      ],
      "execution_count": 65,
      "outputs": [
        {
          "output_type": "execute_result",
          "data": {
            "text/html": [
              "<div>\n",
              "<style scoped>\n",
              "    .dataframe tbody tr th:only-of-type {\n",
              "        vertical-align: middle;\n",
              "    }\n",
              "\n",
              "    .dataframe tbody tr th {\n",
              "        vertical-align: top;\n",
              "    }\n",
              "\n",
              "    .dataframe thead th {\n",
              "        text-align: right;\n",
              "    }\n",
              "</style>\n",
              "<table border=\"1\" class=\"dataframe\">\n",
              "  <thead>\n",
              "    <tr style=\"text-align: right;\">\n",
              "      <th></th>\n",
              "      <th>RFM_Score</th>\n",
              "      <th>monetary</th>\n",
              "    </tr>\n",
              "  </thead>\n",
              "  <tbody>\n",
              "    <tr>\n",
              "      <th>0</th>\n",
              "      <td>Best Customers</td>\n",
              "      <td>84811781</td>\n",
              "    </tr>\n",
              "    <tr>\n",
              "      <th>1</th>\n",
              "      <td>Churned Best Customers</td>\n",
              "      <td>68490941</td>\n",
              "    </tr>\n",
              "    <tr>\n",
              "      <th>2</th>\n",
              "      <td>Lowest-Spending Active Loyal Customers</td>\n",
              "      <td>1690180</td>\n",
              "    </tr>\n",
              "    <tr>\n",
              "      <th>3</th>\n",
              "      <td>New Not Spender Customers</td>\n",
              "      <td>9757586</td>\n",
              "    </tr>\n",
              "    <tr>\n",
              "      <th>4</th>\n",
              "      <td>Not Big Spender Customers</td>\n",
              "      <td>10505423</td>\n",
              "    </tr>\n",
              "    <tr>\n",
              "      <th>5</th>\n",
              "      <td>Promising Best Customers</td>\n",
              "      <td>219999198</td>\n",
              "    </tr>\n",
              "  </tbody>\n",
              "</table>\n",
              "</div>"
            ],
            "text/plain": [
              "                                RFM_Score   monetary\n",
              "0                          Best Customers   84811781\n",
              "1                  Churned Best Customers   68490941\n",
              "2  Lowest-Spending Active Loyal Customers    1690180\n",
              "3               New Not Spender Customers    9757586\n",
              "4               Not Big Spender Customers   10505423\n",
              "5                Promising Best Customers  219999198"
            ]
          },
          "metadata": {
            "tags": []
          },
          "execution_count": 65
        }
      ]
    },
    {
      "cell_type": "code",
      "metadata": {
        "id": "tcpWfNXCpjcD",
        "colab_type": "code",
        "colab": {
          "base_uri": "https://localhost:8080/",
          "height": 301
        },
        "outputId": "08c62846-a489-4042-bd93-0185fd096a9b"
      },
      "source": [
        "# Visualize it\n",
        "sns.barplot( x = \"RFM_Score\", y = \"monetary\", data = RFM_with_SignUpDate2ss)\n",
        "plt.xlabel(\"RFM_with_SignUpDate2ss\")\n",
        "plt.ylabel(\"Revenue\")\n",
        "plt.title(\"Revenue Over Year\")\n",
        "plt.show()\n",
        "\n"
      ],
      "execution_count": 66,
      "outputs": [
        {
          "output_type": "display_data",
          "data": {
            "image/png": "[encoded data removed]",
            "text/plain": [
              "<Figure size 432x288 with 1 Axes>"
            ]
          },
          "metadata": {
            "tags": []
          }
        }
      ]
    }
  ]
}