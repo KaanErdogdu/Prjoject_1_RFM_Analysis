{
  "nbformat": 4,
  "nbformat_minor": 0,
  "metadata": {
    "colab": {
      "name": "RFM_Deneme.ipynb",
      "provenance": [],
      "collapsed_sections": [],
      "authorship_tag": "ABX9TyN8xsAcSlmxgU0dG22WfrWB",
      "include_colab_link": true
    },
    "kernelspec": {
      "name": "python3",
      "display_name": "Python 3"
    }
  },
  "cells": [
    {
      "cell_type": "markdown",
      "metadata": {
        "id": "view-in-github",
        "colab_type": "text"
      },
      "source": [
        "<a href=\"https://colab.research.google.com/github/KaanErdogdu/Prjoject_1_RFM_Analysis/blob/master/RFM_Deneme.ipynb\" target=\"_parent\"><img src=\"https://colab.research.google.com/assets/colab-badge.svg\" alt=\"Open In Colab\"/></a>"
      ]
    },
    {
      "cell_type": "code",
      "metadata": {
        "id": "qa9gVZhhulYj",
        "colab_type": "code",
        "outputId": "dddfc58d-02dd-432e-8b7f-abd28a5f5793",
        "colab": {
          "base_uri": "https://localhost:8080/",
          "height": 72
        }
      },
      "source": [
        "import matplotlib.pyplot as plt\n",
        "import seaborn as sns\n",
        "import numpy as np\n",
        "import pandas as pd\n",
        "import seaborn as sns\n",
        "import scipy.stats as stats\n",
        "from scipy.stats.mstats import winsorize\n",
        "from sqlalchemy import create_engine\n",
        "import warnings\n",
        "from datetime import datetime as dt, timedelta\n",
        "import datetime as dt\n",
        "\n",
        "\n",
        "\n",
        "warnings.filterwarnings('ignore')\n",
        "sns.set(style=\"whitegrid\")\n",
        "baslik_font = {'family': 'arial', 'color': 'darkred','weight': 'bold','size': 13 }\n",
        "eksen_font  = {'family': 'arial', 'color': 'darkblue','weight': 'bold','size': 10 }"
      ],
      "execution_count": 0,
      "outputs": [
        {
          "output_type": "stream",
          "text": [
            "/usr/local/lib/python3.6/dist-packages/statsmodels/tools/_testing.py:19: FutureWarning: pandas.util.testing is deprecated. Use the functions in the public API at pandas.testing instead.\n",
            "  import pandas.util.testing as tm\n"
          ],
          "name": "stderr"
        }
      ]
    },
    {
      "cell_type": "code",
      "metadata": {
        "id": "JU-dR5JZupS2",
        "colab_type": "code",
        "colab": {}
      },
      "source": [
        "projectData=pd.read_csv(\"RFM _Raw_Data.csv\")"
      ],
      "execution_count": 0,
      "outputs": []
    },
    {
      "cell_type": "code",
      "metadata": {
        "id": "FKOrCLsuu0It",
        "colab_type": "code",
        "outputId": "a7db854e-bb12-4f2a-c0f9-a2e0cf26056b",
        "colab": {
          "base_uri": "https://localhost:8080/",
          "height": 302
        }
      },
      "source": [
        "projectData.head()"
      ],
      "execution_count": 0,
      "outputs": [
        {
          "output_type": "execute_result",
          "data": {
            "text/html": [
              "<div>\n",
              "<style scoped>\n",
              "    .dataframe tbody tr th:only-of-type {\n",
              "        vertical-align: middle;\n",
              "    }\n",
              "\n",
              "    .dataframe tbody tr th {\n",
              "        vertical-align: top;\n",
              "    }\n",
              "\n",
              "    .dataframe thead th {\n",
              "        text-align: right;\n",
              "    }\n",
              "</style>\n",
              "<table border=\"1\" class=\"dataframe\">\n",
              "  <thead>\n",
              "    <tr style=\"text-align: right;\">\n",
              "      <th></th>\n",
              "      <th>cd_user_id</th>\n",
              "      <th>cd_user_signup_date</th>\n",
              "      <th>Transaction ID</th>\n",
              "      <th>Date</th>\n",
              "      <th>Revenue</th>\n",
              "      <th>Quantity</th>\n",
              "    </tr>\n",
              "  </thead>\n",
              "  <tbody>\n",
              "    <tr>\n",
              "      <th>0</th>\n",
              "      <td>67A9CBA3-FDC3-E811-90F9-00155D619647</td>\n",
              "      <td>20181122</td>\n",
              "      <td>2249427486</td>\n",
              "      <td>20200430</td>\n",
              "      <td>128970.00</td>\n",
              "      <td>10</td>\n",
              "    </tr>\n",
              "    <tr>\n",
              "      <th>1</th>\n",
              "      <td>67A9CBA3-FDC3-E811-90F9-00155D619647</td>\n",
              "      <td>20181122</td>\n",
              "      <td>2249427729</td>\n",
              "      <td>20200430</td>\n",
              "      <td>128970.00</td>\n",
              "      <td>10</td>\n",
              "    </tr>\n",
              "    <tr>\n",
              "      <th>2</th>\n",
              "      <td>67A9CBA3-FDC3-E811-90F9-00155D619647</td>\n",
              "      <td>20181122</td>\n",
              "      <td>2249908620</td>\n",
              "      <td>20200514</td>\n",
              "      <td>122091.00</td>\n",
              "      <td>9</td>\n",
              "    </tr>\n",
              "    <tr>\n",
              "      <th>3</th>\n",
              "      <td>67A9CBA3-FDC3-E811-90F9-00155D619647</td>\n",
              "      <td>20181122</td>\n",
              "      <td>2248612580</td>\n",
              "      <td>20200415</td>\n",
              "      <td>118670.00</td>\n",
              "      <td>30</td>\n",
              "    </tr>\n",
              "    <tr>\n",
              "      <th>4</th>\n",
              "      <td>5606F992-F6CA-E911-80CB-00155D61134E</td>\n",
              "      <td>20191023</td>\n",
              "      <td>2249010961</td>\n",
              "      <td>20200421</td>\n",
              "      <td>103494.99</td>\n",
              "      <td>15</td>\n",
              "    </tr>\n",
              "  </tbody>\n",
              "</table>\n",
              "</div>"
            ],
            "text/plain": [
              "                             cd_user_id  ...  Quantity\n",
              "0  67A9CBA3-FDC3-E811-90F9-00155D619647  ...        10\n",
              "1  67A9CBA3-FDC3-E811-90F9-00155D619647  ...        10\n",
              "2  67A9CBA3-FDC3-E811-90F9-00155D619647  ...         9\n",
              "3  67A9CBA3-FDC3-E811-90F9-00155D619647  ...        30\n",
              "4  5606F992-F6CA-E911-80CB-00155D61134E  ...        15\n",
              "\n",
              "[5 rows x 6 columns]"
            ]
          },
          "metadata": {
            "tags": []
          },
          "execution_count": 3
        }
      ]
    },
    {
      "cell_type": "code",
      "metadata": {
        "id": "rvgEbuPevIp3",
        "colab_type": "code",
        "colab": {}
      },
      "source": [
        "projectData.columns = ['User_ID', 'SignUp_Date', 'Transaction_ID', 'Date', 'Revenue','Quantity']"
      ],
      "execution_count": 0,
      "outputs": []
    },
    {
      "cell_type": "code",
      "metadata": {
        "id": "yroFkHBbxFKW",
        "colab_type": "code",
        "outputId": "4b8259e7-8edd-4dbc-f0a5-db15a75a96d3",
        "colab": {
          "base_uri": "https://localhost:8080/",
          "height": 242
        }
      },
      "source": [
        "projectData.info()"
      ],
      "execution_count": 0,
      "outputs": [
        {
          "output_type": "stream",
          "text": [
            "<class 'pandas.core.frame.DataFrame'>\n",
            "RangeIndex: 179261 entries, 0 to 179260\n",
            "Data columns (total 6 columns):\n",
            " #   Column          Non-Null Count   Dtype  \n",
            "---  ------          --------------   -----  \n",
            " 0   User_ID         179261 non-null  object \n",
            " 1   SignUp_Date     179261 non-null  int64  \n",
            " 2   Transaction_ID  179261 non-null  object \n",
            " 3   Date            179261 non-null  int64  \n",
            " 4   Revenue         179261 non-null  float64\n",
            " 5   Quantity        179261 non-null  int64  \n",
            "dtypes: float64(1), int64(3), object(2)\n",
            "memory usage: 8.2+ MB\n"
          ],
          "name": "stdout"
        }
      ]
    },
    {
      "cell_type": "code",
      "metadata": {
        "id": "c-4Ka-IPxHbY",
        "colab_type": "code",
        "outputId": "d1ec03a9-2d20-4bec-e62c-4944d12f6326",
        "colab": {
          "base_uri": "https://localhost:8080/",
          "height": 224
        }
      },
      "source": [
        "projectData['DateTime'] = projectData['Date'].apply(lambda x: pd.to_datetime(str(x), format='%Y%m%d'))\n",
        "projectData['DateTime']"
      ],
      "execution_count": 0,
      "outputs": [
        {
          "output_type": "execute_result",
          "data": {
            "text/plain": [
              "0        2020-04-30\n",
              "1        2020-04-30\n",
              "2        2020-05-14\n",
              "3        2020-04-15\n",
              "4        2020-04-21\n",
              "            ...    \n",
              "179256   2020-02-12\n",
              "179257   2020-04-26\n",
              "179258   2020-02-14\n",
              "179259   2020-04-09\n",
              "179260   2020-03-25\n",
              "Name: DateTime, Length: 179261, dtype: datetime64[ns]"
            ]
          },
          "metadata": {
            "tags": []
          },
          "execution_count": 6
        }
      ]
    },
    {
      "cell_type": "code",
      "metadata": {
        "id": "bmc9t5FFxK_2",
        "colab_type": "code",
        "outputId": "021847e3-bb88-4aaf-a48d-a2540540697e",
        "colab": {
          "base_uri": "https://localhost:8080/",
          "height": 224
        }
      },
      "source": [
        "projectData['SignUp_DateTime'] = projectData['SignUp_Date'].apply(lambda x: pd.to_datetime(str(x), format='%Y%m%d'))\n",
        "projectData['SignUp_DateTime']"
      ],
      "execution_count": 0,
      "outputs": [
        {
          "output_type": "execute_result",
          "data": {
            "text/plain": [
              "0        2018-11-22\n",
              "1        2018-11-22\n",
              "2        2018-11-22\n",
              "3        2018-11-22\n",
              "4        2019-10-23\n",
              "            ...    \n",
              "179256   2020-02-12\n",
              "179257   2018-11-22\n",
              "179258   2020-01-08\n",
              "179259   2020-04-09\n",
              "179260   2020-02-28\n",
              "Name: SignUp_DateTime, Length: 179261, dtype: datetime64[ns]"
            ]
          },
          "metadata": {
            "tags": []
          },
          "execution_count": 7
        }
      ]
    },
    {
      "cell_type": "code",
      "metadata": {
        "id": "Ht2RxxE_xUEc",
        "colab_type": "code",
        "outputId": "5b3956e5-bcd2-4abf-cdf5-a66945b1af7d",
        "colab": {
          "base_uri": "https://localhost:8080/",
          "height": 440
        }
      },
      "source": [
        "projectData.head()"
      ],
      "execution_count": 0,
      "outputs": [
        {
          "output_type": "execute_result",
          "data": {
            "text/html": [
              "<div>\n",
              "<style scoped>\n",
              "    .dataframe tbody tr th:only-of-type {\n",
              "        vertical-align: middle;\n",
              "    }\n",
              "\n",
              "    .dataframe tbody tr th {\n",
              "        vertical-align: top;\n",
              "    }\n",
              "\n",
              "    .dataframe thead th {\n",
              "        text-align: right;\n",
              "    }\n",
              "</style>\n",
              "<table border=\"1\" class=\"dataframe\">\n",
              "  <thead>\n",
              "    <tr style=\"text-align: right;\">\n",
              "      <th></th>\n",
              "      <th>User_ID</th>\n",
              "      <th>SignUp_Date</th>\n",
              "      <th>Transaction_ID</th>\n",
              "      <th>Date</th>\n",
              "      <th>Revenue</th>\n",
              "      <th>Quantity</th>\n",
              "      <th>DateTime</th>\n",
              "      <th>SignUp_DateTime</th>\n",
              "    </tr>\n",
              "  </thead>\n",
              "  <tbody>\n",
              "    <tr>\n",
              "      <th>0</th>\n",
              "      <td>67A9CBA3-FDC3-E811-90F9-00155D619647</td>\n",
              "      <td>20181122</td>\n",
              "      <td>2249427486</td>\n",
              "      <td>20200430</td>\n",
              "      <td>128970.00</td>\n",
              "      <td>10</td>\n",
              "      <td>2020-04-30</td>\n",
              "      <td>2018-11-22</td>\n",
              "    </tr>\n",
              "    <tr>\n",
              "      <th>1</th>\n",
              "      <td>67A9CBA3-FDC3-E811-90F9-00155D619647</td>\n",
              "      <td>20181122</td>\n",
              "      <td>2249427729</td>\n",
              "      <td>20200430</td>\n",
              "      <td>128970.00</td>\n",
              "      <td>10</td>\n",
              "      <td>2020-04-30</td>\n",
              "      <td>2018-11-22</td>\n",
              "    </tr>\n",
              "    <tr>\n",
              "      <th>2</th>\n",
              "      <td>67A9CBA3-FDC3-E811-90F9-00155D619647</td>\n",
              "      <td>20181122</td>\n",
              "      <td>2249908620</td>\n",
              "      <td>20200514</td>\n",
              "      <td>122091.00</td>\n",
              "      <td>9</td>\n",
              "      <td>2020-05-14</td>\n",
              "      <td>2018-11-22</td>\n",
              "    </tr>\n",
              "    <tr>\n",
              "      <th>3</th>\n",
              "      <td>67A9CBA3-FDC3-E811-90F9-00155D619647</td>\n",
              "      <td>20181122</td>\n",
              "      <td>2248612580</td>\n",
              "      <td>20200415</td>\n",
              "      <td>118670.00</td>\n",
              "      <td>30</td>\n",
              "      <td>2020-04-15</td>\n",
              "      <td>2018-11-22</td>\n",
              "    </tr>\n",
              "    <tr>\n",
              "      <th>4</th>\n",
              "      <td>5606F992-F6CA-E911-80CB-00155D61134E</td>\n",
              "      <td>20191023</td>\n",
              "      <td>2249010961</td>\n",
              "      <td>20200421</td>\n",
              "      <td>103494.99</td>\n",
              "      <td>15</td>\n",
              "      <td>2020-04-21</td>\n",
              "      <td>2019-10-23</td>\n",
              "    </tr>\n",
              "  </tbody>\n",
              "</table>\n",
              "</div>"
            ],
            "text/plain": [
              "                                User_ID  SignUp_Date  ...   DateTime  SignUp_DateTime\n",
              "0  67A9CBA3-FDC3-E811-90F9-00155D619647     20181122  ... 2020-04-30       2018-11-22\n",
              "1  67A9CBA3-FDC3-E811-90F9-00155D619647     20181122  ... 2020-04-30       2018-11-22\n",
              "2  67A9CBA3-FDC3-E811-90F9-00155D619647     20181122  ... 2020-05-14       2018-11-22\n",
              "3  67A9CBA3-FDC3-E811-90F9-00155D619647     20181122  ... 2020-04-15       2018-11-22\n",
              "4  5606F992-F6CA-E911-80CB-00155D61134E     20191023  ... 2020-04-21       2019-10-23\n",
              "\n",
              "[5 rows x 8 columns]"
            ]
          },
          "metadata": {
            "tags": []
          },
          "execution_count": 8
        }
      ]
    },
    {
      "cell_type": "code",
      "metadata": {
        "id": "cxMG8Zzdxhax",
        "colab_type": "code",
        "outputId": "b9628832-139c-40f9-deb7-8d6422ca5274",
        "colab": {
          "base_uri": "https://localhost:8080/",
          "height": 276
        }
      },
      "source": [
        "projectData.info()"
      ],
      "execution_count": 0,
      "outputs": [
        {
          "output_type": "stream",
          "text": [
            "<class 'pandas.core.frame.DataFrame'>\n",
            "RangeIndex: 179261 entries, 0 to 179260\n",
            "Data columns (total 8 columns):\n",
            " #   Column           Non-Null Count   Dtype         \n",
            "---  ------           --------------   -----         \n",
            " 0   User_ID          179261 non-null  object        \n",
            " 1   SignUp_Date      179261 non-null  int64         \n",
            " 2   Transaction_ID   179261 non-null  object        \n",
            " 3   Date             179261 non-null  int64         \n",
            " 4   Revenue          179261 non-null  float64       \n",
            " 5   Quantity         179261 non-null  int64         \n",
            " 6   DateTime         179261 non-null  datetime64[ns]\n",
            " 7   SignUp_DateTime  179261 non-null  datetime64[ns]\n",
            "dtypes: datetime64[ns](2), float64(1), int64(3), object(2)\n",
            "memory usage: 10.9+ MB\n"
          ],
          "name": "stdout"
        }
      ]
    },
    {
      "cell_type": "code",
      "metadata": {
        "id": "EuKiPcHWxmEv",
        "colab_type": "code",
        "outputId": "cd6008f5-9bec-43a1-d0d5-0b1ef6f9f75c",
        "colab": {
          "base_uri": "https://localhost:8080/",
          "height": 173
        }
      },
      "source": [
        "projectData.nunique()"
      ],
      "execution_count": 0,
      "outputs": [
        {
          "output_type": "execute_result",
          "data": {
            "text/plain": [
              "User_ID            143728\n",
              "SignUp_Date           551\n",
              "Transaction_ID     178819\n",
              "Date                  150\n",
              "Revenue             13529\n",
              "Quantity               37\n",
              "DateTime              150\n",
              "SignUp_DateTime       551\n",
              "dtype: int64"
            ]
          },
          "metadata": {
            "tags": []
          },
          "execution_count": 10
        }
      ]
    },
    {
      "cell_type": "code",
      "metadata": {
        "id": "MDOEmcL8xn94",
        "colab_type": "code",
        "outputId": "8ed2c2e4-552d-454e-d6c2-013974fb5b4b",
        "colab": {
          "base_uri": "https://localhost:8080/",
          "height": 288
        }
      },
      "source": [
        "projectData.describe()"
      ],
      "execution_count": 0,
      "outputs": [
        {
          "output_type": "execute_result",
          "data": {
            "text/html": [
              "<div>\n",
              "<style scoped>\n",
              "    .dataframe tbody tr th:only-of-type {\n",
              "        vertical-align: middle;\n",
              "    }\n",
              "\n",
              "    .dataframe tbody tr th {\n",
              "        vertical-align: top;\n",
              "    }\n",
              "\n",
              "    .dataframe thead th {\n",
              "        text-align: right;\n",
              "    }\n",
              "</style>\n",
              "<table border=\"1\" class=\"dataframe\">\n",
              "  <thead>\n",
              "    <tr style=\"text-align: right;\">\n",
              "      <th></th>\n",
              "      <th>SignUp_Date</th>\n",
              "      <th>Date</th>\n",
              "      <th>Revenue</th>\n",
              "      <th>Quantity</th>\n",
              "    </tr>\n",
              "  </thead>\n",
              "  <tbody>\n",
              "    <tr>\n",
              "      <th>count</th>\n",
              "      <td>1.792610e+05</td>\n",
              "      <td>1.792610e+05</td>\n",
              "      <td>179261.000000</td>\n",
              "      <td>179261.000000</td>\n",
              "    </tr>\n",
              "    <tr>\n",
              "      <th>mean</th>\n",
              "      <td>2.019537e+07</td>\n",
              "      <td>2.020040e+07</td>\n",
              "      <td>2205.070735</td>\n",
              "      <td>1.392645</td>\n",
              "    </tr>\n",
              "    <tr>\n",
              "      <th>std</th>\n",
              "      <td>7.959716e+03</td>\n",
              "      <td>1.149898e+02</td>\n",
              "      <td>3271.647456</td>\n",
              "      <td>1.370745</td>\n",
              "    </tr>\n",
              "    <tr>\n",
              "      <th>min</th>\n",
              "      <td>2.018112e+07</td>\n",
              "      <td>2.020010e+07</td>\n",
              "      <td>0.000000</td>\n",
              "      <td>0.000000</td>\n",
              "    </tr>\n",
              "    <tr>\n",
              "      <th>25%</th>\n",
              "      <td>2.019073e+07</td>\n",
              "      <td>2.020033e+07</td>\n",
              "      <td>219.000000</td>\n",
              "      <td>1.000000</td>\n",
              "    </tr>\n",
              "    <tr>\n",
              "      <th>50%</th>\n",
              "      <td>2.020040e+07</td>\n",
              "      <td>2.020042e+07</td>\n",
              "      <td>1049.000000</td>\n",
              "      <td>1.000000</td>\n",
              "    </tr>\n",
              "    <tr>\n",
              "      <th>75%</th>\n",
              "      <td>2.020043e+07</td>\n",
              "      <td>2.020051e+07</td>\n",
              "      <td>3099.000000</td>\n",
              "      <td>1.000000</td>\n",
              "    </tr>\n",
              "    <tr>\n",
              "      <th>max</th>\n",
              "      <td>2.020053e+07</td>\n",
              "      <td>2.020053e+07</td>\n",
              "      <td>128970.000000</td>\n",
              "      <td>80.000000</td>\n",
              "    </tr>\n",
              "  </tbody>\n",
              "</table>\n",
              "</div>"
            ],
            "text/plain": [
              "        SignUp_Date          Date        Revenue       Quantity\n",
              "count  1.792610e+05  1.792610e+05  179261.000000  179261.000000\n",
              "mean   2.019537e+07  2.020040e+07    2205.070735       1.392645\n",
              "std    7.959716e+03  1.149898e+02    3271.647456       1.370745\n",
              "min    2.018112e+07  2.020010e+07       0.000000       0.000000\n",
              "25%    2.019073e+07  2.020033e+07     219.000000       1.000000\n",
              "50%    2.020040e+07  2.020042e+07    1049.000000       1.000000\n",
              "75%    2.020043e+07  2.020051e+07    3099.000000       1.000000\n",
              "max    2.020053e+07  2.020053e+07  128970.000000      80.000000"
            ]
          },
          "metadata": {
            "tags": []
          },
          "execution_count": 11
        }
      ]
    },
    {
      "cell_type": "code",
      "metadata": {
        "id": "Z98u2sAIxvaC",
        "colab_type": "code",
        "outputId": "df06af9b-dce2-4563-d57f-31f688ccfc39",
        "colab": {
          "base_uri": "https://localhost:8080/",
          "height": 173
        }
      },
      "source": [
        "projectData.isnull().sum()"
      ],
      "execution_count": 0,
      "outputs": [
        {
          "output_type": "execute_result",
          "data": {
            "text/plain": [
              "User_ID            0\n",
              "SignUp_Date        0\n",
              "Transaction_ID     0\n",
              "Date               0\n",
              "Revenue            0\n",
              "Quantity           0\n",
              "DateTime           0\n",
              "SignUp_DateTime    0\n",
              "dtype: int64"
            ]
          },
          "metadata": {
            "tags": []
          },
          "execution_count": 12
        }
      ]
    },
    {
      "cell_type": "code",
      "metadata": {
        "id": "TSOOSZhajIy6",
        "colab_type": "code",
        "colab": {}
      },
      "source": [
        "projectData_SignUpDate = projectData[['User_ID','SignUp_Date']]\n",
        "projectData_SignUpDate=projectData_SignUpDate.drop_duplicates()"
      ],
      "execution_count": 0,
      "outputs": []
    },
    {
      "cell_type": "code",
      "metadata": {
        "id": "yQqILvB4kT8G",
        "colab_type": "code",
        "outputId": "3f1c76ea-19b9-44f6-b905-5ff5ea0e0bf3",
        "colab": {
          "base_uri": "https://localhost:8080/",
          "height": 198
        }
      },
      "source": [
        "projectData_SignUpDate.head()"
      ],
      "execution_count": 0,
      "outputs": [
        {
          "output_type": "execute_result",
          "data": {
            "text/html": [
              "<div>\n",
              "<style scoped>\n",
              "    .dataframe tbody tr th:only-of-type {\n",
              "        vertical-align: middle;\n",
              "    }\n",
              "\n",
              "    .dataframe tbody tr th {\n",
              "        vertical-align: top;\n",
              "    }\n",
              "\n",
              "    .dataframe thead th {\n",
              "        text-align: right;\n",
              "    }\n",
              "</style>\n",
              "<table border=\"1\" class=\"dataframe\">\n",
              "  <thead>\n",
              "    <tr style=\"text-align: right;\">\n",
              "      <th></th>\n",
              "      <th>User_ID</th>\n",
              "      <th>SignUp_Date</th>\n",
              "    </tr>\n",
              "  </thead>\n",
              "  <tbody>\n",
              "    <tr>\n",
              "      <th>0</th>\n",
              "      <td>67A9CBA3-FDC3-E811-90F9-00155D619647</td>\n",
              "      <td>20181122</td>\n",
              "    </tr>\n",
              "    <tr>\n",
              "      <th>4</th>\n",
              "      <td>5606F992-F6CA-E911-80CB-00155D61134E</td>\n",
              "      <td>20191023</td>\n",
              "    </tr>\n",
              "    <tr>\n",
              "      <th>6</th>\n",
              "      <td>C069BAC5-01C4-E811-90F9-00155D619647</td>\n",
              "      <td>20181122</td>\n",
              "    </tr>\n",
              "    <tr>\n",
              "      <th>8</th>\n",
              "      <td>4332E3E1-B203-EA11-80CC-00155D61134E</td>\n",
              "      <td>20191110</td>\n",
              "    </tr>\n",
              "    <tr>\n",
              "      <th>10</th>\n",
              "      <td>69CDE97A-F0C6-E811-90F9-00155D619647</td>\n",
              "      <td>20200410</td>\n",
              "    </tr>\n",
              "  </tbody>\n",
              "</table>\n",
              "</div>"
            ],
            "text/plain": [
              "                                 User_ID  SignUp_Date\n",
              "0   67A9CBA3-FDC3-E811-90F9-00155D619647     20181122\n",
              "4   5606F992-F6CA-E911-80CB-00155D61134E     20191023\n",
              "6   C069BAC5-01C4-E811-90F9-00155D619647     20181122\n",
              "8   4332E3E1-B203-EA11-80CC-00155D61134E     20191110\n",
              "10  69CDE97A-F0C6-E811-90F9-00155D619647     20200410"
            ]
          },
          "metadata": {
            "tags": []
          },
          "execution_count": 14
        }
      ]
    },
    {
      "cell_type": "code",
      "metadata": {
        "id": "NeQla4ROxxP2",
        "colab_type": "code",
        "colab": {}
      },
      "source": [
        "projectData_RFM = projectData[['User_ID','DateTime','Transaction_ID','Quantity','Revenue']]"
      ],
      "execution_count": 0,
      "outputs": []
    },
    {
      "cell_type": "code",
      "metadata": {
        "id": "HdqtmB4Gx7SR",
        "colab_type": "code",
        "outputId": "6b51b12d-1f02-41dc-d31c-0e3cebb42d7f",
        "colab": {
          "base_uri": "https://localhost:8080/",
          "height": 198
        }
      },
      "source": [
        "projectData_RFM.head()"
      ],
      "execution_count": 0,
      "outputs": [
        {
          "output_type": "execute_result",
          "data": {
            "text/html": [
              "<div>\n",
              "<style scoped>\n",
              "    .dataframe tbody tr th:only-of-type {\n",
              "        vertical-align: middle;\n",
              "    }\n",
              "\n",
              "    .dataframe tbody tr th {\n",
              "        vertical-align: top;\n",
              "    }\n",
              "\n",
              "    .dataframe thead th {\n",
              "        text-align: right;\n",
              "    }\n",
              "</style>\n",
              "<table border=\"1\" class=\"dataframe\">\n",
              "  <thead>\n",
              "    <tr style=\"text-align: right;\">\n",
              "      <th></th>\n",
              "      <th>User_ID</th>\n",
              "      <th>DateTime</th>\n",
              "      <th>Transaction_ID</th>\n",
              "      <th>Quantity</th>\n",
              "      <th>Revenue</th>\n",
              "    </tr>\n",
              "  </thead>\n",
              "  <tbody>\n",
              "    <tr>\n",
              "      <th>0</th>\n",
              "      <td>67A9CBA3-FDC3-E811-90F9-00155D619647</td>\n",
              "      <td>2020-04-30</td>\n",
              "      <td>2249427486</td>\n",
              "      <td>10</td>\n",
              "      <td>128970.00</td>\n",
              "    </tr>\n",
              "    <tr>\n",
              "      <th>1</th>\n",
              "      <td>67A9CBA3-FDC3-E811-90F9-00155D619647</td>\n",
              "      <td>2020-04-30</td>\n",
              "      <td>2249427729</td>\n",
              "      <td>10</td>\n",
              "      <td>128970.00</td>\n",
              "    </tr>\n",
              "    <tr>\n",
              "      <th>2</th>\n",
              "      <td>67A9CBA3-FDC3-E811-90F9-00155D619647</td>\n",
              "      <td>2020-05-14</td>\n",
              "      <td>2249908620</td>\n",
              "      <td>9</td>\n",
              "      <td>122091.00</td>\n",
              "    </tr>\n",
              "    <tr>\n",
              "      <th>3</th>\n",
              "      <td>67A9CBA3-FDC3-E811-90F9-00155D619647</td>\n",
              "      <td>2020-04-15</td>\n",
              "      <td>2248612580</td>\n",
              "      <td>30</td>\n",
              "      <td>118670.00</td>\n",
              "    </tr>\n",
              "    <tr>\n",
              "      <th>4</th>\n",
              "      <td>5606F992-F6CA-E911-80CB-00155D61134E</td>\n",
              "      <td>2020-04-21</td>\n",
              "      <td>2249010961</td>\n",
              "      <td>15</td>\n",
              "      <td>103494.99</td>\n",
              "    </tr>\n",
              "  </tbody>\n",
              "</table>\n",
              "</div>"
            ],
            "text/plain": [
              "                                User_ID   DateTime  ... Quantity    Revenue\n",
              "0  67A9CBA3-FDC3-E811-90F9-00155D619647 2020-04-30  ...       10  128970.00\n",
              "1  67A9CBA3-FDC3-E811-90F9-00155D619647 2020-04-30  ...       10  128970.00\n",
              "2  67A9CBA3-FDC3-E811-90F9-00155D619647 2020-05-14  ...        9  122091.00\n",
              "3  67A9CBA3-FDC3-E811-90F9-00155D619647 2020-04-15  ...       30  118670.00\n",
              "4  5606F992-F6CA-E911-80CB-00155D61134E 2020-04-21  ...       15  103494.99\n",
              "\n",
              "[5 rows x 5 columns]"
            ]
          },
          "metadata": {
            "tags": []
          },
          "execution_count": 16
        }
      ]
    },
    {
      "cell_type": "code",
      "metadata": {
        "id": "gL0YJzVDx825",
        "colab_type": "code",
        "outputId": "09b8d71a-b9eb-42a0-8d47-223ad0fd8bfa",
        "colab": {
          "base_uri": "https://localhost:8080/",
          "height": 121
        }
      },
      "source": [
        "projectData_RFM.nunique()"
      ],
      "execution_count": 0,
      "outputs": [
        {
          "output_type": "execute_result",
          "data": {
            "text/plain": [
              "User_ID           143728\n",
              "DateTime             150\n",
              "Transaction_ID    178819\n",
              "Quantity              37\n",
              "Revenue            13529\n",
              "dtype: int64"
            ]
          },
          "metadata": {
            "tags": []
          },
          "execution_count": 17
        }
      ]
    },
    {
      "cell_type": "code",
      "metadata": {
        "id": "1piAB-zcyBWB",
        "colab_type": "code",
        "outputId": "97c23d63-b716-479c-9d49-1bf6c5fcbaea",
        "colab": {
          "base_uri": "https://localhost:8080/",
          "height": 34
        }
      },
      "source": [
        "projectData_RFM['DateTime'].min(),projectData_RFM['DateTime'].max()\n"
      ],
      "execution_count": 0,
      "outputs": [
        {
          "output_type": "execute_result",
          "data": {
            "text/plain": [
              "(Timestamp('2020-01-01 00:00:00'), Timestamp('2020-05-29 00:00:00'))"
            ]
          },
          "metadata": {
            "tags": []
          },
          "execution_count": 18
        }
      ]
    },
    {
      "cell_type": "code",
      "metadata": {
        "id": "BsZXmRn1yHy6",
        "colab_type": "code",
        "colab": {}
      },
      "source": [
        "PRESENT = dt.datetime(2020,5,30)"
      ],
      "execution_count": 0,
      "outputs": []
    },
    {
      "cell_type": "code",
      "metadata": {
        "id": "qjI2qylAyQM0",
        "colab_type": "code",
        "colab": {}
      },
      "source": [
        "rfm= projectData_RFM.groupby('User_ID').agg({'DateTime': lambda date: (PRESENT - date.max()).days,\n",
        "                                        'Transaction_ID': lambda num: len(num),\n",
        "                                        'Revenue': lambda price: price.sum()})"
      ],
      "execution_count": 0,
      "outputs": []
    },
    {
      "cell_type": "code",
      "metadata": {
        "id": "7dJzScqEyXx-",
        "colab_type": "code",
        "outputId": "bf1633dd-71c5-4c63-e8fc-c2d1e47d86e9",
        "colab": {
          "base_uri": "https://localhost:8080/",
          "height": 228
        }
      },
      "source": [
        "rfm.head()"
      ],
      "execution_count": 0,
      "outputs": [
        {
          "output_type": "execute_result",
          "data": {
            "text/html": [
              "<div>\n",
              "<style scoped>\n",
              "    .dataframe tbody tr th:only-of-type {\n",
              "        vertical-align: middle;\n",
              "    }\n",
              "\n",
              "    .dataframe tbody tr th {\n",
              "        vertical-align: top;\n",
              "    }\n",
              "\n",
              "    .dataframe thead th {\n",
              "        text-align: right;\n",
              "    }\n",
              "</style>\n",
              "<table border=\"1\" class=\"dataframe\">\n",
              "  <thead>\n",
              "    <tr style=\"text-align: right;\">\n",
              "      <th></th>\n",
              "      <th>DateTime</th>\n",
              "      <th>Transaction_ID</th>\n",
              "      <th>Revenue</th>\n",
              "    </tr>\n",
              "    <tr>\n",
              "      <th>User_ID</th>\n",
              "      <th></th>\n",
              "      <th></th>\n",
              "      <th></th>\n",
              "    </tr>\n",
              "  </thead>\n",
              "  <tbody>\n",
              "    <tr>\n",
              "      <th>00000000-0000-0000-0000-000000000000</th>\n",
              "      <td>73</td>\n",
              "      <td>2</td>\n",
              "      <td>3558.3</td>\n",
              "    </tr>\n",
              "    <tr>\n",
              "      <th>0000279A-87C8-E811-90F9-00155D619647</th>\n",
              "      <td>78</td>\n",
              "      <td>1</td>\n",
              "      <td>137.4</td>\n",
              "    </tr>\n",
              "    <tr>\n",
              "      <th>00003B79-3370-EA11-80D3-00155D7CD320</th>\n",
              "      <td>64</td>\n",
              "      <td>1</td>\n",
              "      <td>4199.0</td>\n",
              "    </tr>\n",
              "    <tr>\n",
              "      <th>0000A4AF-1986-EA11-80D4-00155D7CD320</th>\n",
              "      <td>36</td>\n",
              "      <td>1</td>\n",
              "      <td>477.0</td>\n",
              "    </tr>\n",
              "    <tr>\n",
              "      <th>00010E76-A380-EA11-80CE-00155D61134E</th>\n",
              "      <td>43</td>\n",
              "      <td>1</td>\n",
              "      <td>184.9</td>\n",
              "    </tr>\n",
              "  </tbody>\n",
              "</table>\n",
              "</div>"
            ],
            "text/plain": [
              "                                      DateTime  Transaction_ID  Revenue\n",
              "User_ID                                                                \n",
              "00000000-0000-0000-0000-000000000000        73               2   3558.3\n",
              "0000279A-87C8-E811-90F9-00155D619647        78               1    137.4\n",
              "00003B79-3370-EA11-80D3-00155D7CD320        64               1   4199.0\n",
              "0000A4AF-1986-EA11-80D4-00155D7CD320        36               1    477.0\n",
              "00010E76-A380-EA11-80CE-00155D61134E        43               1    184.9"
            ]
          },
          "metadata": {
            "tags": []
          },
          "execution_count": 22
        }
      ]
    },
    {
      "cell_type": "code",
      "metadata": {
        "id": "yrIDLBCf4RJP",
        "colab_type": "code",
        "outputId": "a96e0ab6-a1a9-4cd3-b10c-6df2ec631dfb",
        "colab": {
          "base_uri": "https://localhost:8080/",
          "height": 86
        }
      },
      "source": [
        "rfm.nunique()"
      ],
      "execution_count": 0,
      "outputs": [
        {
          "output_type": "execute_result",
          "data": {
            "text/plain": [
              "DateTime            150\n",
              "Transaction_ID       91\n",
              "Revenue           18253\n",
              "dtype: int64"
            ]
          },
          "metadata": {
            "tags": []
          },
          "execution_count": 23
        }
      ]
    },
    {
      "cell_type": "code",
      "metadata": {
        "id": "UeYpVTx1yj7k",
        "colab_type": "code",
        "colab": {}
      },
      "source": [
        "rfm.columns=['recency','frequency','monetary']\n"
      ],
      "execution_count": 0,
      "outputs": []
    },
    {
      "cell_type": "code",
      "metadata": {
        "id": "6ZGMmC_FysUr",
        "colab_type": "code",
        "colab": {}
      },
      "source": [
        "rfm['monetary'] = rfm['monetary'].astype(int)\n",
        "rfm['frequency'] = rfm['frequency'].astype(float)\n"
      ],
      "execution_count": 0,
      "outputs": []
    },
    {
      "cell_type": "code",
      "metadata": {
        "id": "mBiVxiw4yuW7",
        "colab_type": "code",
        "outputId": "3782e845-aa69-472b-95d0-a517fe6bd89e",
        "colab": {
          "base_uri": "https://localhost:8080/",
          "height": 228
        }
      },
      "source": [
        "rfm.head()"
      ],
      "execution_count": 0,
      "outputs": [
        {
          "output_type": "execute_result",
          "data": {
            "text/html": [
              "<div>\n",
              "<style scoped>\n",
              "    .dataframe tbody tr th:only-of-type {\n",
              "        vertical-align: middle;\n",
              "    }\n",
              "\n",
              "    .dataframe tbody tr th {\n",
              "        vertical-align: top;\n",
              "    }\n",
              "\n",
              "    .dataframe thead th {\n",
              "        text-align: right;\n",
              "    }\n",
              "</style>\n",
              "<table border=\"1\" class=\"dataframe\">\n",
              "  <thead>\n",
              "    <tr style=\"text-align: right;\">\n",
              "      <th></th>\n",
              "      <th>recency</th>\n",
              "      <th>frequency</th>\n",
              "      <th>monetary</th>\n",
              "    </tr>\n",
              "    <tr>\n",
              "      <th>User_ID</th>\n",
              "      <th></th>\n",
              "      <th></th>\n",
              "      <th></th>\n",
              "    </tr>\n",
              "  </thead>\n",
              "  <tbody>\n",
              "    <tr>\n",
              "      <th>00000000-0000-0000-0000-000000000000</th>\n",
              "      <td>73</td>\n",
              "      <td>2.0</td>\n",
              "      <td>3558</td>\n",
              "    </tr>\n",
              "    <tr>\n",
              "      <th>0000279A-87C8-E811-90F9-00155D619647</th>\n",
              "      <td>78</td>\n",
              "      <td>1.0</td>\n",
              "      <td>137</td>\n",
              "    </tr>\n",
              "    <tr>\n",
              "      <th>00003B79-3370-EA11-80D3-00155D7CD320</th>\n",
              "      <td>64</td>\n",
              "      <td>1.0</td>\n",
              "      <td>4199</td>\n",
              "    </tr>\n",
              "    <tr>\n",
              "      <th>0000A4AF-1986-EA11-80D4-00155D7CD320</th>\n",
              "      <td>36</td>\n",
              "      <td>1.0</td>\n",
              "      <td>477</td>\n",
              "    </tr>\n",
              "    <tr>\n",
              "      <th>00010E76-A380-EA11-80CE-00155D61134E</th>\n",
              "      <td>43</td>\n",
              "      <td>1.0</td>\n",
              "      <td>184</td>\n",
              "    </tr>\n",
              "  </tbody>\n",
              "</table>\n",
              "</div>"
            ],
            "text/plain": [
              "                                      recency  frequency  monetary\n",
              "User_ID                                                           \n",
              "00000000-0000-0000-0000-000000000000       73        2.0      3558\n",
              "0000279A-87C8-E811-90F9-00155D619647       78        1.0       137\n",
              "00003B79-3370-EA11-80D3-00155D7CD320       64        1.0      4199\n",
              "0000A4AF-1986-EA11-80D4-00155D7CD320       36        1.0       477\n",
              "00010E76-A380-EA11-80CE-00155D61134E       43        1.0       184"
            ]
          },
          "metadata": {
            "tags": []
          },
          "execution_count": 26
        }
      ]
    },
    {
      "cell_type": "code",
      "metadata": {
        "id": "qU1zKeygyyOS",
        "colab_type": "code",
        "colab": {}
      },
      "source": [
        "rfm['r_quartile'] = pd.qcut(rfm['recency'], 4, ['4','3','2','1'])"
      ],
      "execution_count": 0,
      "outputs": []
    },
    {
      "cell_type": "code",
      "metadata": {
        "id": "X2hqCccoZHfn",
        "colab_type": "code",
        "colab": {}
      },
      "source": [
        "def pct_rank_qcut(series, n):\n",
        "    edges = pd.Series([float(i) / n for i in range(n + 1)])\n",
        "    f = lambda x: (edges >= x).argmax()\n",
        "    return series.rank(pct=1).apply(f)"
      ],
      "execution_count": 0,
      "outputs": []
    },
    {
      "cell_type": "code",
      "metadata": {
        "id": "S6BtutxRZKvx",
        "colab_type": "code",
        "colab": {}
      },
      "source": [
        "rfm['f_quartile'] = pct_rank_qcut(rfm['frequency'], 4)"
      ],
      "execution_count": 0,
      "outputs": []
    },
    {
      "cell_type": "code",
      "metadata": {
        "id": "T7iC2vBi0iwX",
        "colab_type": "code",
        "colab": {}
      },
      "source": [
        "rfm['m_quartile'] = pd.qcut(rfm['monetary'], 4, ['1','2','3','4'])"
      ],
      "execution_count": 0,
      "outputs": []
    },
    {
      "cell_type": "code",
      "metadata": {
        "id": "DeypyT1S0nYi",
        "colab_type": "code",
        "colab": {}
      },
      "source": [
        "#rfm['f_quartile'] = pd.qcut(rfm['frequency'], 4, ['4','3','2','1']) çalışmıyor %25 ve %50 aralıkları 1 olduğu için"
      ],
      "execution_count": 0,
      "outputs": []
    },
    {
      "cell_type": "code",
      "metadata": {
        "id": "WzTVdpVP3MdK",
        "colab_type": "code",
        "outputId": "978ebb48-9716-4483-f0db-9772f3c28a53",
        "colab": {
          "base_uri": "https://localhost:8080/",
          "height": 228
        }
      },
      "source": [
        "rfm.head()"
      ],
      "execution_count": 0,
      "outputs": [
        {
          "output_type": "execute_result",
          "data": {
            "text/html": [
              "<div>\n",
              "<style scoped>\n",
              "    .dataframe tbody tr th:only-of-type {\n",
              "        vertical-align: middle;\n",
              "    }\n",
              "\n",
              "    .dataframe tbody tr th {\n",
              "        vertical-align: top;\n",
              "    }\n",
              "\n",
              "    .dataframe thead th {\n",
              "        text-align: right;\n",
              "    }\n",
              "</style>\n",
              "<table border=\"1\" class=\"dataframe\">\n",
              "  <thead>\n",
              "    <tr style=\"text-align: right;\">\n",
              "      <th></th>\n",
              "      <th>recency</th>\n",
              "      <th>frequency</th>\n",
              "      <th>monetary</th>\n",
              "      <th>r_quartile</th>\n",
              "      <th>f_quartile</th>\n",
              "      <th>m_quartile</th>\n",
              "    </tr>\n",
              "    <tr>\n",
              "      <th>User_ID</th>\n",
              "      <th></th>\n",
              "      <th></th>\n",
              "      <th></th>\n",
              "      <th></th>\n",
              "      <th></th>\n",
              "      <th></th>\n",
              "    </tr>\n",
              "  </thead>\n",
              "  <tbody>\n",
              "    <tr>\n",
              "      <th>00000000-0000-0000-0000-000000000000</th>\n",
              "      <td>73</td>\n",
              "      <td>2.0</td>\n",
              "      <td>3558</td>\n",
              "      <td>1</td>\n",
              "      <td>4</td>\n",
              "      <td>4</td>\n",
              "    </tr>\n",
              "    <tr>\n",
              "      <th>0000279A-87C8-E811-90F9-00155D619647</th>\n",
              "      <td>78</td>\n",
              "      <td>1.0</td>\n",
              "      <td>137</td>\n",
              "      <td>1</td>\n",
              "      <td>2</td>\n",
              "      <td>1</td>\n",
              "    </tr>\n",
              "    <tr>\n",
              "      <th>00003B79-3370-EA11-80D3-00155D7CD320</th>\n",
              "      <td>64</td>\n",
              "      <td>1.0</td>\n",
              "      <td>4199</td>\n",
              "      <td>1</td>\n",
              "      <td>2</td>\n",
              "      <td>4</td>\n",
              "    </tr>\n",
              "    <tr>\n",
              "      <th>0000A4AF-1986-EA11-80D4-00155D7CD320</th>\n",
              "      <td>36</td>\n",
              "      <td>1.0</td>\n",
              "      <td>477</td>\n",
              "      <td>3</td>\n",
              "      <td>2</td>\n",
              "      <td>2</td>\n",
              "    </tr>\n",
              "    <tr>\n",
              "      <th>00010E76-A380-EA11-80CE-00155D61134E</th>\n",
              "      <td>43</td>\n",
              "      <td>1.0</td>\n",
              "      <td>184</td>\n",
              "      <td>2</td>\n",
              "      <td>2</td>\n",
              "      <td>1</td>\n",
              "    </tr>\n",
              "  </tbody>\n",
              "</table>\n",
              "</div>"
            ],
            "text/plain": [
              "                                      recency  frequency  ...  f_quartile m_quartile\n",
              "User_ID                                                   ...                       \n",
              "00000000-0000-0000-0000-000000000000       73        2.0  ...           4          4\n",
              "0000279A-87C8-E811-90F9-00155D619647       78        1.0  ...           2          1\n",
              "00003B79-3370-EA11-80D3-00155D7CD320       64        1.0  ...           2          4\n",
              "0000A4AF-1986-EA11-80D4-00155D7CD320       36        1.0  ...           2          2\n",
              "00010E76-A380-EA11-80CE-00155D61134E       43        1.0  ...           2          1\n",
              "\n",
              "[5 rows x 6 columns]"
            ]
          },
          "metadata": {
            "tags": []
          },
          "execution_count": 32
        }
      ]
    },
    {
      "cell_type": "code",
      "metadata": {
        "id": "6IHfCc5T0qMJ",
        "colab_type": "code",
        "colab": {}
      },
      "source": [
        "#def func(x):\n",
        " ### if x <= 10:\n",
        "  ##  return 1\n",
        "  #elif x <= "
      ],
      "execution_count": 0,
      "outputs": []
    },
    {
      "cell_type": "code",
      "metadata": {
        "id": "D6TKblvh8dQ6",
        "colab_type": "code",
        "outputId": "231e3c23-2fbc-4005-bca0-7073e9d89c70",
        "colab": {
          "base_uri": "https://localhost:8080/",
          "height": 228
        }
      },
      "source": [
        "rfm.head()"
      ],
      "execution_count": 0,
      "outputs": [
        {
          "output_type": "execute_result",
          "data": {
            "text/html": [
              "<div>\n",
              "<style scoped>\n",
              "    .dataframe tbody tr th:only-of-type {\n",
              "        vertical-align: middle;\n",
              "    }\n",
              "\n",
              "    .dataframe tbody tr th {\n",
              "        vertical-align: top;\n",
              "    }\n",
              "\n",
              "    .dataframe thead th {\n",
              "        text-align: right;\n",
              "    }\n",
              "</style>\n",
              "<table border=\"1\" class=\"dataframe\">\n",
              "  <thead>\n",
              "    <tr style=\"text-align: right;\">\n",
              "      <th></th>\n",
              "      <th>recency</th>\n",
              "      <th>frequency</th>\n",
              "      <th>monetary</th>\n",
              "      <th>r_quartile</th>\n",
              "      <th>f_quartile</th>\n",
              "      <th>m_quartile</th>\n",
              "    </tr>\n",
              "    <tr>\n",
              "      <th>User_ID</th>\n",
              "      <th></th>\n",
              "      <th></th>\n",
              "      <th></th>\n",
              "      <th></th>\n",
              "      <th></th>\n",
              "      <th></th>\n",
              "    </tr>\n",
              "  </thead>\n",
              "  <tbody>\n",
              "    <tr>\n",
              "      <th>00000000-0000-0000-0000-000000000000</th>\n",
              "      <td>73</td>\n",
              "      <td>2.0</td>\n",
              "      <td>3558</td>\n",
              "      <td>1</td>\n",
              "      <td>4</td>\n",
              "      <td>4</td>\n",
              "    </tr>\n",
              "    <tr>\n",
              "      <th>0000279A-87C8-E811-90F9-00155D619647</th>\n",
              "      <td>78</td>\n",
              "      <td>1.0</td>\n",
              "      <td>137</td>\n",
              "      <td>1</td>\n",
              "      <td>2</td>\n",
              "      <td>1</td>\n",
              "    </tr>\n",
              "    <tr>\n",
              "      <th>00003B79-3370-EA11-80D3-00155D7CD320</th>\n",
              "      <td>64</td>\n",
              "      <td>1.0</td>\n",
              "      <td>4199</td>\n",
              "      <td>1</td>\n",
              "      <td>2</td>\n",
              "      <td>4</td>\n",
              "    </tr>\n",
              "    <tr>\n",
              "      <th>0000A4AF-1986-EA11-80D4-00155D7CD320</th>\n",
              "      <td>36</td>\n",
              "      <td>1.0</td>\n",
              "      <td>477</td>\n",
              "      <td>3</td>\n",
              "      <td>2</td>\n",
              "      <td>2</td>\n",
              "    </tr>\n",
              "    <tr>\n",
              "      <th>00010E76-A380-EA11-80CE-00155D61134E</th>\n",
              "      <td>43</td>\n",
              "      <td>1.0</td>\n",
              "      <td>184</td>\n",
              "      <td>2</td>\n",
              "      <td>2</td>\n",
              "      <td>1</td>\n",
              "    </tr>\n",
              "  </tbody>\n",
              "</table>\n",
              "</div>"
            ],
            "text/plain": [
              "                                      recency  frequency  ...  f_quartile m_quartile\n",
              "User_ID                                                   ...                       \n",
              "00000000-0000-0000-0000-000000000000       73        2.0  ...           4          4\n",
              "0000279A-87C8-E811-90F9-00155D619647       78        1.0  ...           2          1\n",
              "00003B79-3370-EA11-80D3-00155D7CD320       64        1.0  ...           2          4\n",
              "0000A4AF-1986-EA11-80D4-00155D7CD320       36        1.0  ...           2          2\n",
              "00010E76-A380-EA11-80CE-00155D61134E       43        1.0  ...           2          1\n",
              "\n",
              "[5 rows x 6 columns]"
            ]
          },
          "metadata": {
            "tags": []
          },
          "execution_count": 34
        }
      ]
    },
    {
      "cell_type": "code",
      "metadata": {
        "id": "H9iCqf378l4H",
        "colab_type": "code",
        "outputId": "0c2a9599-4a6b-400d-e681-a8a6b0f6934d",
        "colab": {
          "base_uri": "https://localhost:8080/",
          "height": 315
        }
      },
      "source": [
        "rfm['RFM_Score'] = rfm.r_quartile.astype(str) + rfm.f_quartile.astype(str) + rfm.m_quartile.astype(str)\n",
        "rfm.head()"
      ],
      "execution_count": 0,
      "outputs": [
        {
          "output_type": "execute_result",
          "data": {
            "text/html": [
              "<div>\n",
              "<style scoped>\n",
              "    .dataframe tbody tr th:only-of-type {\n",
              "        vertical-align: middle;\n",
              "    }\n",
              "\n",
              "    .dataframe tbody tr th {\n",
              "        vertical-align: top;\n",
              "    }\n",
              "\n",
              "    .dataframe thead th {\n",
              "        text-align: right;\n",
              "    }\n",
              "</style>\n",
              "<table border=\"1\" class=\"dataframe\">\n",
              "  <thead>\n",
              "    <tr style=\"text-align: right;\">\n",
              "      <th></th>\n",
              "      <th>recency</th>\n",
              "      <th>frequency</th>\n",
              "      <th>monetary</th>\n",
              "      <th>r_quartile</th>\n",
              "      <th>f_quartile</th>\n",
              "      <th>m_quartile</th>\n",
              "      <th>RFM_Score</th>\n",
              "    </tr>\n",
              "    <tr>\n",
              "      <th>User_ID</th>\n",
              "      <th></th>\n",
              "      <th></th>\n",
              "      <th></th>\n",
              "      <th></th>\n",
              "      <th></th>\n",
              "      <th></th>\n",
              "      <th></th>\n",
              "    </tr>\n",
              "  </thead>\n",
              "  <tbody>\n",
              "    <tr>\n",
              "      <th>00000000-0000-0000-0000-000000000000</th>\n",
              "      <td>73</td>\n",
              "      <td>2.0</td>\n",
              "      <td>3558</td>\n",
              "      <td>1</td>\n",
              "      <td>4</td>\n",
              "      <td>4</td>\n",
              "      <td>144</td>\n",
              "    </tr>\n",
              "    <tr>\n",
              "      <th>0000279A-87C8-E811-90F9-00155D619647</th>\n",
              "      <td>78</td>\n",
              "      <td>1.0</td>\n",
              "      <td>137</td>\n",
              "      <td>1</td>\n",
              "      <td>2</td>\n",
              "      <td>1</td>\n",
              "      <td>121</td>\n",
              "    </tr>\n",
              "    <tr>\n",
              "      <th>00003B79-3370-EA11-80D3-00155D7CD320</th>\n",
              "      <td>64</td>\n",
              "      <td>1.0</td>\n",
              "      <td>4199</td>\n",
              "      <td>1</td>\n",
              "      <td>2</td>\n",
              "      <td>4</td>\n",
              "      <td>124</td>\n",
              "    </tr>\n",
              "    <tr>\n",
              "      <th>0000A4AF-1986-EA11-80D4-00155D7CD320</th>\n",
              "      <td>36</td>\n",
              "      <td>1.0</td>\n",
              "      <td>477</td>\n",
              "      <td>3</td>\n",
              "      <td>2</td>\n",
              "      <td>2</td>\n",
              "      <td>322</td>\n",
              "    </tr>\n",
              "    <tr>\n",
              "      <th>00010E76-A380-EA11-80CE-00155D61134E</th>\n",
              "      <td>43</td>\n",
              "      <td>1.0</td>\n",
              "      <td>184</td>\n",
              "      <td>2</td>\n",
              "      <td>2</td>\n",
              "      <td>1</td>\n",
              "      <td>221</td>\n",
              "    </tr>\n",
              "  </tbody>\n",
              "</table>\n",
              "</div>"
            ],
            "text/plain": [
              "                                      recency  frequency  ...  m_quartile RFM_Score\n",
              "User_ID                                                   ...                      \n",
              "00000000-0000-0000-0000-000000000000       73        2.0  ...           4       144\n",
              "0000279A-87C8-E811-90F9-00155D619647       78        1.0  ...           1       121\n",
              "00003B79-3370-EA11-80D3-00155D7CD320       64        1.0  ...           4       124\n",
              "0000A4AF-1986-EA11-80D4-00155D7CD320       36        1.0  ...           2       322\n",
              "00010E76-A380-EA11-80CE-00155D61134E       43        1.0  ...           1       221\n",
              "\n",
              "[5 rows x 7 columns]"
            ]
          },
          "metadata": {
            "tags": []
          },
          "execution_count": 35
        }
      ]
    },
    {
      "cell_type": "code",
      "metadata": {
        "id": "ybVH2eLoB96C",
        "colab_type": "code",
        "outputId": "244d210c-2e6a-4955-b067-6de6919c0eb7",
        "colab": {
          "base_uri": "https://localhost:8080/",
          "height": 315
        }
      },
      "source": [
        "# Filter out Top/Best cusotmers\n",
        "rfm[rfm['RFM_Score']=='444'].sort_values('monetary', ascending=False).head()"
      ],
      "execution_count": 0,
      "outputs": [
        {
          "output_type": "execute_result",
          "data": {
            "text/html": [
              "<div>\n",
              "<style scoped>\n",
              "    .dataframe tbody tr th:only-of-type {\n",
              "        vertical-align: middle;\n",
              "    }\n",
              "\n",
              "    .dataframe tbody tr th {\n",
              "        vertical-align: top;\n",
              "    }\n",
              "\n",
              "    .dataframe thead th {\n",
              "        text-align: right;\n",
              "    }\n",
              "</style>\n",
              "<table border=\"1\" class=\"dataframe\">\n",
              "  <thead>\n",
              "    <tr style=\"text-align: right;\">\n",
              "      <th></th>\n",
              "      <th>recency</th>\n",
              "      <th>frequency</th>\n",
              "      <th>monetary</th>\n",
              "      <th>r_quartile</th>\n",
              "      <th>f_quartile</th>\n",
              "      <th>m_quartile</th>\n",
              "      <th>RFM_Score</th>\n",
              "    </tr>\n",
              "    <tr>\n",
              "      <th>User_ID</th>\n",
              "      <th></th>\n",
              "      <th></th>\n",
              "      <th></th>\n",
              "      <th></th>\n",
              "      <th></th>\n",
              "      <th></th>\n",
              "      <th></th>\n",
              "    </tr>\n",
              "  </thead>\n",
              "  <tbody>\n",
              "    <tr>\n",
              "      <th>C069BAC5-01C4-E811-90F9-00155D619647</th>\n",
              "      <td>1</td>\n",
              "      <td>210.0</td>\n",
              "      <td>2807569</td>\n",
              "      <td>4</td>\n",
              "      <td>4</td>\n",
              "      <td>4</td>\n",
              "      <td>444</td>\n",
              "    </tr>\n",
              "    <tr>\n",
              "      <th>B0A19A45-D6D6-E911-80CC-00155D7CD320</th>\n",
              "      <td>1</td>\n",
              "      <td>297.0</td>\n",
              "      <td>2727999</td>\n",
              "      <td>4</td>\n",
              "      <td>4</td>\n",
              "      <td>4</td>\n",
              "      <td>444</td>\n",
              "    </tr>\n",
              "    <tr>\n",
              "      <th>A4B41362-16FB-E911-80D1-00155D7CD320</th>\n",
              "      <td>2</td>\n",
              "      <td>211.0</td>\n",
              "      <td>1738976</td>\n",
              "      <td>4</td>\n",
              "      <td>4</td>\n",
              "      <td>4</td>\n",
              "      <td>444</td>\n",
              "    </tr>\n",
              "    <tr>\n",
              "      <th>86417C10-026E-EA11-80D3-00155D7CD320</th>\n",
              "      <td>1</td>\n",
              "      <td>153.0</td>\n",
              "      <td>1553128</td>\n",
              "      <td>4</td>\n",
              "      <td>4</td>\n",
              "      <td>4</td>\n",
              "      <td>444</td>\n",
              "    </tr>\n",
              "    <tr>\n",
              "      <th>C146B462-F0AF-E911-80CB-00155D61134E</th>\n",
              "      <td>2</td>\n",
              "      <td>120.0</td>\n",
              "      <td>1318382</td>\n",
              "      <td>4</td>\n",
              "      <td>4</td>\n",
              "      <td>4</td>\n",
              "      <td>444</td>\n",
              "    </tr>\n",
              "  </tbody>\n",
              "</table>\n",
              "</div>"
            ],
            "text/plain": [
              "                                      recency  frequency  ...  m_quartile RFM_Score\n",
              "User_ID                                                   ...                      \n",
              "C069BAC5-01C4-E811-90F9-00155D619647        1      210.0  ...           4       444\n",
              "B0A19A45-D6D6-E911-80CC-00155D7CD320        1      297.0  ...           4       444\n",
              "A4B41362-16FB-E911-80D1-00155D7CD320        2      211.0  ...           4       444\n",
              "86417C10-026E-EA11-80D3-00155D7CD320        1      153.0  ...           4       444\n",
              "C146B462-F0AF-E911-80CB-00155D61134E        2      120.0  ...           4       444\n",
              "\n",
              "[5 rows x 7 columns]"
            ]
          },
          "metadata": {
            "tags": []
          },
          "execution_count": 36
        }
      ]
    },
    {
      "cell_type": "code",
      "metadata": {
        "id": "vUeG_uXSfzPq",
        "colab_type": "code",
        "outputId": "d838e917-4c5a-4b7a-82b3-353a1b93ffb0",
        "colab": {
          "base_uri": "https://localhost:8080/",
          "height": 477
        }
      },
      "source": [
        "RFM_with_SignUpDate = rfm.merge(projectData_SignUpDate,on = \"User_ID\", how= \"left\", )\n",
        "RFM_with_SignUpDate.head(5)"
      ],
      "execution_count": 0,
      "outputs": [
        {
          "output_type": "execute_result",
          "data": {
            "text/html": [
              "<div>\n",
              "<style scoped>\n",
              "    .dataframe tbody tr th:only-of-type {\n",
              "        vertical-align: middle;\n",
              "    }\n",
              "\n",
              "    .dataframe tbody tr th {\n",
              "        vertical-align: top;\n",
              "    }\n",
              "\n",
              "    .dataframe thead th {\n",
              "        text-align: right;\n",
              "    }\n",
              "</style>\n",
              "<table border=\"1\" class=\"dataframe\">\n",
              "  <thead>\n",
              "    <tr style=\"text-align: right;\">\n",
              "      <th></th>\n",
              "      <th>User_ID</th>\n",
              "      <th>recency</th>\n",
              "      <th>frequency</th>\n",
              "      <th>monetary</th>\n",
              "      <th>r_quartile</th>\n",
              "      <th>f_quartile</th>\n",
              "      <th>m_quartile</th>\n",
              "      <th>RFM_Score</th>\n",
              "      <th>SignUp_Date</th>\n",
              "    </tr>\n",
              "  </thead>\n",
              "  <tbody>\n",
              "    <tr>\n",
              "      <th>0</th>\n",
              "      <td>00000000-0000-0000-0000-000000000000</td>\n",
              "      <td>73</td>\n",
              "      <td>2.0</td>\n",
              "      <td>3558</td>\n",
              "      <td>1</td>\n",
              "      <td>4</td>\n",
              "      <td>4</td>\n",
              "      <td>144</td>\n",
              "      <td>20181122</td>\n",
              "    </tr>\n",
              "    <tr>\n",
              "      <th>1</th>\n",
              "      <td>0000279A-87C8-E811-90F9-00155D619647</td>\n",
              "      <td>78</td>\n",
              "      <td>1.0</td>\n",
              "      <td>137</td>\n",
              "      <td>1</td>\n",
              "      <td>2</td>\n",
              "      <td>1</td>\n",
              "      <td>121</td>\n",
              "      <td>20181122</td>\n",
              "    </tr>\n",
              "    <tr>\n",
              "      <th>2</th>\n",
              "      <td>00003B79-3370-EA11-80D3-00155D7CD320</td>\n",
              "      <td>64</td>\n",
              "      <td>1.0</td>\n",
              "      <td>4199</td>\n",
              "      <td>1</td>\n",
              "      <td>2</td>\n",
              "      <td>4</td>\n",
              "      <td>124</td>\n",
              "      <td>20200327</td>\n",
              "    </tr>\n",
              "    <tr>\n",
              "      <th>3</th>\n",
              "      <td>0000A4AF-1986-EA11-80D4-00155D7CD320</td>\n",
              "      <td>36</td>\n",
              "      <td>1.0</td>\n",
              "      <td>477</td>\n",
              "      <td>3</td>\n",
              "      <td>2</td>\n",
              "      <td>2</td>\n",
              "      <td>322</td>\n",
              "      <td>20200424</td>\n",
              "    </tr>\n",
              "    <tr>\n",
              "      <th>4</th>\n",
              "      <td>00010E76-A380-EA11-80CE-00155D61134E</td>\n",
              "      <td>43</td>\n",
              "      <td>1.0</td>\n",
              "      <td>184</td>\n",
              "      <td>2</td>\n",
              "      <td>2</td>\n",
              "      <td>1</td>\n",
              "      <td>221</td>\n",
              "      <td>20200417</td>\n",
              "    </tr>\n",
              "  </tbody>\n",
              "</table>\n",
              "</div>"
            ],
            "text/plain": [
              "                                User_ID  recency  ...  RFM_Score  SignUp_Date\n",
              "0  00000000-0000-0000-0000-000000000000       73  ...        144     20181122\n",
              "1  0000279A-87C8-E811-90F9-00155D619647       78  ...        121     20181122\n",
              "2  00003B79-3370-EA11-80D3-00155D7CD320       64  ...        124     20200327\n",
              "3  0000A4AF-1986-EA11-80D4-00155D7CD320       36  ...        322     20200424\n",
              "4  00010E76-A380-EA11-80CE-00155D61134E       43  ...        221     20200417\n",
              "\n",
              "[5 rows x 9 columns]"
            ]
          },
          "metadata": {
            "tags": []
          },
          "execution_count": 37
        }
      ]
    },
    {
      "cell_type": "code",
      "metadata": {
        "id": "TNYykfJFCPlG",
        "colab_type": "code",
        "colab": {}
      },
      "source": [
        "from google.colab import files\n",
        "rfm.to_csv(path_or_buf='/content/signUp_RFMTeknosa.csv')"
      ],
      "execution_count": 0,
      "outputs": []
    },
    {
      "cell_type": "code",
      "metadata": {
        "id": "Yghxry06FvOj",
        "colab_type": "code",
        "colab": {}
      },
      "source": [
        "files.download('/content/signUp_RFMTeknosa.csv')"
      ],
      "execution_count": 0,
      "outputs": []
    },
    {
      "cell_type": "code",
      "metadata": {
        "id": "eUggXEsYGS9v",
        "colab_type": "code",
        "outputId": "2db98776-1c5e-436a-e498-fc47f8f88fb9",
        "colab": {
          "base_uri": "https://localhost:8080/",
          "height": 288
        }
      },
      "source": [
        "RFM_with_SignUpDate.describe()"
      ],
      "execution_count": 0,
      "outputs": [
        {
          "output_type": "execute_result",
          "data": {
            "text/html": [
              "<div>\n",
              "<style scoped>\n",
              "    .dataframe tbody tr th:only-of-type {\n",
              "        vertical-align: middle;\n",
              "    }\n",
              "\n",
              "    .dataframe tbody tr th {\n",
              "        vertical-align: top;\n",
              "    }\n",
              "\n",
              "    .dataframe thead th {\n",
              "        text-align: right;\n",
              "    }\n",
              "</style>\n",
              "<table border=\"1\" class=\"dataframe\">\n",
              "  <thead>\n",
              "    <tr style=\"text-align: right;\">\n",
              "      <th></th>\n",
              "      <th>recency</th>\n",
              "      <th>frequency</th>\n",
              "      <th>monetary</th>\n",
              "      <th>f_quartile</th>\n",
              "      <th>SignUp_Date</th>\n",
              "    </tr>\n",
              "  </thead>\n",
              "  <tbody>\n",
              "    <tr>\n",
              "      <th>count</th>\n",
              "      <td>143828.000000</td>\n",
              "      <td>143828.000000</td>\n",
              "      <td>1.438280e+05</td>\n",
              "      <td>143828.000000</td>\n",
              "      <td>1.438280e+05</td>\n",
              "    </tr>\n",
              "    <tr>\n",
              "      <th>mean</th>\n",
              "      <td>47.353818</td>\n",
              "      <td>1.257613</td>\n",
              "      <td>2.805010e+03</td>\n",
              "      <td>2.224504</td>\n",
              "      <td>2.019642e+07</td>\n",
              "    </tr>\n",
              "    <tr>\n",
              "      <th>std</th>\n",
              "      <td>34.013593</td>\n",
              "      <td>3.124631</td>\n",
              "      <td>1.763242e+04</td>\n",
              "      <td>0.631355</td>\n",
              "      <td>7.379618e+03</td>\n",
              "    </tr>\n",
              "    <tr>\n",
              "      <th>min</th>\n",
              "      <td>1.000000</td>\n",
              "      <td>1.000000</td>\n",
              "      <td>1.000000e+00</td>\n",
              "      <td>2.000000</td>\n",
              "      <td>2.018112e+07</td>\n",
              "    </tr>\n",
              "    <tr>\n",
              "      <th>25%</th>\n",
              "      <td>23.000000</td>\n",
              "      <td>1.000000</td>\n",
              "      <td>2.180000e+02</td>\n",
              "      <td>2.000000</td>\n",
              "      <td>2.020011e+07</td>\n",
              "    </tr>\n",
              "    <tr>\n",
              "      <th>50%</th>\n",
              "      <td>40.000000</td>\n",
              "      <td>1.000000</td>\n",
              "      <td>9.990000e+02</td>\n",
              "      <td>2.000000</td>\n",
              "      <td>2.020041e+07</td>\n",
              "    </tr>\n",
              "    <tr>\n",
              "      <th>75%</th>\n",
              "      <td>60.000000</td>\n",
              "      <td>1.000000</td>\n",
              "      <td>3.248000e+03</td>\n",
              "      <td>2.000000</td>\n",
              "      <td>2.020043e+07</td>\n",
              "    </tr>\n",
              "    <tr>\n",
              "      <th>max</th>\n",
              "      <td>150.000000</td>\n",
              "      <td>563.000000</td>\n",
              "      <td>2.807569e+06</td>\n",
              "      <td>4.000000</td>\n",
              "      <td>2.020053e+07</td>\n",
              "    </tr>\n",
              "  </tbody>\n",
              "</table>\n",
              "</div>"
            ],
            "text/plain": [
              "             recency      frequency      monetary     f_quartile   SignUp_Date\n",
              "count  143828.000000  143828.000000  1.438280e+05  143828.000000  1.438280e+05\n",
              "mean       47.353818       1.257613  2.805010e+03       2.224504  2.019642e+07\n",
              "std        34.013593       3.124631  1.763242e+04       0.631355  7.379618e+03\n",
              "min         1.000000       1.000000  1.000000e+00       2.000000  2.018112e+07\n",
              "25%        23.000000       1.000000  2.180000e+02       2.000000  2.020011e+07\n",
              "50%        40.000000       1.000000  9.990000e+02       2.000000  2.020041e+07\n",
              "75%        60.000000       1.000000  3.248000e+03       2.000000  2.020043e+07\n",
              "max       150.000000     563.000000  2.807569e+06       4.000000  2.020053e+07"
            ]
          },
          "metadata": {
            "tags": []
          },
          "execution_count": 38
        }
      ]
    },
    {
      "cell_type": "code",
      "metadata": {
        "id": "ZI92Mi9BuU1M",
        "colab_type": "code",
        "colab": {}
      },
      "source": [
        " "
      ],
      "execution_count": 0,
      "outputs": []
    }
  ]
}